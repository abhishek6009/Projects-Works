{
 "cells": [
  {
   "cell_type": "markdown",
   "id": "f3aa5062",
   "metadata": {},
   "source": [
    "# Employee Attrition Prediction\n",
    "\n",
    "The dataset contains 28 features which are to be used for predicting the probability of whether an employee will leave the company or not. The features were part of three data files - one was collected by an employee survey, which measured job satisfaction and related factors. The second was a manager survey, which measured job involvement and performance rating of the employees. The final file was a General Data file with various details of the employees like Age, Travel Frequency, Department, etc.\n",
    "\n",
    "There were two other files which have not been included - these measured the punch-in and punch-out times of each employee over the entire year of 2015. It was a lot of complicated data which would unnecessarily add around 260 columns to our data, hence it has not been included.\n",
    "\n",
    "Source of Data - https://www.kaggle.com/vjchoudhary7/hr-analytics-case-study\n",
    "\n",
    "The data in the three included files has been combined into a single file, which will now be imported."
   ]
  },
  {
   "cell_type": "code",
   "execution_count": 1,
   "id": "aae3f007",
   "metadata": {},
   "outputs": [],
   "source": [
    "import pandas as pd\n",
    "import numpy as np\n",
    "import matplotlib.pyplot as plt\n",
    "import seaborn as sns"
   ]
  },
  {
   "cell_type": "code",
   "execution_count": 2,
   "id": "802aae52",
   "metadata": {},
   "outputs": [],
   "source": [
    "df1 = pd.read_csv('Employee_Attrition_Data.csv')"
   ]
  },
  {
   "cell_type": "code",
   "execution_count": 3,
   "id": "00a28992",
   "metadata": {},
   "outputs": [
    {
     "data": {
      "text/html": [
       "<div>\n",
       "<style scoped>\n",
       "    .dataframe tbody tr th:only-of-type {\n",
       "        vertical-align: middle;\n",
       "    }\n",
       "\n",
       "    .dataframe tbody tr th {\n",
       "        vertical-align: top;\n",
       "    }\n",
       "\n",
       "    .dataframe thead th {\n",
       "        text-align: right;\n",
       "    }\n",
       "</style>\n",
       "<table border=\"1\" class=\"dataframe\">\n",
       "  <thead>\n",
       "    <tr style=\"text-align: right;\">\n",
       "      <th></th>\n",
       "      <th>EmployeeID</th>\n",
       "      <th>EnvironmentSatisfaction</th>\n",
       "      <th>JobSatisfaction</th>\n",
       "      <th>WorkLifeBalance</th>\n",
       "      <th>JobInvolvement</th>\n",
       "      <th>PerformanceRating</th>\n",
       "      <th>Age</th>\n",
       "      <th>Attrition</th>\n",
       "      <th>BusinessTravel</th>\n",
       "      <th>Department</th>\n",
       "      <th>...</th>\n",
       "      <th>NumCompaniesWorked</th>\n",
       "      <th>Over18</th>\n",
       "      <th>PercentSalaryHike</th>\n",
       "      <th>StandardHours</th>\n",
       "      <th>StockOptionLevel</th>\n",
       "      <th>TotalWorkingYears</th>\n",
       "      <th>TrainingTimesLastYear</th>\n",
       "      <th>YearsAtCompany</th>\n",
       "      <th>YearsSinceLastPromotion</th>\n",
       "      <th>YearsWithCurrManager</th>\n",
       "    </tr>\n",
       "  </thead>\n",
       "  <tbody>\n",
       "    <tr>\n",
       "      <th>0</th>\n",
       "      <td>1</td>\n",
       "      <td>3.0</td>\n",
       "      <td>4.0</td>\n",
       "      <td>2.0</td>\n",
       "      <td>3</td>\n",
       "      <td>3</td>\n",
       "      <td>51</td>\n",
       "      <td>No</td>\n",
       "      <td>Travel_Rarely</td>\n",
       "      <td>Sales</td>\n",
       "      <td>...</td>\n",
       "      <td>1.0</td>\n",
       "      <td>Y</td>\n",
       "      <td>11</td>\n",
       "      <td>8</td>\n",
       "      <td>0</td>\n",
       "      <td>1.0</td>\n",
       "      <td>6</td>\n",
       "      <td>1</td>\n",
       "      <td>0</td>\n",
       "      <td>0</td>\n",
       "    </tr>\n",
       "    <tr>\n",
       "      <th>1</th>\n",
       "      <td>2</td>\n",
       "      <td>3.0</td>\n",
       "      <td>2.0</td>\n",
       "      <td>4.0</td>\n",
       "      <td>2</td>\n",
       "      <td>4</td>\n",
       "      <td>31</td>\n",
       "      <td>Yes</td>\n",
       "      <td>Travel_Frequently</td>\n",
       "      <td>Research &amp; Development</td>\n",
       "      <td>...</td>\n",
       "      <td>0.0</td>\n",
       "      <td>Y</td>\n",
       "      <td>23</td>\n",
       "      <td>8</td>\n",
       "      <td>1</td>\n",
       "      <td>6.0</td>\n",
       "      <td>3</td>\n",
       "      <td>5</td>\n",
       "      <td>1</td>\n",
       "      <td>4</td>\n",
       "    </tr>\n",
       "  </tbody>\n",
       "</table>\n",
       "<p>2 rows × 29 columns</p>\n",
       "</div>"
      ],
      "text/plain": [
       "   EmployeeID  EnvironmentSatisfaction  JobSatisfaction  WorkLifeBalance  \\\n",
       "0           1                      3.0              4.0              2.0   \n",
       "1           2                      3.0              2.0              4.0   \n",
       "\n",
       "   JobInvolvement  PerformanceRating  Age Attrition     BusinessTravel  \\\n",
       "0               3                  3   51        No      Travel_Rarely   \n",
       "1               2                  4   31       Yes  Travel_Frequently   \n",
       "\n",
       "               Department  ...  NumCompaniesWorked  Over18 PercentSalaryHike  \\\n",
       "0                   Sales  ...                 1.0       Y                11   \n",
       "1  Research & Development  ...                 0.0       Y                23   \n",
       "\n",
       "   StandardHours StockOptionLevel  TotalWorkingYears TrainingTimesLastYear  \\\n",
       "0              8                0                1.0                     6   \n",
       "1              8                1                6.0                     3   \n",
       "\n",
       "  YearsAtCompany  YearsSinceLastPromotion  YearsWithCurrManager  \n",
       "0              1                        0                     0  \n",
       "1              5                        1                     4  \n",
       "\n",
       "[2 rows x 29 columns]"
      ]
     },
     "execution_count": 3,
     "metadata": {},
     "output_type": "execute_result"
    }
   ],
   "source": [
    "df1.head(2)"
   ]
  },
  {
   "cell_type": "markdown",
   "id": "0d5693ee",
   "metadata": {},
   "source": [
    "## Data Preprocessing"
   ]
  },
  {
   "cell_type": "code",
   "execution_count": 4,
   "id": "e52273e6",
   "metadata": {},
   "outputs": [
    {
     "name": "stdout",
     "output_type": "stream",
     "text": [
      "<class 'pandas.core.frame.DataFrame'>\n",
      "RangeIndex: 4410 entries, 0 to 4409\n",
      "Data columns (total 29 columns):\n",
      " #   Column                   Non-Null Count  Dtype  \n",
      "---  ------                   --------------  -----  \n",
      " 0   EmployeeID               4410 non-null   int64  \n",
      " 1   EnvironmentSatisfaction  4385 non-null   float64\n",
      " 2   JobSatisfaction          4390 non-null   float64\n",
      " 3   WorkLifeBalance          4372 non-null   float64\n",
      " 4   JobInvolvement           4410 non-null   int64  \n",
      " 5   PerformanceRating        4410 non-null   int64  \n",
      " 6   Age                      4410 non-null   int64  \n",
      " 7   Attrition                4410 non-null   object \n",
      " 8   BusinessTravel           4410 non-null   object \n",
      " 9   Department               4410 non-null   object \n",
      " 10  DistanceFromHome         4410 non-null   int64  \n",
      " 11  Education                4410 non-null   int64  \n",
      " 12  EducationField           4410 non-null   object \n",
      " 13  EmployeeCount            4410 non-null   int64  \n",
      " 14  Gender                   4410 non-null   object \n",
      " 15  JobLevel                 4410 non-null   int64  \n",
      " 16  JobRole                  4410 non-null   object \n",
      " 17  MaritalStatus            4410 non-null   object \n",
      " 18  MonthlyIncome            4410 non-null   int64  \n",
      " 19  NumCompaniesWorked       4391 non-null   float64\n",
      " 20  Over18                   4410 non-null   object \n",
      " 21  PercentSalaryHike        4410 non-null   int64  \n",
      " 22  StandardHours            4410 non-null   int64  \n",
      " 23  StockOptionLevel         4410 non-null   int64  \n",
      " 24  TotalWorkingYears        4401 non-null   float64\n",
      " 25  TrainingTimesLastYear    4410 non-null   int64  \n",
      " 26  YearsAtCompany           4410 non-null   int64  \n",
      " 27  YearsSinceLastPromotion  4410 non-null   int64  \n",
      " 28  YearsWithCurrManager     4410 non-null   int64  \n",
      "dtypes: float64(5), int64(16), object(8)\n",
      "memory usage: 999.3+ KB\n"
     ]
    }
   ],
   "source": [
    "df1.info()"
   ]
  },
  {
   "cell_type": "markdown",
   "id": "02b381ac",
   "metadata": {},
   "source": [
    "### Missing values"
   ]
  },
  {
   "cell_type": "code",
   "execution_count": 5,
   "id": "2a403b01",
   "metadata": {},
   "outputs": [
    {
     "data": {
      "text/plain": [
       "EmployeeID                  0\n",
       "EnvironmentSatisfaction    25\n",
       "JobSatisfaction            20\n",
       "WorkLifeBalance            38\n",
       "JobInvolvement              0\n",
       "PerformanceRating           0\n",
       "Age                         0\n",
       "Attrition                   0\n",
       "BusinessTravel              0\n",
       "Department                  0\n",
       "DistanceFromHome            0\n",
       "Education                   0\n",
       "EducationField              0\n",
       "EmployeeCount               0\n",
       "Gender                      0\n",
       "JobLevel                    0\n",
       "JobRole                     0\n",
       "MaritalStatus               0\n",
       "MonthlyIncome               0\n",
       "NumCompaniesWorked         19\n",
       "Over18                      0\n",
       "PercentSalaryHike           0\n",
       "StandardHours               0\n",
       "StockOptionLevel            0\n",
       "TotalWorkingYears           9\n",
       "TrainingTimesLastYear       0\n",
       "YearsAtCompany              0\n",
       "YearsSinceLastPromotion     0\n",
       "YearsWithCurrManager        0\n",
       "dtype: int64"
      ]
     },
     "execution_count": 5,
     "metadata": {},
     "output_type": "execute_result"
    }
   ],
   "source": [
    "df1.isnull().sum()"
   ]
  },
  {
   "cell_type": "markdown",
   "id": "ba1f5124",
   "metadata": {},
   "source": [
    "All the columns with missing values have data that is integer-only. Using mean for missing values will create data that doesn't make much sense. For example, NumCompaniesWorked will not make sense with a decimal value. The same applies for other three columns with missing values. Hence, the median is used for imputing missing values."
   ]
  },
  {
   "cell_type": "code",
   "execution_count": 6,
   "id": "cfec6e48",
   "metadata": {},
   "outputs": [],
   "source": [
    "from sklearn.impute import SimpleImputer\n",
    "df_num = df1.select_dtypes(exclude='object')\n",
    "df_cat = df1.select_dtypes(include='object')\n",
    "si = SimpleImputer(strategy = 'median')\n",
    "df2=si.fit_transform(df_num)\n",
    "df2 = pd.DataFrame(df2, columns = df_num.columns)"
   ]
  },
  {
   "cell_type": "code",
   "execution_count": 7,
   "id": "6408f9b1",
   "metadata": {},
   "outputs": [],
   "source": [
    "df2=pd.concat([df2,df_cat],axis=1)"
   ]
  },
  {
   "cell_type": "code",
   "execution_count": 8,
   "id": "e836546e",
   "metadata": {},
   "outputs": [
    {
     "data": {
      "text/plain": [
       "EmployeeID                 0\n",
       "EnvironmentSatisfaction    0\n",
       "JobSatisfaction            0\n",
       "WorkLifeBalance            0\n",
       "JobInvolvement             0\n",
       "PerformanceRating          0\n",
       "Age                        0\n",
       "DistanceFromHome           0\n",
       "Education                  0\n",
       "EmployeeCount              0\n",
       "JobLevel                   0\n",
       "MonthlyIncome              0\n",
       "NumCompaniesWorked         0\n",
       "PercentSalaryHike          0\n",
       "StandardHours              0\n",
       "StockOptionLevel           0\n",
       "TotalWorkingYears          0\n",
       "TrainingTimesLastYear      0\n",
       "YearsAtCompany             0\n",
       "YearsSinceLastPromotion    0\n",
       "YearsWithCurrManager       0\n",
       "Attrition                  0\n",
       "BusinessTravel             0\n",
       "Department                 0\n",
       "EducationField             0\n",
       "Gender                     0\n",
       "JobRole                    0\n",
       "MaritalStatus              0\n",
       "Over18                     0\n",
       "dtype: int64"
      ]
     },
     "execution_count": 8,
     "metadata": {},
     "output_type": "execute_result"
    }
   ],
   "source": [
    "df2.isnull().sum()"
   ]
  },
  {
   "cell_type": "markdown",
   "id": "900aadcc",
   "metadata": {},
   "source": [
    "### Encoding Categorical Variables"
   ]
  },
  {
   "cell_type": "code",
   "execution_count": 9,
   "id": "f1e1f6ca",
   "metadata": {},
   "outputs": [],
   "source": [
    "X_cat = df2.select_dtypes(include='object')\n",
    "X_num = df2.select_dtypes(exclude='object')\n",
    "from sklearn.preprocessing import LabelEncoder\n",
    "le = LabelEncoder()\n",
    "X_cat_enc=X_cat.apply(le.fit_transform)"
   ]
  },
  {
   "cell_type": "code",
   "execution_count": 10,
   "id": "6be1747a",
   "metadata": {},
   "outputs": [],
   "source": [
    "df3 = pd.concat([X_num, X_cat_enc],axis=1)"
   ]
  },
  {
   "cell_type": "code",
   "execution_count": 11,
   "id": "62d9d9d7",
   "metadata": {},
   "outputs": [
    {
     "name": "stdout",
     "output_type": "stream",
     "text": [
      "<class 'pandas.core.frame.DataFrame'>\n",
      "RangeIndex: 4410 entries, 0 to 4409\n",
      "Data columns (total 29 columns):\n",
      " #   Column                   Non-Null Count  Dtype  \n",
      "---  ------                   --------------  -----  \n",
      " 0   EmployeeID               4410 non-null   float64\n",
      " 1   EnvironmentSatisfaction  4410 non-null   float64\n",
      " 2   JobSatisfaction          4410 non-null   float64\n",
      " 3   WorkLifeBalance          4410 non-null   float64\n",
      " 4   JobInvolvement           4410 non-null   float64\n",
      " 5   PerformanceRating        4410 non-null   float64\n",
      " 6   Age                      4410 non-null   float64\n",
      " 7   DistanceFromHome         4410 non-null   float64\n",
      " 8   Education                4410 non-null   float64\n",
      " 9   EmployeeCount            4410 non-null   float64\n",
      " 10  JobLevel                 4410 non-null   float64\n",
      " 11  MonthlyIncome            4410 non-null   float64\n",
      " 12  NumCompaniesWorked       4410 non-null   float64\n",
      " 13  PercentSalaryHike        4410 non-null   float64\n",
      " 14  StandardHours            4410 non-null   float64\n",
      " 15  StockOptionLevel         4410 non-null   float64\n",
      " 16  TotalWorkingYears        4410 non-null   float64\n",
      " 17  TrainingTimesLastYear    4410 non-null   float64\n",
      " 18  YearsAtCompany           4410 non-null   float64\n",
      " 19  YearsSinceLastPromotion  4410 non-null   float64\n",
      " 20  YearsWithCurrManager     4410 non-null   float64\n",
      " 21  Attrition                4410 non-null   int32  \n",
      " 22  BusinessTravel           4410 non-null   int32  \n",
      " 23  Department               4410 non-null   int32  \n",
      " 24  EducationField           4410 non-null   int32  \n",
      " 25  Gender                   4410 non-null   int32  \n",
      " 26  JobRole                  4410 non-null   int32  \n",
      " 27  MaritalStatus            4410 non-null   int32  \n",
      " 28  Over18                   4410 non-null   int32  \n",
      "dtypes: float64(21), int32(8)\n",
      "memory usage: 861.5 KB\n"
     ]
    }
   ],
   "source": [
    "df3.info()"
   ]
  },
  {
   "cell_type": "markdown",
   "id": "c043eb28",
   "metadata": {},
   "source": [
    "#### Let's remove features that are not relevant for predicting attrition"
   ]
  },
  {
   "cell_type": "code",
   "execution_count": 12,
   "id": "3056ab72",
   "metadata": {},
   "outputs": [],
   "source": [
    "df4 = df3.drop(['EmployeeID','EmployeeCount', 'Over18'],axis=1)\n",
    "#Employee ID is not relevant as it is just a counter from 1 to 4410.\n",
    "# EmployeeCount and Over18 columns have the same value throughout the whole column."
   ]
  },
  {
   "cell_type": "markdown",
   "id": "9633a2e9",
   "metadata": {},
   "source": [
    "### Univariate Analysis"
   ]
  },
  {
   "cell_type": "code",
   "execution_count": 13,
   "id": "69600c81",
   "metadata": {},
   "outputs": [
    {
     "data": {
      "text/plain": [
       "EnvironmentSatisfaction   -0.328260\n",
       "JobSatisfaction           -0.332530\n",
       "WorkLifeBalance           -0.567064\n",
       "JobInvolvement            -0.498080\n",
       "PerformanceRating          1.920574\n",
       "Age                        0.413005\n",
       "DistanceFromHome           0.957466\n",
       "Education                 -0.289484\n",
       "JobLevel                   1.024703\n",
       "MonthlyIncome              1.368884\n",
       "NumCompaniesWorked         1.031980\n",
       "PercentSalaryHike          0.820569\n",
       "StandardHours              0.000000\n",
       "StockOptionLevel           0.968321\n",
       "TotalWorkingYears          1.118879\n",
       "TrainingTimesLastYear      0.552748\n",
       "YearsAtCompany             1.763328\n",
       "YearsSinceLastPromotion    1.982939\n",
       "YearsWithCurrManager       0.832884\n",
       "Attrition                  1.843111\n",
       "BusinessTravel            -1.438026\n",
       "Department                 0.172114\n",
       "EducationField             0.549997\n",
       "Gender                    -0.408387\n",
       "JobRole                   -0.357027\n",
       "MaritalStatus             -0.152071\n",
       "dtype: float64"
      ]
     },
     "execution_count": 13,
     "metadata": {},
     "output_type": "execute_result"
    }
   ],
   "source": [
    "df4.skew()"
   ]
  },
  {
   "cell_type": "code",
   "execution_count": 14,
   "id": "3f190bbe",
   "metadata": {},
   "outputs": [],
   "source": [
    "# Let's apply log/sqrt transformation on the numerical features with high skewness\n",
    "df5 = df4.copy()\n",
    "df5['MonthlyIncome'] = np.log(df5.MonthlyIncome)\n",
    "df5['TotalWorkingYears'] = np.sqrt(df5.TotalWorkingYears)\n",
    "df5['YearsAtCompany'] = np.sqrt(df5.YearsAtCompany)\n",
    "df5['YearsSinceLastPromotion'] = np.sqrt(df5.YearsSinceLastPromotion)\n",
    "df5['NumCompaniesWorked'] = np.sqrt(df5.NumCompaniesWorked)"
   ]
  },
  {
   "cell_type": "code",
   "execution_count": 15,
   "id": "e7ea4f70",
   "metadata": {},
   "outputs": [
    {
     "data": {
      "text/plain": [
       "EnvironmentSatisfaction   -0.328260\n",
       "JobSatisfaction           -0.332530\n",
       "WorkLifeBalance           -0.567064\n",
       "JobInvolvement            -0.498080\n",
       "PerformanceRating          1.920574\n",
       "Age                        0.413005\n",
       "DistanceFromHome           0.957466\n",
       "Education                 -0.289484\n",
       "JobLevel                   1.024703\n",
       "MonthlyIncome              0.285997\n",
       "NumCompaniesWorked         0.033167\n",
       "PercentSalaryHike          0.820569\n",
       "StandardHours              0.000000\n",
       "StockOptionLevel           0.968321\n",
       "TotalWorkingYears          0.177327\n",
       "TrainingTimesLastYear      0.552748\n",
       "YearsAtCompany             0.426544\n",
       "YearsSinceLastPromotion    0.738622\n",
       "YearsWithCurrManager       0.832884\n",
       "Attrition                  1.843111\n",
       "BusinessTravel            -1.438026\n",
       "Department                 0.172114\n",
       "EducationField             0.549997\n",
       "Gender                    -0.408387\n",
       "JobRole                   -0.357027\n",
       "MaritalStatus             -0.152071\n",
       "dtype: float64"
      ]
     },
     "execution_count": 15,
     "metadata": {},
     "output_type": "execute_result"
    }
   ],
   "source": [
    "df5.skew()"
   ]
  },
  {
   "cell_type": "code",
   "execution_count": 16,
   "id": "ea1a345d",
   "metadata": {},
   "outputs": [
    {
     "data": {
      "image/png": "[encoded data removed]",
      "text/plain": [
       "<Figure size 864x1080 with 30 Axes>"
      ]
     },
     "metadata": {
      "needs_background": "light"
     },
     "output_type": "display_data"
    }
   ],
   "source": [
    "df5.plot(kind='box', subplots = True, layout = (5,6), figsize=(12,15));"
   ]
  },
  {
   "cell_type": "markdown",
   "id": "c2e3b28e",
   "metadata": {},
   "source": [
    "### Train-Test Split"
   ]
  },
  {
   "cell_type": "code",
   "execution_count": 17,
   "id": "45aecfeb",
   "metadata": {},
   "outputs": [],
   "source": [
    "X = np.array(df5.drop('Attrition',axis=1))\n",
    "y = df5.Attrition"
   ]
  },
  {
   "cell_type": "code",
   "execution_count": 18,
   "id": "902a829c",
   "metadata": {},
   "outputs": [],
   "source": [
    "from sklearn.model_selection import train_test_split\n",
    "X_train,X_test,y_train,y_test = train_test_split(X,y,test_size=0.2,stratify=y)"
   ]
  },
  {
   "cell_type": "markdown",
   "id": "fa915532",
   "metadata": {},
   "source": [
    "## Logistic Regression"
   ]
  },
  {
   "cell_type": "code",
   "execution_count": 19,
   "id": "b44cfc6e",
   "metadata": {},
   "outputs": [
    {
     "name": "stderr",
     "output_type": "stream",
     "text": [
      "C:\\Users\\Abhishek\\anaconda3\\lib\\site-packages\\sklearn\\linear_model\\_logistic.py:763: ConvergenceWarning: lbfgs failed to converge (status=1):\n",
      "STOP: TOTAL NO. of ITERATIONS REACHED LIMIT.\n",
      "\n",
      "Increase the number of iterations (max_iter) or scale the data as shown in:\n",
      "    https://scikit-learn.org/stable/modules/preprocessing.html\n",
      "Please also refer to the documentation for alternative solver options:\n",
      "    https://scikit-learn.org/stable/modules/linear_model.html#logistic-regression\n",
      "  n_iter_i = _check_optimize_result(\n"
     ]
    },
    {
     "data": {
      "text/plain": [
       "LogisticRegression()"
      ]
     },
     "execution_count": 19,
     "metadata": {},
     "output_type": "execute_result"
    }
   ],
   "source": [
    "from sklearn.linear_model import LogisticRegression\n",
    "logreg = LogisticRegression()\n",
    "logreg.fit(X_train,y_train)"
   ]
  },
  {
   "cell_type": "code",
   "execution_count": 20,
   "id": "5a39caa5",
   "metadata": {},
   "outputs": [
    {
     "data": {
      "text/plain": [
       "0.8537414965986394"
      ]
     },
     "execution_count": 20,
     "metadata": {},
     "output_type": "execute_result"
    }
   ],
   "source": [
    "logreg.score(X_test,y_test)"
   ]
  },
  {
   "cell_type": "code",
   "execution_count": 21,
   "id": "9ed698e0",
   "metadata": {},
   "outputs": [
    {
     "name": "stdout",
     "output_type": "stream",
     "text": [
      "              precision    recall  f1-score   support\n",
      "\n",
      "           0       0.86      0.99      0.92       740\n",
      "           1       0.76      0.13      0.23       142\n",
      "\n",
      "    accuracy                           0.85       882\n",
      "   macro avg       0.81      0.56      0.57       882\n",
      "weighted avg       0.84      0.85      0.81       882\n",
      "\n"
     ]
    }
   ],
   "source": [
    "from sklearn.metrics import classification_report\n",
    "print(classification_report(y_test, logreg.predict(X_test)))"
   ]
  },
  {
   "cell_type": "code",
   "execution_count": 22,
   "id": "5124361e",
   "metadata": {},
   "outputs": [
    {
     "data": {
      "text/plain": [
       "0    3699\n",
       "1     711\n",
       "Name: Attrition, dtype: int64"
      ]
     },
     "execution_count": 22,
     "metadata": {},
     "output_type": "execute_result"
    }
   ],
   "source": [
    "# The initial model has very low recall - most likely due to an imbalanced dataset\n",
    "df5.Attrition.value_counts()"
   ]
  },
  {
   "cell_type": "code",
   "execution_count": 23,
   "id": "971c1060",
   "metadata": {},
   "outputs": [
    {
     "name": "stdout",
     "output_type": "stream",
     "text": [
      "              precision    recall  f1-score   support\n",
      "\n",
      "           0       0.93      0.70      0.80       740\n",
      "           1       0.32      0.73      0.44       142\n",
      "\n",
      "    accuracy                           0.71       882\n",
      "   macro avg       0.62      0.71      0.62       882\n",
      "weighted avg       0.83      0.71      0.74       882\n",
      "\n"
     ]
    }
   ],
   "source": [
    "#let's try sample_weights = balanced\n",
    "logreg = LogisticRegression(class_weight='balanced')\n",
    "logreg.fit(X_train,y_train)\n",
    "print(classification_report(y_test, logreg.predict(X_test)))"
   ]
  },
  {
   "cell_type": "code",
   "execution_count": 24,
   "id": "5e005ad9",
   "metadata": {},
   "outputs": [
    {
     "name": "stdout",
     "output_type": "stream",
     "text": [
      "              precision    recall  f1-score   support\n",
      "\n",
      "           0       0.86      0.99      0.92       740\n",
      "           1       0.76      0.13      0.23       142\n",
      "\n",
      "    accuracy                           0.85       882\n",
      "   macro avg       0.81      0.56      0.57       882\n",
      "weighted avg       0.84      0.85      0.81       882\n",
      "\n"
     ]
    },
    {
     "name": "stderr",
     "output_type": "stream",
     "text": [
      "C:\\Users\\Abhishek\\anaconda3\\lib\\site-packages\\sklearn\\linear_model\\_logistic.py:763: ConvergenceWarning: lbfgs failed to converge (status=1):\n",
      "STOP: TOTAL NO. of ITERATIONS REACHED LIMIT.\n",
      "\n",
      "Increase the number of iterations (max_iter) or scale the data as shown in:\n",
      "    https://scikit-learn.org/stable/modules/preprocessing.html\n",
      "Please also refer to the documentation for alternative solver options:\n",
      "    https://scikit-learn.org/stable/modules/linear_model.html#logistic-regression\n",
      "  n_iter_i = _check_optimize_result(\n"
     ]
    }
   ],
   "source": [
    "#the recall improved quite a lot, but precision has decreased now. Let's also try more iterations\n",
    "logreg = LogisticRegression(max_iter=500)\n",
    "logreg.fit(X_train,y_train)\n",
    "print(classification_report(y_test, logreg.predict(X_test)))\n",
    "#the model converges within 200 iterations, but the scores havent improved much."
   ]
  },
  {
   "cell_type": "code",
   "execution_count": null,
   "id": "940b7076",
   "metadata": {},
   "outputs": [],
   "source": [
    "#Finally, let's also try GridSearchCV to see if other combinations of hyperparameters work better\n",
    "from sklearn.model_selection import GridSearchCV\n",
    "from sklearn.metrics import f1_score\n",
    "parameters = {'solver': ['lbfgs', 'liblinear', 'saga'],\n",
    "              'penalty' : ['l1', 'l2', 'none'],\n",
    "              'tol' : [0.001, 0.00001, 0.0001],\n",
    "              'max_iter': [400,500,600]}\n",
    "gcv = GridSearchCV(logreg, param_grid = parameters, scoring = 'f1',verbose=1)\n",
    "gcv.fit(X_train,y_train)"
   ]
  },
  {
   "cell_type": "code",
   "execution_count": 97,
   "id": "b8a2214d",
   "metadata": {},
   "outputs": [
    {
     "data": {
      "text/plain": [
       "{'max_iter': 400, 'penalty': 'l2', 'solver': 'saga', 'tol': 0.0001}"
      ]
     },
     "execution_count": 97,
     "metadata": {},
     "output_type": "execute_result"
    }
   ],
   "source": [
    "gcv.best_params_"
   ]
  },
  {
   "cell_type": "code",
   "execution_count": 98,
   "id": "afe29d14",
   "metadata": {},
   "outputs": [
    {
     "name": "stdout",
     "output_type": "stream",
     "text": [
      "              precision    recall  f1-score   support\n",
      "\n",
      "           0       0.92      0.68      0.78       740\n",
      "           1       0.29      0.70      0.41       142\n",
      "\n",
      "    accuracy                           0.68       882\n",
      "   macro avg       0.61      0.69      0.60       882\n",
      "weighted avg       0.82      0.68      0.72       882\n",
      "\n"
     ]
    }
   ],
   "source": [
    "print(classification_report(y_test,gcv.predict(X_test)))"
   ]
  },
  {
   "cell_type": "markdown",
   "id": "ec4b2d0d",
   "metadata": {},
   "source": [
    "#### Even after running GridSearchCV with different hyperparameter combinations, the classification report remained same. Let us now try a different model."
   ]
  },
  {
   "cell_type": "markdown",
   "id": "2a8de854",
   "metadata": {},
   "source": [
    "# RandomForestClassifier"
   ]
  },
  {
   "cell_type": "code",
   "execution_count": 25,
   "id": "e2083e99",
   "metadata": {},
   "outputs": [
    {
     "name": "stdout",
     "output_type": "stream",
     "text": [
      "              precision    recall  f1-score   support\n",
      "\n",
      "           0       1.00      1.00      1.00       740\n",
      "           1       1.00      0.98      0.99       142\n",
      "\n",
      "    accuracy                           1.00       882\n",
      "   macro avg       1.00      0.99      0.99       882\n",
      "weighted avg       1.00      1.00      1.00       882\n",
      "\n"
     ]
    }
   ],
   "source": [
    "from sklearn.ensemble import RandomForestClassifier\n",
    "rfc = RandomForestClassifier(n_estimators = 500)\n",
    "rfc.fit(X_train, y_train)\n",
    "print(classification_report(y_test, rfc.predict(X_test)))"
   ]
  },
  {
   "cell_type": "markdown",
   "id": "36748547",
   "metadata": {},
   "source": [
    "#### RandomForestClassifier does a much better job at predicting our target variable. Both precision and recall are high for both the classes. On the surface, this seems to be a good model for predicting whether an employee will leave the company or not, based on the features we have selected. "
   ]
  },
  {
   "cell_type": "markdown",
   "id": "28d9210c",
   "metadata": {},
   "source": [
    "#### Let us still go through a few more models just to see how good they perform:"
   ]
  },
  {
   "cell_type": "code",
   "execution_count": 27,
   "id": "f6738a4b",
   "metadata": {},
   "outputs": [
    {
     "name": "stdout",
     "output_type": "stream",
     "text": [
      "              precision    recall  f1-score   support\n",
      "\n",
      "           0       0.91      0.96      0.94       740\n",
      "           1       0.73      0.51      0.60       142\n",
      "\n",
      "    accuracy                           0.89       882\n",
      "   macro avg       0.82      0.74      0.77       882\n",
      "weighted avg       0.88      0.89      0.88       882\n",
      "\n"
     ]
    }
   ],
   "source": [
    "#AdaBoost\n",
    "from sklearn.ensemble import AdaBoostClassifier\n",
    "from sklearn.tree import DecisionTreeClassifier\n",
    "ada = AdaBoostClassifier(n_estimators=2000)\n",
    "ada.fit(X_train,y_train)\n",
    "print(classification_report(y_test, ada.predict(X_test)))"
   ]
  },
  {
   "cell_type": "code",
   "execution_count": 112,
   "id": "428c0dd7",
   "metadata": {},
   "outputs": [
    {
     "name": "stdout",
     "output_type": "stream",
     "text": [
      "              precision    recall  f1-score   support\n",
      "\n",
      "           0       0.93      0.97      0.95       740\n",
      "           1       0.78      0.61      0.69       142\n",
      "\n",
      "    accuracy                           0.91       882\n",
      "   macro avg       0.85      0.79      0.82       882\n",
      "weighted avg       0.90      0.91      0.90       882\n",
      "\n"
     ]
    }
   ],
   "source": [
    "ada = AdaBoostClassifier(n_estimators=5000)\n",
    "ada.fit(X_train,y_train)\n",
    "print(classification_report(y_test, ada.predict(X_test)))"
   ]
  },
  {
   "cell_type": "code",
   "execution_count": 113,
   "id": "37db132d",
   "metadata": {},
   "outputs": [
    {
     "name": "stdout",
     "output_type": "stream",
     "text": [
      "              precision    recall  f1-score   support\n",
      "\n",
      "           0       0.94      0.97      0.95       740\n",
      "           1       0.80      0.65      0.72       142\n",
      "\n",
      "    accuracy                           0.92       882\n",
      "   macro avg       0.87      0.81      0.84       882\n",
      "weighted avg       0.91      0.92      0.91       882\n",
      "\n"
     ]
    }
   ],
   "source": [
    "ada = AdaBoostClassifier(n_estimators=6000)\n",
    "ada.fit(X_train,y_train)\n",
    "print(classification_report(y_test, ada.predict(X_test)))"
   ]
  },
  {
   "cell_type": "markdown",
   "id": "16c22db4",
   "metadata": {},
   "source": [
    "<b>AdaBoostClassifier's precision and recall keep increasing as n_estimators are increased. Still, when compared with RandomForestClassifier, it not only performs worse in terms of scores, but also in terms of speed. Even at 5000 estimators, we don't seem to have reached the best score with AdaBoostClassifier</b>"
   ]
  },
  {
   "cell_type": "code",
   "execution_count": 114,
   "id": "8eae41db",
   "metadata": {},
   "outputs": [
    {
     "name": "stdout",
     "output_type": "stream",
     "text": [
      "              precision    recall  f1-score   support\n",
      "\n",
      "           0       0.97      0.98      0.98       740\n",
      "           1       0.89      0.85      0.87       142\n",
      "\n",
      "    accuracy                           0.96       882\n",
      "   macro avg       0.93      0.91      0.92       882\n",
      "weighted avg       0.96      0.96      0.96       882\n",
      "\n"
     ]
    }
   ],
   "source": [
    "ada = AdaBoostClassifier(n_estimators=12000)\n",
    "ada.fit(X_train,y_train)\n",
    "print(classification_report(y_test, ada.predict(X_test)))\n",
    "#still improving at 12000 estimators!"
   ]
  },
  {
   "cell_type": "markdown",
   "id": "8121faa9",
   "metadata": {},
   "source": [
    "<b> However, as soon as we use AdaBoostClassifier where the base_estimator is a DecisionTreeClassifier with max_depth of 2, instead of the default 1, the precision and recall shoot up to levels similar to RandomForestClassifier, as observed below: </b>"
   ]
  },
  {
   "cell_type": "code",
   "execution_count": 28,
   "id": "a63af099",
   "metadata": {},
   "outputs": [
    {
     "name": "stdout",
     "output_type": "stream",
     "text": [
      "              precision    recall  f1-score   support\n",
      "\n",
      "           0       1.00      1.00      1.00       740\n",
      "           1       0.98      0.98      0.98       142\n",
      "\n",
      "    accuracy                           0.99       882\n",
      "   macro avg       0.99      0.99      0.99       882\n",
      "weighted avg       0.99      0.99      0.99       882\n",
      "\n"
     ]
    }
   ],
   "source": [
    "from sklearn.tree import DecisionTreeClassifier\n",
    "ada = AdaBoostClassifier(n_estimators=500, base_estimator = DecisionTreeClassifier(max_depth=2))\n",
    "ada.fit(X_train,y_train)\n",
    "print(classification_report(y_test, ada.predict(X_test)))"
   ]
  },
  {
   "cell_type": "markdown",
   "id": "cf4de40c",
   "metadata": {},
   "source": [
    "#### Let's give GradientBoostingClassifier a shot:"
   ]
  },
  {
   "cell_type": "code",
   "execution_count": 29,
   "id": "45b02eb5",
   "metadata": {},
   "outputs": [
    {
     "name": "stdout",
     "output_type": "stream",
     "text": [
      "              precision    recall  f1-score   support\n",
      "\n",
      "           0       0.98      1.00      0.99       740\n",
      "           1       0.98      0.87      0.92       142\n",
      "\n",
      "    accuracy                           0.98       882\n",
      "   macro avg       0.98      0.93      0.95       882\n",
      "weighted avg       0.98      0.98      0.98       882\n",
      "\n"
     ]
    }
   ],
   "source": [
    "from sklearn.ensemble import GradientBoostingClassifier\n",
    "gbc = GradientBoostingClassifier(n_estimators=500)\n",
    "gbc.fit(X_train,y_train)\n",
    "print(classification_report(y_test, gbc.predict(X_test)))"
   ]
  },
  {
   "cell_type": "code",
   "execution_count": 30,
   "id": "8473b7a2",
   "metadata": {},
   "outputs": [
    {
     "name": "stdout",
     "output_type": "stream",
     "text": [
      "              precision    recall  f1-score   support\n",
      "\n",
      "           0       0.99      1.00      1.00       740\n",
      "           1       0.98      0.97      0.98       142\n",
      "\n",
      "    accuracy                           0.99       882\n",
      "   macro avg       0.99      0.98      0.99       882\n",
      "weighted avg       0.99      0.99      0.99       882\n",
      "\n"
     ]
    }
   ],
   "source": [
    "gbc = GradientBoostingClassifier(n_estimators=800)\n",
    "gbc.fit(X_train,y_train)\n",
    "print(classification_report(y_test, gbc.predict(X_test)))"
   ]
  },
  {
   "cell_type": "markdown",
   "id": "54a701a9",
   "metadata": {},
   "source": [
    "#### GradientBoostingClassifier is also doing a good job at predicting Employee Attrition, albeit it is slightly slightly worse than RandomForest and AdaBoost in terms of the number of estimators required."
   ]
  },
  {
   "cell_type": "markdown",
   "id": "2778ea7e",
   "metadata": {},
   "source": [
    "# Conclusion"
   ]
  },
  {
   "cell_type": "markdown",
   "id": "9e005366",
   "metadata": {},
   "source": [
    "After performing the data preprocessing, model building and validation, it's safe to say that RandomForestClassifier, AdaBoostClassifier and GradientBoostingClassifier are all good models for predicting the probability that an employee will leave the company. The AdaBoostClassifier needed some minor tweaking to reach the same scores as the other two, but after this tweaking it performed just as good. \n",
    "\n",
    "The patterns present in the data can help the management understand why the employee attrition is high, and what can be done to lower it. This can help the company preserve its assets better and reduce costs related to hiring a lot of new employees every year. "
   ]
  }
 ],
 "metadata": {
  "kernelspec": {
   "display_name": "Python 3",
   "language": "python",
   "name": "python3"
  },
  "language_info": {
   "codemirror_mode": {
    "name": "ipython",
    "version": 3
   },
   "file_extension": ".py",
   "mimetype": "text/x-python",
   "name": "python",
   "nbconvert_exporter": "python",
   "pygments_lexer": "ipython3",
   "version": "3.8.8"
  }
 },
 "nbformat": 4,
 "nbformat_minor": 5
}
