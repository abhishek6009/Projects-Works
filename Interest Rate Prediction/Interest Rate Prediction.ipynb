{
 "cells": [
  {
   "cell_type": "code",
   "execution_count": 1,
   "id": "71f7b83e-0260-4a40-9460-13715b70b272",
   "metadata": {},
   "outputs": [],
   "source": [
    "import numpy as np\n",
    "import pandas as pd\n",
    "import matplotlib.pyplot as plt\n",
    "import seaborn as sns\n",
    "import string"
   ]
  },
  {
   "cell_type": "code",
   "execution_count": 2,
   "id": "a8269a0e-32a0-4670-9f09-fabe9f715f8f",
   "metadata": {},
   "outputs": [
    {
     "data": {
      "text/html": [
       "<div>\n",
       "<style scoped>\n",
       "    .dataframe tbody tr th:only-of-type {\n",
       "        vertical-align: middle;\n",
       "    }\n",
       "\n",
       "    .dataframe tbody tr th {\n",
       "        vertical-align: top;\n",
       "    }\n",
       "\n",
       "    .dataframe thead th {\n",
       "        text-align: right;\n",
       "    }\n",
       "</style>\n",
       "<table border=\"1\" class=\"dataframe\">\n",
       "  <thead>\n",
       "    <tr style=\"text-align: right;\">\n",
       "      <th></th>\n",
       "      <th>Loan_ID</th>\n",
       "      <th>Loan_Amount_Requested</th>\n",
       "      <th>Length_Employed</th>\n",
       "      <th>Home_Owner</th>\n",
       "      <th>Annual_Income</th>\n",
       "      <th>Income_Verified</th>\n",
       "      <th>Purpose_Of_Loan</th>\n",
       "      <th>Debt_To_Income</th>\n",
       "      <th>Inquiries_Last_6Mo</th>\n",
       "      <th>Months_Since_Deliquency</th>\n",
       "      <th>Number_Open_Accounts</th>\n",
       "      <th>Total_Accounts</th>\n",
       "      <th>Gender</th>\n",
       "      <th>Interest_Rate</th>\n",
       "    </tr>\n",
       "  </thead>\n",
       "  <tbody>\n",
       "    <tr>\n",
       "      <th>0</th>\n",
       "      <td>10000001</td>\n",
       "      <td>7,000</td>\n",
       "      <td>&lt; 1 year</td>\n",
       "      <td>Rent</td>\n",
       "      <td>68000.0</td>\n",
       "      <td>not verified</td>\n",
       "      <td>car</td>\n",
       "      <td>18.37</td>\n",
       "      <td>0</td>\n",
       "      <td>NaN</td>\n",
       "      <td>9</td>\n",
       "      <td>14</td>\n",
       "      <td>Female</td>\n",
       "      <td>1</td>\n",
       "    </tr>\n",
       "    <tr>\n",
       "      <th>1</th>\n",
       "      <td>10000002</td>\n",
       "      <td>30,000</td>\n",
       "      <td>4 years</td>\n",
       "      <td>Mortgage</td>\n",
       "      <td>NaN</td>\n",
       "      <td>VERIFIED - income</td>\n",
       "      <td>debt_consolidation</td>\n",
       "      <td>14.93</td>\n",
       "      <td>0</td>\n",
       "      <td>17.0</td>\n",
       "      <td>12</td>\n",
       "      <td>24</td>\n",
       "      <td>Female</td>\n",
       "      <td>3</td>\n",
       "    </tr>\n",
       "    <tr>\n",
       "      <th>2</th>\n",
       "      <td>10000003</td>\n",
       "      <td>24,725</td>\n",
       "      <td>7 years</td>\n",
       "      <td>Mortgage</td>\n",
       "      <td>75566.4</td>\n",
       "      <td>VERIFIED - income source</td>\n",
       "      <td>debt_consolidation</td>\n",
       "      <td>15.88</td>\n",
       "      <td>0</td>\n",
       "      <td>NaN</td>\n",
       "      <td>12</td>\n",
       "      <td>16</td>\n",
       "      <td>Male</td>\n",
       "      <td>3</td>\n",
       "    </tr>\n",
       "    <tr>\n",
       "      <th>3</th>\n",
       "      <td>10000004</td>\n",
       "      <td>16,000</td>\n",
       "      <td>&lt; 1 year</td>\n",
       "      <td>NaN</td>\n",
       "      <td>56160.0</td>\n",
       "      <td>VERIFIED - income source</td>\n",
       "      <td>debt_consolidation</td>\n",
       "      <td>14.34</td>\n",
       "      <td>3</td>\n",
       "      <td>NaN</td>\n",
       "      <td>16</td>\n",
       "      <td>22</td>\n",
       "      <td>Male</td>\n",
       "      <td>3</td>\n",
       "    </tr>\n",
       "    <tr>\n",
       "      <th>4</th>\n",
       "      <td>10000005</td>\n",
       "      <td>17,000</td>\n",
       "      <td>8 years</td>\n",
       "      <td>Own</td>\n",
       "      <td>96000.0</td>\n",
       "      <td>VERIFIED - income source</td>\n",
       "      <td>debt_consolidation</td>\n",
       "      <td>22.17</td>\n",
       "      <td>1</td>\n",
       "      <td>NaN</td>\n",
       "      <td>19</td>\n",
       "      <td>30</td>\n",
       "      <td>Female</td>\n",
       "      <td>1</td>\n",
       "    </tr>\n",
       "  </tbody>\n",
       "</table>\n",
       "</div>"
      ],
      "text/plain": [
       "    Loan_ID Loan_Amount_Requested Length_Employed Home_Owner  Annual_Income  \\\n",
       "0  10000001                 7,000        < 1 year       Rent        68000.0   \n",
       "1  10000002                30,000         4 years   Mortgage            NaN   \n",
       "2  10000003                24,725         7 years   Mortgage        75566.4   \n",
       "3  10000004                16,000        < 1 year        NaN        56160.0   \n",
       "4  10000005                17,000         8 years        Own        96000.0   \n",
       "\n",
       "            Income_Verified     Purpose_Of_Loan  Debt_To_Income  \\\n",
       "0              not verified                 car           18.37   \n",
       "1         VERIFIED - income  debt_consolidation           14.93   \n",
       "2  VERIFIED - income source  debt_consolidation           15.88   \n",
       "3  VERIFIED - income source  debt_consolidation           14.34   \n",
       "4  VERIFIED - income source  debt_consolidation           22.17   \n",
       "\n",
       "   Inquiries_Last_6Mo  Months_Since_Deliquency  Number_Open_Accounts  \\\n",
       "0                   0                      NaN                     9   \n",
       "1                   0                     17.0                    12   \n",
       "2                   0                      NaN                    12   \n",
       "3                   3                      NaN                    16   \n",
       "4                   1                      NaN                    19   \n",
       "\n",
       "   Total_Accounts  Gender  Interest_Rate  \n",
       "0              14  Female              1  \n",
       "1              24  Female              3  \n",
       "2              16    Male              3  \n",
       "3              22    Male              3  \n",
       "4              30  Female              1  "
      ]
     },
     "execution_count": 2,
     "metadata": {},
     "output_type": "execute_result"
    }
   ],
   "source": [
    "data = pd.read_csv(\"Dataset (4).csv\")\n",
    "data.head()"
   ]
  },
  {
   "cell_type": "code",
   "execution_count": 3,
   "id": "bd256b8b-a2b1-4cff-8e3e-9f4dbf27da48",
   "metadata": {},
   "outputs": [
    {
     "name": "stdout",
     "output_type": "stream",
     "text": [
      "<class 'pandas.core.frame.DataFrame'>\n",
      "RangeIndex: 164309 entries, 0 to 164308\n",
      "Data columns (total 14 columns):\n",
      " #   Column                   Non-Null Count   Dtype  \n",
      "---  ------                   --------------   -----  \n",
      " 0   Loan_ID                  164309 non-null  int64  \n",
      " 1   Loan_Amount_Requested    164309 non-null  object \n",
      " 2   Length_Employed          156938 non-null  object \n",
      " 3   Home_Owner               138960 non-null  object \n",
      " 4   Annual_Income            139207 non-null  float64\n",
      " 5   Income_Verified          164309 non-null  object \n",
      " 6   Purpose_Of_Loan          164309 non-null  object \n",
      " 7   Debt_To_Income           164309 non-null  float64\n",
      " 8   Inquiries_Last_6Mo       164309 non-null  int64  \n",
      " 9   Months_Since_Deliquency  75930 non-null   float64\n",
      " 10  Number_Open_Accounts     164309 non-null  int64  \n",
      " 11  Total_Accounts           164309 non-null  int64  \n",
      " 12  Gender                   164309 non-null  object \n",
      " 13  Interest_Rate            164309 non-null  int64  \n",
      "dtypes: float64(3), int64(5), object(6)\n",
      "memory usage: 17.6+ MB\n"
     ]
    }
   ],
   "source": [
    "data.info()"
   ]
  },
  {
   "cell_type": "code",
   "execution_count": 4,
   "id": "ffad8741-2ff3-4c68-91b9-53dc499e5ad9",
   "metadata": {},
   "outputs": [
    {
     "data": {
      "text/html": [
       "<div>\n",
       "<style scoped>\n",
       "    .dataframe tbody tr th:only-of-type {\n",
       "        vertical-align: middle;\n",
       "    }\n",
       "\n",
       "    .dataframe tbody tr th {\n",
       "        vertical-align: top;\n",
       "    }\n",
       "\n",
       "    .dataframe thead th {\n",
       "        text-align: right;\n",
       "    }\n",
       "</style>\n",
       "<table border=\"1\" class=\"dataframe\">\n",
       "  <thead>\n",
       "    <tr style=\"text-align: right;\">\n",
       "      <th></th>\n",
       "      <th>count</th>\n",
       "      <th>mean</th>\n",
       "      <th>std</th>\n",
       "      <th>min</th>\n",
       "      <th>25%</th>\n",
       "      <th>50%</th>\n",
       "      <th>75%</th>\n",
       "      <th>max</th>\n",
       "    </tr>\n",
       "  </thead>\n",
       "  <tbody>\n",
       "    <tr>\n",
       "      <th>Loan_ID</th>\n",
       "      <td>164309.0</td>\n",
       "      <td>1.008216e+07</td>\n",
       "      <td>47432.067027</td>\n",
       "      <td>10000001.0</td>\n",
       "      <td>10041078.00</td>\n",
       "      <td>10082155.00</td>\n",
       "      <td>10123232.00</td>\n",
       "      <td>10164309.00</td>\n",
       "    </tr>\n",
       "    <tr>\n",
       "      <th>Annual_Income</th>\n",
       "      <td>139207.0</td>\n",
       "      <td>7.333116e+04</td>\n",
       "      <td>60377.498294</td>\n",
       "      <td>4000.0</td>\n",
       "      <td>45000.00</td>\n",
       "      <td>63000.00</td>\n",
       "      <td>88697.50</td>\n",
       "      <td>7500000.00</td>\n",
       "    </tr>\n",
       "    <tr>\n",
       "      <th>Debt_To_Income</th>\n",
       "      <td>164309.0</td>\n",
       "      <td>1.720719e+01</td>\n",
       "      <td>7.845083</td>\n",
       "      <td>0.0</td>\n",
       "      <td>11.37</td>\n",
       "      <td>16.84</td>\n",
       "      <td>22.78</td>\n",
       "      <td>39.99</td>\n",
       "    </tr>\n",
       "    <tr>\n",
       "      <th>Inquiries_Last_6Mo</th>\n",
       "      <td>164309.0</td>\n",
       "      <td>7.816979e-01</td>\n",
       "      <td>1.034747</td>\n",
       "      <td>0.0</td>\n",
       "      <td>0.00</td>\n",
       "      <td>0.00</td>\n",
       "      <td>1.00</td>\n",
       "      <td>8.00</td>\n",
       "    </tr>\n",
       "    <tr>\n",
       "      <th>Months_Since_Deliquency</th>\n",
       "      <td>75930.0</td>\n",
       "      <td>3.422936e+01</td>\n",
       "      <td>21.761180</td>\n",
       "      <td>0.0</td>\n",
       "      <td>16.00</td>\n",
       "      <td>31.00</td>\n",
       "      <td>50.00</td>\n",
       "      <td>180.00</td>\n",
       "    </tr>\n",
       "    <tr>\n",
       "      <th>Number_Open_Accounts</th>\n",
       "      <td>164309.0</td>\n",
       "      <td>1.119382e+01</td>\n",
       "      <td>4.991813</td>\n",
       "      <td>0.0</td>\n",
       "      <td>8.00</td>\n",
       "      <td>10.00</td>\n",
       "      <td>14.00</td>\n",
       "      <td>76.00</td>\n",
       "    </tr>\n",
       "    <tr>\n",
       "      <th>Total_Accounts</th>\n",
       "      <td>164309.0</td>\n",
       "      <td>2.506767e+01</td>\n",
       "      <td>11.583067</td>\n",
       "      <td>2.0</td>\n",
       "      <td>17.00</td>\n",
       "      <td>23.00</td>\n",
       "      <td>32.00</td>\n",
       "      <td>156.00</td>\n",
       "    </tr>\n",
       "    <tr>\n",
       "      <th>Interest_Rate</th>\n",
       "      <td>164309.0</td>\n",
       "      <td>2.158951e+00</td>\n",
       "      <td>0.738364</td>\n",
       "      <td>1.0</td>\n",
       "      <td>2.00</td>\n",
       "      <td>2.00</td>\n",
       "      <td>3.00</td>\n",
       "      <td>3.00</td>\n",
       "    </tr>\n",
       "  </tbody>\n",
       "</table>\n",
       "</div>"
      ],
      "text/plain": [
       "                            count          mean           std         min  \\\n",
       "Loan_ID                  164309.0  1.008216e+07  47432.067027  10000001.0   \n",
       "Annual_Income            139207.0  7.333116e+04  60377.498294      4000.0   \n",
       "Debt_To_Income           164309.0  1.720719e+01      7.845083         0.0   \n",
       "Inquiries_Last_6Mo       164309.0  7.816979e-01      1.034747         0.0   \n",
       "Months_Since_Deliquency   75930.0  3.422936e+01     21.761180         0.0   \n",
       "Number_Open_Accounts     164309.0  1.119382e+01      4.991813         0.0   \n",
       "Total_Accounts           164309.0  2.506767e+01     11.583067         2.0   \n",
       "Interest_Rate            164309.0  2.158951e+00      0.738364         1.0   \n",
       "\n",
       "                                 25%          50%          75%          max  \n",
       "Loan_ID                  10041078.00  10082155.00  10123232.00  10164309.00  \n",
       "Annual_Income               45000.00     63000.00     88697.50   7500000.00  \n",
       "Debt_To_Income                 11.37        16.84        22.78        39.99  \n",
       "Inquiries_Last_6Mo              0.00         0.00         1.00         8.00  \n",
       "Months_Since_Deliquency        16.00        31.00        50.00       180.00  \n",
       "Number_Open_Accounts            8.00        10.00        14.00        76.00  \n",
       "Total_Accounts                 17.00        23.00        32.00       156.00  \n",
       "Interest_Rate                   2.00         2.00         3.00         3.00  "
      ]
     },
     "execution_count": 4,
     "metadata": {},
     "output_type": "execute_result"
    }
   ],
   "source": [
    "data.describe().T"
   ]
  },
  {
   "cell_type": "code",
   "execution_count": 5,
   "id": "b4fe2019-1f6c-49a8-b41c-622f0033ba26",
   "metadata": {},
   "outputs": [],
   "source": [
    "# Remove Loan ID column as it has no useful information\n",
    "data = data.drop('Loan_ID',axis=1)"
   ]
  },
  {
   "cell_type": "markdown",
   "id": "8188bf64-e81d-4368-b4e8-516d75c16c2c",
   "metadata": {},
   "source": [
    "# Uni-variate Analysis"
   ]
  },
  {
   "cell_type": "code",
   "execution_count": 6,
   "id": "f25d372c-6dd6-41cc-ac3c-3c86b32485ad",
   "metadata": {},
   "outputs": [
    {
     "data": {
      "text/plain": [
       "array(['7,000', '30,000', '24,725', ..., '28,950', '33,325', '29,825'],\n",
       "      dtype=object)"
      ]
     },
     "execution_count": 6,
     "metadata": {},
     "output_type": "execute_result"
    }
   ],
   "source": [
    "# Why is Loan_Amount_Requested an object column?\n",
    "data.Loan_Amount_Requested.unique()\n",
    "# Ans.: It has commas in the amount."
   ]
  },
  {
   "cell_type": "code",
   "execution_count": 7,
   "id": "a388a03c-fc5c-41f6-bdf3-bc199be2c1a9",
   "metadata": {},
   "outputs": [],
   "source": [
    "# Remove commas and convert it to int datatype\n",
    "data.Loan_Amount_Requested = data.Loan_Amount_Requested.replace(',','',regex=True).astype('int64')"
   ]
  },
  {
   "cell_type": "code",
   "execution_count": 8,
   "id": "74c71e23-b49f-443f-83d4-a95fb4264d46",
   "metadata": {},
   "outputs": [
    {
     "name": "stdout",
     "output_type": "stream",
     "text": [
      "<class 'pandas.core.frame.DataFrame'>\n",
      "RangeIndex: 164309 entries, 0 to 164308\n",
      "Data columns (total 13 columns):\n",
      " #   Column                   Non-Null Count   Dtype  \n",
      "---  ------                   --------------   -----  \n",
      " 0   Loan_Amount_Requested    164309 non-null  int64  \n",
      " 1   Length_Employed          156938 non-null  object \n",
      " 2   Home_Owner               138960 non-null  object \n",
      " 3   Annual_Income            139207 non-null  float64\n",
      " 4   Income_Verified          164309 non-null  object \n",
      " 5   Purpose_Of_Loan          164309 non-null  object \n",
      " 6   Debt_To_Income           164309 non-null  float64\n",
      " 7   Inquiries_Last_6Mo       164309 non-null  int64  \n",
      " 8   Months_Since_Deliquency  75930 non-null   float64\n",
      " 9   Number_Open_Accounts     164309 non-null  int64  \n",
      " 10  Total_Accounts           164309 non-null  int64  \n",
      " 11  Gender                   164309 non-null  object \n",
      " 12  Interest_Rate            164309 non-null  int64  \n",
      "dtypes: float64(3), int64(5), object(5)\n",
      "memory usage: 16.3+ MB\n"
     ]
    }
   ],
   "source": [
    "data.info()"
   ]
  },
  {
   "cell_type": "code",
   "execution_count": 9,
   "id": "ae07ea93-e818-4386-84bb-40ee91423bef",
   "metadata": {},
   "outputs": [],
   "source": [
    "# Converting Length_Employed to numeric data: <1 is shown as 0 and 10+ as 10. missing values are replaced with -1.\n",
    "data.Length_Employed = data.Length_Employed.replace(['years','year','< 1','\\+'],['','','0',''],regex=True).fillna(-1).astype('int')"
   ]
  },
  {
   "cell_type": "code",
   "execution_count": 10,
   "id": "587beca8-0aee-440e-a446-821d39e9afe6",
   "metadata": {},
   "outputs": [
    {
     "data": {
      "text/plain": [
       "<AxesSubplot:xlabel='Length_Employed', ylabel='count'>"
      ]
     },
     "execution_count": 10,
     "metadata": {},
     "output_type": "execute_result"
    },
    {
     "data": {
      "image/png": "[encoded data removed]",
      "text/plain": [
       "<Figure size 432x288 with 1 Axes>"
      ]
     },
     "metadata": {
      "needs_background": "light"
     },
     "output_type": "display_data"
    }
   ],
   "source": [
    "sns.countplot(x=data.Length_Employed.fillna(-1))"
   ]
  },
  {
   "cell_type": "code",
   "execution_count": 11,
   "id": "42c7eaf9-f90f-4578-b25b-786bd31452f2",
   "metadata": {},
   "outputs": [
    {
     "data": {
      "text/plain": [
       "Mortgage    0.506225\n",
       "Rent        0.403217\n",
       "Own         0.090134\n",
       "Other       0.000353\n",
       "None        0.000072\n",
       "Name: Home_Owner, dtype: float64"
      ]
     },
     "execution_count": 11,
     "metadata": {},
     "output_type": "execute_result"
    }
   ],
   "source": [
    "# Home_owner distribution before filling missing values\n",
    "data.Home_Owner.value_counts(normalize=True)"
   ]
  },
  {
   "cell_type": "code",
   "execution_count": 12,
   "id": "bb323baa-299f-4a96-8e79-98dc1a98ff70",
   "metadata": {},
   "outputs": [],
   "source": [
    "data.Home_Owner = data.Home_Owner.fillna(pd.Series(np.random.choice(['Mortgage','Rent','Own','Other','None'],\n",
    "                                                                    p=[0.506224,0.403217,0.090134,0.000353,0.000072],size=len(data))))"
   ]
  },
  {
   "cell_type": "code",
   "execution_count": 13,
   "id": "527e22c1-48b7-4253-a651-28f681d44bdc",
   "metadata": {},
   "outputs": [
    {
     "data": {
      "text/plain": [
       "Mortgage    0.506326\n",
       "Rent        0.403478\n",
       "Own         0.089727\n",
       "Other       0.000396\n",
       "None        0.000073\n",
       "Name: Home_Owner, dtype: float64"
      ]
     },
     "execution_count": 13,
     "metadata": {},
     "output_type": "execute_result"
    }
   ],
   "source": [
    "# Home_owner distribution after filling missing values\n",
    "data.Home_Owner.value_counts(normalize=True)"
   ]
  },
  {
   "cell_type": "code",
   "execution_count": 14,
   "id": "a4e3835f-16c9-46ce-bd94-af7f49ad4b67",
   "metadata": {},
   "outputs": [
    {
     "name": "stdout",
     "output_type": "stream",
     "text": [
      "40.22530582196167\n"
     ]
    },
    {
     "data": {
      "image/png": "[encoded data removed]",
      "text/plain": [
       "<Figure size 432x288 with 1 Axes>"
      ]
     },
     "metadata": {
      "needs_background": "light"
     },
     "output_type": "display_data"
    }
   ],
   "source": [
    "# Annual_Income: Highly skewed distribution with outliers. Log-transformation converts it to approximately normal distribution\n",
    "print(data.Annual_Income.skew())\n",
    "sns.histplot(x=np.log(data.Annual_Income),bins=50)\n",
    "data.Annual_Income = np.log(data.Annual_Income)"
   ]
  },
  {
   "cell_type": "code",
   "execution_count": 15,
   "id": "6014f41b-e426-4068-8d30-657c33d45fb0",
   "metadata": {},
   "outputs": [
    {
     "data": {
      "image/png": "[encoded data removed]",
      "text/plain": [
       "<Figure size 432x288 with 1 Axes>"
      ]
     },
     "metadata": {
      "needs_background": "light"
     },
     "output_type": "display_data"
    }
   ],
   "source": [
    "# Filling missing values in Annual Income while maintaining the distribution\n",
    "sns.histplot(data.Annual_Income.fillna(pd.Series(np.random.normal(loc=11.057788,scale=0.519843,size=len(data)))),bins=50)\n",
    "data.Annual_Income = data.Annual_Income.fillna(pd.Series(np.random.normal(loc=11.057788,scale=0.519843,size=len(data))))"
   ]
  },
  {
   "cell_type": "code",
   "execution_count": 16,
   "id": "19147772-94e9-464e-befb-9d1d8f3cab90",
   "metadata": {},
   "outputs": [
    {
     "data": {
      "image/png": "[encoded data removed]",
      "text/plain": [
       "<Figure size 432x288 with 1 Axes>"
      ]
     },
     "metadata": {
      "needs_background": "light"
     },
     "output_type": "display_data"
    }
   ],
   "source": [
    "sns.countplot(x=data.Income_Verified);"
   ]
  },
  {
   "cell_type": "code",
   "execution_count": 17,
   "id": "b2e7fb0e-5c1f-4e3e-b11c-7a1b7e16a6a6",
   "metadata": {},
   "outputs": [
    {
     "data": {
      "image/png": "[encoded data removed]",
      "text/plain": [
       "<Figure size 432x288 with 1 Axes>"
      ]
     },
     "metadata": {
      "needs_background": "light"
     },
     "output_type": "display_data"
    }
   ],
   "source": [
    "sns.countplot(x=data.Purpose_Of_Loan)\n",
    "plt.xticks(rotation='75');"
   ]
  },
  {
   "cell_type": "code",
   "execution_count": 18,
   "id": "56d95259-7b0b-457b-8009-b07a9eef1337",
   "metadata": {},
   "outputs": [
    {
     "data": {
      "image/png": "[encoded data removed]",
      "text/plain": [
       "<Figure size 432x288 with 1 Axes>"
      ]
     },
     "metadata": {
      "needs_background": "light"
     },
     "output_type": "display_data"
    }
   ],
   "source": [
    "sns.histplot(x=data.Debt_To_Income,bins=50);"
   ]
  },
  {
   "cell_type": "code",
   "execution_count": 19,
   "id": "5ec21531-4028-4ba5-bb53-1330dc53fdc9",
   "metadata": {},
   "outputs": [
    {
     "data": {
      "text/plain": [
       "<AxesSubplot:xlabel='Inquiries_Last_6Mo', ylabel='count'>"
      ]
     },
     "execution_count": 19,
     "metadata": {},
     "output_type": "execute_result"
    },
    {
     "data": {
      "image/png": "[encoded data removed]",
      "text/plain": [
       "<Figure size 432x288 with 1 Axes>"
      ]
     },
     "metadata": {
      "needs_background": "light"
     },
     "output_type": "display_data"
    }
   ],
   "source": [
    "sns.countplot(x=data.Inquiries_Last_6Mo)"
   ]
  },
  {
   "cell_type": "code",
   "execution_count": 20,
   "id": "7ba3ce2c-0253-448a-bd9f-f46791fc450c",
   "metadata": {},
   "outputs": [],
   "source": [
    "# We want to keep missing values as separate in this column, so they are filled with -1\n",
    "data.Months_Since_Deliquency.fillna(-1,inplace=True)"
   ]
  },
  {
   "cell_type": "code",
   "execution_count": 21,
   "id": "11783dec-2204-4ffe-a37f-e1d4f40ff7ae",
   "metadata": {},
   "outputs": [
    {
     "data": {
      "text/plain": [
       "<AxesSubplot:ylabel='Frequency'>"
      ]
     },
     "execution_count": 21,
     "metadata": {},
     "output_type": "execute_result"
    },
    {
     "data": {
      "image/png": "[encoded data removed]",
      "text/plain": [
       "<Figure size 432x288 with 1 Axes>"
      ]
     },
     "metadata": {
      "needs_background": "light"
     },
     "output_type": "display_data"
    }
   ],
   "source": [
    "data.Number_Open_Accounts.plot(kind='hist')"
   ]
  },
  {
   "cell_type": "code",
   "execution_count": 22,
   "id": "b4975a24-240c-4b4a-a7f0-bd8643203c8e",
   "metadata": {},
   "outputs": [
    {
     "data": {
      "text/plain": [
       "<AxesSubplot:ylabel='Frequency'>"
      ]
     },
     "execution_count": 22,
     "metadata": {},
     "output_type": "execute_result"
    },
    {
     "data": {
      "image/png": "[encoded data removed]",
      "text/plain": [
       "<Figure size 432x288 with 1 Axes>"
      ]
     },
     "metadata": {
      "needs_background": "light"
     },
     "output_type": "display_data"
    }
   ],
   "source": [
    "data.Total_Accounts.plot(kind='hist')"
   ]
  },
  {
   "cell_type": "code",
   "execution_count": 23,
   "id": "9782bc39-c662-4ef8-b1bf-ca725b58b7ee",
   "metadata": {},
   "outputs": [
    {
     "data": {
      "text/plain": [
       "<AxesSubplot:xlabel='Gender', ylabel='count'>"
      ]
     },
     "execution_count": 23,
     "metadata": {},
     "output_type": "execute_result"
    },
    {
     "data": {
      "image/png": "[encoded data removed]",
      "text/plain": [
       "<Figure size 432x288 with 1 Axes>"
      ]
     },
     "metadata": {
      "needs_background": "light"
     },
     "output_type": "display_data"
    }
   ],
   "source": [
    "sns.countplot(x=data.Gender)"
   ]
  },
  {
   "cell_type": "code",
   "execution_count": 24,
   "id": "dd154a12-2d14-463e-ac61-0b5b87fdab19",
   "metadata": {},
   "outputs": [
    {
     "data": {
      "text/plain": [
       "2    0.429557\n",
       "3    0.364697\n",
       "1    0.205746\n",
       "Name: Interest_Rate, dtype: float64"
      ]
     },
     "execution_count": 24,
     "metadata": {},
     "output_type": "execute_result"
    },
    {
     "data": {
      "image/png": "[encoded data removed]",
      "text/plain": [
       "<Figure size 432x288 with 1 Axes>"
      ]
     },
     "metadata": {
      "needs_background": "light"
     },
     "output_type": "display_data"
    }
   ],
   "source": [
    "# data is slightly imabalanced\n",
    "sns.countplot(x=data.Interest_Rate);\n",
    "data.Interest_Rate.value_counts(normalize=True)"
   ]
  },
  {
   "cell_type": "code",
   "execution_count": 25,
   "id": "05793946-7601-4ba1-99a4-b9e1559961cf",
   "metadata": {},
   "outputs": [
    {
     "name": "stdout",
     "output_type": "stream",
     "text": [
      "<class 'pandas.core.frame.DataFrame'>\n",
      "RangeIndex: 164309 entries, 0 to 164308\n",
      "Data columns (total 13 columns):\n",
      " #   Column                   Non-Null Count   Dtype  \n",
      "---  ------                   --------------   -----  \n",
      " 0   Loan_Amount_Requested    164309 non-null  int64  \n",
      " 1   Length_Employed          164309 non-null  int32  \n",
      " 2   Home_Owner               164309 non-null  object \n",
      " 3   Annual_Income            164309 non-null  float64\n",
      " 4   Income_Verified          164309 non-null  object \n",
      " 5   Purpose_Of_Loan          164309 non-null  object \n",
      " 6   Debt_To_Income           164309 non-null  float64\n",
      " 7   Inquiries_Last_6Mo       164309 non-null  int64  \n",
      " 8   Months_Since_Deliquency  164309 non-null  float64\n",
      " 9   Number_Open_Accounts     164309 non-null  int64  \n",
      " 10  Total_Accounts           164309 non-null  int64  \n",
      " 11  Gender                   164309 non-null  object \n",
      " 12  Interest_Rate            164309 non-null  int64  \n",
      "dtypes: float64(3), int32(1), int64(5), object(4)\n",
      "memory usage: 15.7+ MB\n"
     ]
    }
   ],
   "source": [
    "data.info()"
   ]
  },
  {
   "cell_type": "markdown",
   "id": "d31a44a0-d625-4c59-b582-721614dca121",
   "metadata": {},
   "source": [
    "# Bi-variate Analysis"
   ]
  },
  {
   "cell_type": "code",
   "execution_count": 26,
   "id": "7a8897c6-4cdb-42bf-afca-387ff41d22ee",
   "metadata": {},
   "outputs": [
    {
     "data": {
      "image/png": "[encoded data removed]",
      "text/plain": [
       "<Figure size 504x360 with 1 Axes>"
      ]
     },
     "metadata": {
      "needs_background": "light"
     },
     "output_type": "display_data"
    }
   ],
   "source": [
    "data.groupby(pd.cut(data.Loan_Amount_Requested,bins=5,labels=np.arange(5)))['Interest_Rate'].value_counts(\n",
    "    normalize=True).unstack().plot(kind='bar',width=0.8,figsize=(7,5))\n",
    "plt.xticks([0,1,2,3,4],['0-7000','7000-14000','14000-21000','21000-28000','28000-35000'],rotation=0)\n",
    "plt.xlabel(\"Loan_AMount_Requested\")\n",
    "plt.legend(labels=['Interest Rate 1','Interest Rate 2','Interest Rate 3'],loc=(1.01,0.5));"
   ]
  },
  {
   "cell_type": "code",
   "execution_count": 27,
   "id": "8c2cf92e-4d86-4fe4-a411-b1377a2faea9",
   "metadata": {
    "tags": []
   },
   "outputs": [
    {
     "data": {
      "image/png": "[encoded data removed]",
      "text/plain": [
       "<Figure size 432x288 with 1 Axes>"
      ]
     },
     "metadata": {
      "needs_background": "light"
     },
     "output_type": "display_data"
    }
   ],
   "source": [
    "data.groupby(pd.cut(data.Length_Employed,[-1,1,3,5,8,10],labels=[0,1,2,3,4]))['Interest_Rate'].value_counts(\n",
    "    normalize=True).unstack().plot(kind='bar',width=0.8)\n",
    "plt.xticks([0,1,2,3,4],['-1-1','1-3','3-5','5-8','8+'],rotation='0')\n",
    "plt.legend(loc=(1.01,0.4),labels=['Interest Rate 1','Interest Rate 2','Interest Rate 3']);"
   ]
  },
  {
   "cell_type": "code",
   "execution_count": 28,
   "id": "763a8665-06e6-4a5c-b84b-29b60ab0405a",
   "metadata": {},
   "outputs": [
    {
     "data": {
      "image/png": "[encoded data removed]",
      "text/plain": [
       "<Figure size 576x360 with 1 Axes>"
      ]
     },
     "metadata": {
      "needs_background": "light"
     },
     "output_type": "display_data"
    }
   ],
   "source": [
    "data.groupby(data.Home_Owner)['Interest_Rate'].value_counts(\n",
    "    normalize=True).unstack().plot(kind='bar',width=0.8,figsize=(8,5))\n",
    "plt.xticks(rotation=0)\n",
    "plt.legend(labels=['Interest Rate 1','Interest Rate 2','Interest Rate 3'],loc=(1.01,0.5));"
   ]
  },
  {
   "cell_type": "code",
   "execution_count": 29,
   "id": "e5e2f091-945b-416a-9daa-870c225cc639",
   "metadata": {},
   "outputs": [
    {
     "data": {
      "image/png": "[encoded data removed]",
      "text/plain": [
       "<Figure size 720x504 with 1 Axes>"
      ]
     },
     "metadata": {
      "needs_background": "light"
     },
     "output_type": "display_data"
    }
   ],
   "source": [
    "data.groupby(pd.cut(data.Annual_Income,bins=5,labels=np.arange(5)))['Interest_Rate'].value_counts(\n",
    "    normalize=True).unstack().plot(kind='bar',width=0.8,figsize=(10,7))\n",
    "plt.xticks([0,1,2,3,4],['0-1,503,200','1,503,200-3,002,400','3,002,400-4,501,600','4,501,600-6,000,800','6,000,800-7,500,000'],rotation='5')\n",
    "plt.xlabel(\"Log_Annual_Income\")\n",
    "plt.legend(labels=['Interest Rate 1','Interest Rate 2','Interest Rate 3'],loc=(1.01,0.5));"
   ]
  },
  {
   "cell_type": "code",
   "execution_count": 30,
   "id": "97b63d4c-9654-4d96-8610-aa224b73a02d",
   "metadata": {},
   "outputs": [
    {
     "data": {
      "image/png": "[encoded data removed]",
      "text/plain": [
       "<Figure size 576x360 with 1 Axes>"
      ]
     },
     "metadata": {
      "needs_background": "light"
     },
     "output_type": "display_data"
    }
   ],
   "source": [
    "data.groupby(data.Income_Verified)['Interest_Rate'].value_counts(\n",
    "    normalize=True).unstack().plot(kind='bar',width=0.8,figsize=(8,5))\n",
    "plt.xticks(rotation=0)\n",
    "plt.legend(labels=['Interest Rate 1','Interest Rate 2','Interest Rate 3'],loc=(1.01,0.5));"
   ]
  },
  {
   "cell_type": "code",
   "execution_count": 31,
   "id": "bf4583d9-0dd5-4a8e-bbfd-6f16684c41e3",
   "metadata": {},
   "outputs": [
    {
     "data": {
      "image/png": "[encoded data removed]",
      "text/plain": [
       "<Figure size 576x360 with 1 Axes>"
      ]
     },
     "metadata": {
      "needs_background": "light"
     },
     "output_type": "display_data"
    }
   ],
   "source": [
    "data.groupby(data.Purpose_Of_Loan)['Interest_Rate'].value_counts(\n",
    "    normalize=True).unstack().plot(kind='bar',width=0.8,figsize=(8,5))\n",
    "plt.xticks(rotation='70')\n",
    "plt.legend(labels=['Interest Rate 1','Interest Rate 2','Interest Rate 3'],loc=(1.01,0.5));"
   ]
  },
  {
   "cell_type": "code",
   "execution_count": 32,
   "id": "fc29d217-74b0-4887-8a8a-f6b8803945da",
   "metadata": {},
   "outputs": [
    {
     "data": {
      "image/png": "[encoded data removed]",
      "text/plain": [
       "<Figure size 576x360 with 1 Axes>"
      ]
     },
     "metadata": {
      "needs_background": "light"
     },
     "output_type": "display_data"
    }
   ],
   "source": [
    "data.groupby(pd.cut(data.Debt_To_Income,bins=5,labels=np.arange(5)))['Interest_Rate'].value_counts(\n",
    "    normalize=True).unstack().plot(kind='bar',width=0.8,figsize=(8,5))\n",
    "plt.xticks(ticks=[0,1,2,3,4],labels = [\"0-8\", \"8-16\" , \"16-24\", \"24-32\", \"32-40\"], rotation='0')\n",
    "plt.legend(labels=['Interest Rate 1','Interest Rate 2','Interest Rate 3'],loc=(1.01,0.5));"
   ]
  },
  {
   "cell_type": "code",
   "execution_count": 33,
   "id": "5c29a6e0-30f9-4576-896e-69c09bd55226",
   "metadata": {},
   "outputs": [
    {
     "data": {
      "image/png": "[encoded data removed]",
      "text/plain": [
       "<Figure size 576x360 with 1 Axes>"
      ]
     },
     "metadata": {
      "needs_background": "light"
     },
     "output_type": "display_data"
    }
   ],
   "source": [
    "data.groupby(data.Inquiries_Last_6Mo)['Interest_Rate'].value_counts(\n",
    "    normalize=True).unstack().plot(kind='bar',width=0.8,figsize=(8,5))\n",
    "plt.xticks(rotation=0)\n",
    "plt.legend(labels=['Interest Rate 1','Interest Rate 2','Interest Rate 3'],loc=(1.01,0.5));"
   ]
  },
  {
   "cell_type": "code",
   "execution_count": 34,
   "id": "c50784f9-c4dc-41d0-8eb6-57653b5efa18",
   "metadata": {},
   "outputs": [
    {
     "data": {
      "image/png": "[encoded data removed]",
      "text/plain": [
       "<Figure size 576x360 with 1 Axes>"
      ]
     },
     "metadata": {
      "needs_background": "light"
     },
     "output_type": "display_data"
    }
   ],
   "source": [
    "data.groupby(pd.cut(data.Months_Since_Deliquency,bins=[-1.001,0,40,80,100,180],labels=np.arange(5)))['Interest_Rate'].value_counts(\n",
    "    normalize=True).unstack().plot(kind='bar',width=0.8,figsize=(8,5))\n",
    "plt.xticks(ticks=[0,1,2,3,4],labels=[\"-1-0\",\"0-40\",\"40-80\",\"80-100\",\"100-180\"],rotation=0)\n",
    "plt.legend(labels=['Interest Rate 1','Interest Rate 2','Interest Rate 3'],loc=(1.01,0.5));"
   ]
  },
  {
   "cell_type": "code",
   "execution_count": 35,
   "id": "0b6aaba4-94aa-4935-a19e-1baa66ed015c",
   "metadata": {},
   "outputs": [
    {
     "data": {
      "image/png": "[encoded data removed]",
      "text/plain": [
       "<Figure size 576x360 with 1 Axes>"
      ]
     },
     "metadata": {
      "needs_background": "light"
     },
     "output_type": "display_data"
    }
   ],
   "source": [
    "data.groupby(pd.cut(data.Number_Open_Accounts,bins=5,labels=np.arange(5)))['Interest_Rate'].value_counts(\n",
    "    normalize=True).unstack().plot(kind='bar',width=0.8,figsize=(8,5))\n",
    "plt.xticks(ticks=[0,1,2,3,4],labels=[\"0-15\",\"15-30\",\"30-46\",\"46-61\",\"61-76\"],rotation=0)\n",
    "plt.legend(labels=['Interest Rate 1','Interest Rate 2','Interest Rate 3'],loc=(1.01,0.5));"
   ]
  },
  {
   "cell_type": "code",
   "execution_count": 36,
   "id": "b39e3bfb-3326-4c54-a530-9f45482f23d2",
   "metadata": {},
   "outputs": [
    {
     "data": {
      "image/png": "[encoded data removed]",
      "text/plain": [
       "<Figure size 576x360 with 1 Axes>"
      ]
     },
     "metadata": {
      "needs_background": "light"
     },
     "output_type": "display_data"
    }
   ],
   "source": [
    "data.groupby(pd.cut(data.Total_Accounts,bins=5,labels=np.arange(5)))['Interest_Rate'].value_counts(\n",
    "    normalize=True).unstack().plot(kind='bar',width=0.8,figsize=(8,5))\n",
    "plt.xticks(ticks=[0,1,2,3,4],labels=[\"2-33\",\"33-64\",\"64-94\",\"94-125\",\"125-156\"],rotation=0)\n",
    "plt.legend(labels=['Interest Rate 1','Interest Rate 2','Interest Rate 3'],loc=(1.01,0.5));"
   ]
  },
  {
   "cell_type": "code",
   "execution_count": 37,
   "id": "9c1f69ea-f347-478b-b453-640e01e38cba",
   "metadata": {},
   "outputs": [
    {
     "data": {
      "image/png": "[encoded data removed]",
      "text/plain": [
       "<Figure size 576x360 with 1 Axes>"
      ]
     },
     "metadata": {
      "needs_background": "light"
     },
     "output_type": "display_data"
    }
   ],
   "source": [
    "data.groupby(data.Gender)['Interest_Rate'].value_counts(\n",
    "    normalize=True).unstack().plot(kind='bar',width=0.8,figsize=(8,5))\n",
    "plt.xticks(rotation=0)\n",
    "plt.legend(labels=['Interest Rate 1','Interest Rate 2','Interest Rate 3'],loc=(1.01,0.5));"
   ]
  },
  {
   "cell_type": "markdown",
   "id": "3a602912-720c-4eee-90ea-d3bedfa71309",
   "metadata": {},
   "source": [
    "# Model Building"
   ]
  },
  {
   "cell_type": "code",
   "execution_count": 38,
   "id": "072810e3-0e18-4579-8cdc-5345ce1c6cbb",
   "metadata": {},
   "outputs": [
    {
     "name": "stdout",
     "output_type": "stream",
     "text": [
      "<class 'pandas.core.frame.DataFrame'>\n",
      "RangeIndex: 164309 entries, 0 to 164308\n",
      "Data columns (total 13 columns):\n",
      " #   Column                   Non-Null Count   Dtype  \n",
      "---  ------                   --------------   -----  \n",
      " 0   Loan_Amount_Requested    164309 non-null  int64  \n",
      " 1   Length_Employed          164309 non-null  int32  \n",
      " 2   Home_Owner               164309 non-null  object \n",
      " 3   Annual_Income            164309 non-null  float64\n",
      " 4   Income_Verified          164309 non-null  object \n",
      " 5   Purpose_Of_Loan          164309 non-null  object \n",
      " 6   Debt_To_Income           164309 non-null  float64\n",
      " 7   Inquiries_Last_6Mo       164309 non-null  int64  \n",
      " 8   Months_Since_Deliquency  164309 non-null  float64\n",
      " 9   Number_Open_Accounts     164309 non-null  int64  \n",
      " 10  Total_Accounts           164309 non-null  int64  \n",
      " 11  Gender                   164309 non-null  object \n",
      " 12  Interest_Rate            164309 non-null  int64  \n",
      "dtypes: float64(3), int32(1), int64(5), object(4)\n",
      "memory usage: 15.7+ MB\n"
     ]
    }
   ],
   "source": [
    "data.info()"
   ]
  },
  {
   "cell_type": "code",
   "execution_count": 39,
   "id": "8f330e94-9d8e-45e7-a034-7886627c1110",
   "metadata": {},
   "outputs": [],
   "source": [
    "data_encoded = pd.get_dummies(data,drop_first=True)"
   ]
  },
  {
   "cell_type": "code",
   "execution_count": 40,
   "id": "d9304354-3be7-4a29-9d1f-f78f4c7a7603",
   "metadata": {},
   "outputs": [],
   "source": [
    "X = data_encoded.drop('Interest_Rate',axis=1)\n",
    "y = data_encoded.Interest_Rate"
   ]
  },
  {
   "cell_type": "code",
   "execution_count": 41,
   "id": "9c2c5b08-c2b2-4e23-8dc0-9d8341e45c43",
   "metadata": {},
   "outputs": [],
   "source": [
    "from sklearn.model_selection import train_test_split\n",
    "X_train, X_test, y_train, y_test = train_test_split(X,y,test_size=0.2,random_state=10)"
   ]
  },
  {
   "cell_type": "code",
   "execution_count": 42,
   "id": "0a070893-732f-47ce-9833-6e78ef0c4604",
   "metadata": {},
   "outputs": [],
   "source": [
    "from sklearn.tree import DecisionTreeClassifier\n",
    "dt = DecisionTreeClassifier()"
   ]
  },
  {
   "cell_type": "code",
   "execution_count": 43,
   "id": "c15ff25d-fbd7-4f46-b795-6fa9981a9c8e",
   "metadata": {},
   "outputs": [
    {
     "data": {
      "text/plain": [
       "DecisionTreeClassifier()"
      ]
     },
     "execution_count": 43,
     "metadata": {},
     "output_type": "execute_result"
    }
   ],
   "source": [
    "dt.fit(X_train,y_train)"
   ]
  },
  {
   "cell_type": "code",
   "execution_count": 44,
   "id": "2f93cffd-5e6f-4414-bdf0-43479be9d45f",
   "metadata": {},
   "outputs": [
    {
     "data": {
      "text/plain": [
       "1.0"
      ]
     },
     "execution_count": 44,
     "metadata": {},
     "output_type": "execute_result"
    }
   ],
   "source": [
    "dt.score(X_train,y_train)"
   ]
  },
  {
   "cell_type": "code",
   "execution_count": 45,
   "id": "5c2ddfdc-636a-4626-8221-6c95c28b4b48",
   "metadata": {},
   "outputs": [
    {
     "data": {
      "text/plain": [
       "0.4304059399914795"
      ]
     },
     "execution_count": 45,
     "metadata": {},
     "output_type": "execute_result"
    }
   ],
   "source": [
    "dt.score(X_test,y_test)"
   ]
  },
  {
   "cell_type": "code",
   "execution_count": 46,
   "id": "88a9fdd7-9155-4e1d-91f5-f2f5e91871b3",
   "metadata": {},
   "outputs": [
    {
     "data": {
      "text/plain": [
       "(44339,)"
      ]
     },
     "execution_count": 46,
     "metadata": {},
     "output_type": "execute_result"
    }
   ],
   "source": [
    "dt.tree_.impurity.nonzero()[0].shape"
   ]
  },
  {
   "cell_type": "code",
   "execution_count": 47,
   "id": "243ba0f4-5770-492d-9464-04c1c423d754",
   "metadata": {},
   "outputs": [
    {
     "data": {
      "text/plain": [
       "(88679,)"
      ]
     },
     "execution_count": 47,
     "metadata": {},
     "output_type": "execute_result"
    }
   ],
   "source": [
    "dt.tree_.impurity.shape"
   ]
  },
  {
   "cell_type": "code",
   "execution_count": 49,
   "id": "7817a2ac-231d-45f9-b213-f1037bb76f7c",
   "metadata": {},
   "outputs": [
    {
     "name": "stdout",
     "output_type": "stream",
     "text": [
      "              precision    recall  f1-score   support\n",
      "\n",
      "           1       1.00      1.00      1.00     27123\n",
      "           2       1.00      1.00      1.00     56291\n",
      "           3       1.00      1.00      1.00     48033\n",
      "\n",
      "    accuracy                           1.00    131447\n",
      "   macro avg       1.00      1.00      1.00    131447\n",
      "weighted avg       1.00      1.00      1.00    131447\n",
      "\n"
     ]
    }
   ],
   "source": [
    "from sklearn.metrics import classification_report\n",
    "print(classification_report(dt.predict(X_train),y_train))"
   ]
  },
  {
   "cell_type": "code",
   "execution_count": 50,
   "id": "160b8a45-edbb-406e-ba6b-c9af4f702018",
   "metadata": {},
   "outputs": [
    {
     "name": "stdout",
     "output_type": "stream",
     "text": [
      "              precision    recall  f1-score   support\n",
      "\n",
      "           1       0.33      0.32      0.32      6884\n",
      "           2       0.45      0.46      0.45     13922\n",
      "           3       0.47      0.46      0.46     12056\n",
      "\n",
      "    accuracy                           0.43     32862\n",
      "   macro avg       0.41      0.41      0.41     32862\n",
      "weighted avg       0.43      0.43      0.43     32862\n",
      "\n"
     ]
    }
   ],
   "source": [
    "print(classification_report(dt.predict(X_test),y_test))"
   ]
  },
  {
   "cell_type": "code",
   "execution_count": 51,
   "id": "a349ec9f-5f47-4aad-a75e-58290c120975",
   "metadata": {},
   "outputs": [
    {
     "data": {
      "text/plain": [
       "DecisionTreeClassifier(criterion='entropy', max_depth=8, max_features=6)"
      ]
     },
     "execution_count": 51,
     "metadata": {},
     "output_type": "execute_result"
    }
   ],
   "source": [
    "dt = DecisionTreeClassifier(criterion='entropy',max_depth=8,max_features=6)\n",
    "dt.fit(X_train,y_train)"
   ]
  },
  {
   "cell_type": "code",
   "execution_count": 52,
   "id": "d2db7209-776b-4adb-bc9f-c92ed18046c3",
   "metadata": {},
   "outputs": [
    {
     "data": {
      "text/plain": [
       "0.49996956971578116"
      ]
     },
     "execution_count": 52,
     "metadata": {},
     "output_type": "execute_result"
    }
   ],
   "source": [
    "dt.score(X_test,y_test)"
   ]
  },
  {
   "cell_type": "code",
   "execution_count": 53,
   "id": "247dc242-991c-4a11-b727-866b1aa0b801",
   "metadata": {},
   "outputs": [
    {
     "data": {
      "text/plain": [
       "DecisionTreeClassifier(max_depth=8, min_samples_leaf=1000,\n",
       "                       min_samples_split=1000)"
      ]
     },
     "execution_count": 53,
     "metadata": {},
     "output_type": "execute_result"
    }
   ],
   "source": [
    "dt = DecisionTreeClassifier(max_depth=8,min_samples_split=1000,\n",
    "                           min_samples_leaf=1000)\n",
    "dt.fit(X_train,y_train)"
   ]
  },
  {
   "cell_type": "code",
   "execution_count": 54,
   "id": "f3fa4f1a-4448-4e88-8f91-9362a50c7bf6",
   "metadata": {},
   "outputs": [
    {
     "data": {
      "text/plain": [
       "0.5088247824234678"
      ]
     },
     "execution_count": 54,
     "metadata": {},
     "output_type": "execute_result"
    }
   ],
   "source": [
    "dt.score(X_test,y_test)"
   ]
  },
  {
   "cell_type": "code",
   "execution_count": 55,
   "id": "ce11374a-6c71-44bb-9ed7-9d44cf8b3f4b",
   "metadata": {},
   "outputs": [
    {
     "name": "stdout",
     "output_type": "stream",
     "text": [
      "Fitting 3 folds for each of 27 candidates, totalling 81 fits\n"
     ]
    },
    {
     "data": {
      "text/plain": [
       "GridSearchCV(cv=3,\n",
       "             estimator=DecisionTreeClassifier(max_depth=8,\n",
       "                                              min_samples_leaf=1000,\n",
       "                                              min_samples_split=1000),\n",
       "             n_jobs=-1,\n",
       "             param_grid={'max_depth': [6, 8, 10],\n",
       "                         'min_samples_leaf': [500, 1000, 2000],\n",
       "                         'min_samples_split': [1000, 2000, 500]},\n",
       "             verbose=1)"
      ]
     },
     "execution_count": 55,
     "metadata": {},
     "output_type": "execute_result"
    }
   ],
   "source": [
    "from sklearn.model_selection import GridSearchCV\n",
    "param_grid = {'max_depth': [6,8,10], 'min_samples_split':[1000,2000,500],\n",
    "              'min_samples_leaf':[500,1000,2000]}\n",
    "gcv = GridSearchCV(dt,param_grid,n_jobs=-1,cv=3,verbose=1)\n",
    "gcv.fit(X_train,y_train)"
   ]
  },
  {
   "cell_type": "code",
   "execution_count": 56,
   "id": "6e87da9e-c889-4044-9f63-8a4a61ce253e",
   "metadata": {},
   "outputs": [
    {
     "data": {
      "text/plain": [
       "DecisionTreeClassifier(max_depth=10, min_samples_leaf=500,\n",
       "                       min_samples_split=1000)"
      ]
     },
     "execution_count": 56,
     "metadata": {},
     "output_type": "execute_result"
    }
   ],
   "source": [
    "gcv.best_estimator_"
   ]
  },
  {
   "cell_type": "code",
   "execution_count": 57,
   "id": "d817271a-aa62-4c0e-9f20-a62697b2db0b",
   "metadata": {},
   "outputs": [
    {
     "data": {
      "text/plain": [
       "0.5134501856247338"
      ]
     },
     "execution_count": 57,
     "metadata": {},
     "output_type": "execute_result"
    }
   ],
   "source": [
    "gcv.score(X_test,y_test)"
   ]
  },
  {
   "cell_type": "code",
   "execution_count": 58,
   "id": "42f17609-9a07-497c-8476-ccb0292341f3",
   "metadata": {},
   "outputs": [
    {
     "data": {
      "text/plain": [
       "0.4813462357738421"
      ]
     },
     "execution_count": 58,
     "metadata": {},
     "output_type": "execute_result"
    }
   ],
   "source": [
    "dt = DecisionTreeClassifier(max_depth=5, max_features=7)\n",
    "dt.fit(X_train,y_train)\n",
    "dt.score(X_test,y_test)"
   ]
  },
  {
   "cell_type": "code",
   "execution_count": 59,
   "id": "5fd1ef75-b516-4793-8bb4-9d4a4ed804f4",
   "metadata": {},
   "outputs": [
    {
     "data": {
      "text/plain": [
       "0.42419816201083316"
      ]
     },
     "execution_count": 59,
     "metadata": {},
     "output_type": "execute_result"
    }
   ],
   "source": [
    "dt = DecisionTreeClassifier(splitter='random',max_features=10)\n",
    "dt.fit(X_train,y_train)\n",
    "dt.score(X_test,y_test)"
   ]
  },
  {
   "cell_type": "code",
   "execution_count": 63,
   "id": "4d92f4d8-00c5-4e23-8c71-17cc147748a6",
   "metadata": {},
   "outputs": [
    {
     "name": "stdout",
     "output_type": "stream",
     "text": [
      "Fitting 5 folds for each of 5832 candidates, totalling 29160 fits\n"
     ]
    },
    {
     "data": {
      "text/plain": [
       "GridSearchCV(cv=5, estimator=DecisionTreeClassifier(), n_jobs=-1,\n",
       "             param_grid={'ccp_alpha': [1e-05, 0.0001, 0.01],\n",
       "                         'criterion': ['gini', 'entropy'],\n",
       "                         'max_depth': [5, 8, 10, 15],\n",
       "                         'max_features': ['sqrt', 10, 12],\n",
       "                         'max_leaf_nodes': [100, 500, 1000],\n",
       "                         'min_impurity_decrease': [0.001, 0.01, 0.1],\n",
       "                         'min_samples_leaf': [100, 500, 1000],\n",
       "                         'min_samples_split': [100, 500, 1000]},\n",
       "             verbose=3)"
      ]
     },
     "execution_count": 63,
     "metadata": {},
     "output_type": "execute_result"
    }
   ],
   "source": [
    "dt = DecisionTreeClassifier()\n",
    "param_grid = {'criterion': ['gini','entropy'],\n",
    "    'max_depth':[5,8,10,15] ,\n",
    "    'min_samples_split': [100,500,1000],\n",
    "    'min_samples_leaf':[100,500,1000],\n",
    "    'max_features':['sqrt',10,12],\n",
    "    'max_leaf_nodes':[100,500,1000],\n",
    "    'min_impurity_decrease': [0.001,0.01,0.1],\n",
    "    'ccp_alpha': [0.00001,0.0001,0.01]}\n",
    "gcv = GridSearchCV(dt, param_grid, n_jobs=-1,cv=5,verbose=3)\n",
    "gcv.fit(X_train,y_train)"
   ]
  },
  {
   "cell_type": "code",
   "execution_count": 64,
   "id": "e8859c9d-536b-4948-9bb7-a9bf98991512",
   "metadata": {},
   "outputs": [
    {
     "data": {
      "text/plain": [
       "0.4907187633132494"
      ]
     },
     "execution_count": 64,
     "metadata": {},
     "output_type": "execute_result"
    }
   ],
   "source": [
    "gcv.score(X_test,y_test)"
   ]
  },
  {
   "cell_type": "code",
   "execution_count": 65,
   "id": "ef7f2905-ce3f-47da-929a-f957c54c3989",
   "metadata": {},
   "outputs": [
    {
     "data": {
      "text/plain": [
       "DecisionTreeClassifier(ccp_alpha=1e-05, criterion='entropy', max_depth=10,\n",
       "                       max_features=12, max_leaf_nodes=100,\n",
       "                       min_impurity_decrease=0.001, min_samples_leaf=500,\n",
       "                       min_samples_split=500)"
      ]
     },
     "execution_count": 65,
     "metadata": {},
     "output_type": "execute_result"
    }
   ],
   "source": [
    "gcv.best_estimator_"
   ]
  },
  {
   "cell_type": "code",
   "execution_count": 66,
   "id": "346b54cd-7fd1-4b10-9803-2e4a0d7182da",
   "metadata": {},
   "outputs": [
    {
     "data": {
      "text/plain": [
       "0.5134501856247338"
      ]
     },
     "execution_count": 66,
     "metadata": {},
     "output_type": "execute_result"
    }
   ],
   "source": [
    "dt_best = DecisionTreeClassifier(max_depth=10, min_samples_leaf=500,min_samples_split=1000)\n",
    "dt_best.fit(X_train,y_train)\n",
    "dt_best.score(X_test,y_test)"
   ]
  },
  {
   "cell_type": "code",
   "execution_count": 68,
   "id": "12608fb0-a3a6-4b6e-a961-c146a8bcff9e",
   "metadata": {},
   "outputs": [
    {
     "name": "stdout",
     "output_type": "stream",
     "text": [
      "              precision    recall  f1-score   support\n",
      "\n",
      "           1       0.49      0.21      0.29      6683\n",
      "           2       0.49      0.64      0.55     14289\n",
      "           3       0.56      0.54      0.55     11890\n",
      "\n",
      "    accuracy                           0.51     32862\n",
      "   macro avg       0.51      0.46      0.46     32862\n",
      "weighted avg       0.51      0.51      0.50     32862\n",
      "\n"
     ]
    }
   ],
   "source": [
    "print(classification_report(y_test, dt_best.predict(X_test)))"
   ]
  },
  {
   "cell_type": "code",
   "execution_count": null,
   "id": "a5723c44-a409-454a-b43f-6dcf99475c99",
   "metadata": {},
   "outputs": [],
   "source": []
  }
 ],
 "metadata": {
  "kernelspec": {
   "display_name": "Python 3",
   "language": "python",
   "name": "python3"
  },
  "language_info": {
   "codemirror_mode": {
    "name": "ipython",
    "version": 3
   },
   "file_extension": ".py",
   "mimetype": "text/x-python",
   "name": "python",
   "nbconvert_exporter": "python",
   "pygments_lexer": "ipython3",
   "version": "3.8.8"
  }
 },
 "nbformat": 4,
 "nbformat_minor": 5
}
