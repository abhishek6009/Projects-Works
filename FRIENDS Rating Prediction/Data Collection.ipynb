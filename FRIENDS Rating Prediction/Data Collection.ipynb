{
 "cells": [
  {
   "cell_type": "code",
   "execution_count": 2,
   "id": "67f794fa-bc5b-43cf-b59e-d0fc81f7033f",
   "metadata": {},
   "outputs": [],
   "source": [
    "import numpy as np\n",
    "import pandas as pd\n",
    "from bs4 import BeautifulSoup"
   ]
  },
  {
   "cell_type": "code",
   "execution_count": 3,
   "id": "3c08bd60-1862-4e13-a548-a38f04ca224d",
   "metadata": {},
   "outputs": [],
   "source": [
    "from selenium import webdriver"
   ]
  },
  {
   "cell_type": "markdown",
   "id": "4a4065cc-f626-4fe0-916d-4e8cfbf87f2d",
   "metadata": {},
   "source": [
    "# Getting the transcripts"
   ]
  },
  {
   "cell_type": "markdown",
   "id": "a198bb2c-5bf4-4782-a09f-b98d00983e34",
   "metadata": {},
   "source": [
    "### Figuring out the logic"
   ]
  },
  {
   "cell_type": "code",
   "execution_count": 36,
   "id": "6832471f-4406-4388-8d5d-5d7414d4f2ff",
   "metadata": {},
   "outputs": [],
   "source": [
    "browser.get(\"https://fangj.github.io/friends/\")"
   ]
  },
  {
   "cell_type": "code",
   "execution_count": 73,
   "id": "0a163631-a77c-4156-96e0-5d9527bb63b4",
   "metadata": {},
   "outputs": [
    {
     "data": {
      "text/plain": [
       "'https://fangj.github.io/friends/season/0101.html'"
      ]
     },
     "execution_count": 73,
     "metadata": {},
     "output_type": "execute_result"
    }
   ],
   "source": [
    "link1=browser.find_element(by='xpath',value=\"/html/body/ul[1]/li[1]/a\")\n",
    "link1.get_attribute('href')"
   ]
  },
  {
   "cell_type": "code",
   "execution_count": 40,
   "id": "7a86e633-37ec-46de-9275-741a1a866097",
   "metadata": {},
   "outputs": [],
   "source": [
    "webdriver.ActionChains(browser).click(link1).perform()"
   ]
  },
  {
   "cell_type": "code",
   "execution_count": 43,
   "id": "ee2b83cf-6b2f-4bcb-a29f-f78d3ebafda1",
   "metadata": {},
   "outputs": [],
   "source": [
    "raw_html = browser.page_source"
   ]
  },
  {
   "cell_type": "code",
   "execution_count": 44,
   "id": "10a8d47c-9878-4435-b702-8fcee852e443",
   "metadata": {},
   "outputs": [],
   "source": [
    "processed_html = BeautifulSoup(raw_html,'html.parser')"
   ]
  },
  {
   "cell_type": "code",
   "execution_count": 53,
   "id": "c52ec72b-910e-4276-8fd0-d343273142f0",
   "metadata": {},
   "outputs": [],
   "source": [
    "text = processed_html.text.split(\"[\")[1:]"
   ]
  },
  {
   "cell_type": "code",
   "execution_count": 57,
   "id": "a84e11cd-9e1e-493f-9385-9c57bfdd28c8",
   "metadata": {
    "collapsed": true,
    "jupyter": {
     "outputs_hidden": true
    },
    "tags": []
   },
   "outputs": [
    {
     "data": {
      "text/plain": [
       "'Scene: Central Perk, Chandler, Joey, Phoebe, and Monica are there.]\\nMonica: There\\'s nothing to tell! He\\'s just some guy\\nI work with!\\nJoey: C\\'mon, you\\'re going out with the guy! There\\'s\\ngotta be something wrong with him!\\nChandler: All right Joey, be\\nnice.\\xa0 So does he have a hump? A hump and a hairpiece?\\nPhoebe: Wait, does he eat chalk?\\n(They all stare, bemused.)\\nPhoebe: Just, \\'cause, I don\\'t want her to go through\\nwhat I went through with Carl- oh!\\nMonica: Okay, everybody relax. This is not even a\\ndate. It\\'s just two people going out to dinner and- not having sex.\\nChandler: Sounds like a date to me.\\n Time Lapse]\\nChandler: Alright, so I\\'m back in high school, I\\'m\\nstanding in the middle of the cafeteria, and I realize I am totally naked.\\nAll: Oh, yeah. Had that dream.\\nChandler: Then I look down, and I realize there\\'s a\\nphone... there.\\nJoey: Instead of...?\\nChandler: That\\'s right.\\nJoey: Never had that dream.\\nPhoebe: No.\\nChandler: All of a sudden, the phone starts to ring.\\nNow I don\\'t know what to do, everybody starts looking at me. \\nMonica: And they weren\\'t looking at\\nyou before?!\\nChandler: Finally, I figure\\nI\\'d better answer it, and it turns out it\\'s my mother,\\nwhich is very-very weird, because- she never calls me!\\n Time Lapse, Ross has entered.]\\nRoss: (mortified) Hi.\\nJoey: This guy says hello, I wanna kill myself.\\nMonica: Are you okay, sweetie?\\nRoss: I just feel like someone reached down my\\nthroat, grabbed my small intestine, pulled it out of my mouth and tied it around my\\nneck...\\nChandler: Cookie?\\nMonica: (explaining to the others) Carol moved her\\nstuff out today. \\nJoey: Ohh.\\nMonica: (to Ross) Let me get you some coffee.\\nRoss: Thanks.\\nPhoebe: Ooh! Oh! (She starts to pluck at the air\\njust in front of Ross.)\\nRoss: No, no don\\'t! Stop cleansing my aura! No, just\\nleave my aura alone, okay?\\nPhoebe: Fine!\\xa0 Be murky!\\nRoss: I\\'ll be fine,\\nalright? Really, everyone. I hope she\\'ll be very happy.\\nMonica: No you don\\'t.\\nRoss: No I don\\'t, to hell with her, she left me!\\nJoey: And you never knew she was a lesbian...\\nRoss: No!! Okay?! Why does everyone keep fixating on\\nthat? She didn\\'t know, how should I know?\\nChandler: Sometimes I wish I was a lesbian... (They\\nall stare at him.) Did I say that out loud?\\nRoss: I told mom and dad last night,\\nthey seemed to take it pretty well.\\nMonica: Oh really, so that\\nhysterical phone call I got from a woman at sobbing 3:00 A.M., \"I\\'ll never have\\ngrandchildren, I\\'ll never have grandchildren.\" was what?\\xa0 A wrong number?\\nRoss: Sorry.\\nJoey: Alright Ross, look. You\\'re feeling a lot of\\npain right now. You\\'re angry. You\\'re hurting. Can I tell you what the answer is?\\n(Ross gestures his consent.)\\nJoey: Strip joint! C\\'mon, you\\'re single! Have some\\nhormones!\\nRoss: I don\\'t want to be single, okay? I just... I\\njust- I just wanna be married again!\\n(Rachel enters in a wet wedding dress and starts to search\\nthe room.)\\nChandler: And I just want a million dollars! (He\\nextends his hand hopefully.)\\nMonica: Rachel?!\\nRachel: Oh God Monica hi! Thank God! I just went to\\nyour building and you weren\\'t there and then this guy with a big hammer said you might be\\nhere and you are, you are!\\nWaitress: Can I get you some coffee?\\nMonica: (pointing at Rachel) De-caff. (to All) Okay,\\neverybody, this is Rachel, another Lincoln High survivor. (to Rachel) This is everybody,\\nthis is Chandler, and Phoebe, and Joey, and- you remember my brother Ross? \\nRachel: Hi, sure!\\nRoss: Hi. \\n(They go to hug but Ross\\'s umbrella opens.\\xa0 He sits\\nback down defeated again.\\xa0 A moment of silence follows as Rachel sits and the others\\nexpect her to explain.)\\nMonica: So you wanna tell us now, or are we waiting\\nfor four wet bridesmaids?\\nRachel: Oh God... well, it started about a half hour\\nbefore the wedding. I was in the room where we were keeping all the presents, and I was\\nlooking at this gravy boat. This really gorgeous Lamauge gravy boat. When all of a sudden-\\n(to the waitress that brought her coffee)Sweet \\'n\\' Lo?- I realized that I was more turned\\non by this gravy boat than by Barry! And then I got really freaked out, and that\\'s when it\\nhit me: how much Barry looks like Mr. Potato Head. Y\\'know, I mean, I always knew looked\\nfamiliar, but... Anyway, I just had to get out of there, and I started wondering \\'Why am I\\ndoing this, and who am I doing this for?\\'. (to Monica) So anyway I just didn\\'t know where\\nto go, and I know that you and I have kinda drifted apart, but you\\'re the only person I\\nknew who lived here in the city.\\nMonica: Who wasn\\'t invited to the wedding.\\nRachel: Ooh, I was kinda hoping that wouldn\\'t be an\\nissue...  Scene: Monica\\'s Apartment, everyone is there and watching a Spanish Soap on TV\\nand are trying to figure out what is going on.]\\nMonica: Now I\\'m guessing that he bought her the big\\npipe organ, and she\\'s really not happy about it. \\nChandler: (imitating the characters)\\nTuna or egg salad?\\xa0 Decide!\\nRoss: (in a deep voice) I\\'ll have\\nwhatever Christine is having.\\nRachel: (on phone) Daddy, I just... I can\\'t marry\\nhim! I\\'m sorry. I just don\\'t love him. Well, it matters to me! \\n(The scene on TV has changed to show two\\nwomen, one is holding her hair.)\\nPhoebe:\\xa0 If I let go of\\nmy hair, my head will fall off. \\nChandler: (re TV) Ooh, she should not be wearing\\nthose pants. \\nJoey: I say push her down the stairs. \\nPhoebe, Ross, Chandler, and Joey:\\xa0\\nPush her down the stairs! Push her down the stairs! Push her down the stairs!\\n(She is pushed down the stairs and everyone cheers.)\\nRachel: C\\'mon Daddy, listen to me! It\\'s like, it\\'s\\nlike, all of my life, everyone has always told me, \\'You\\'re a shoe! You\\'re a shoe, you\\'re a\\nshoe, you\\'re a shoe!\\'. And today I just stopped and I said, \\'What if I don\\'t wanna be a\\nshoe? What if I wanna be a- a purse, y\\'know? Or a- or a hat! No, I\\'m not saying I want you\\nto buy me a hat, I\\'m saying I am a ha- It\\'s a metaphor, Daddy!\\nRoss: You can see where he\\'d have trouble.\\nRachel: Look Daddy, it\\'s my life. Well maybe I\\'ll\\njust stay here with Monica. \\nMonica: Well, I guess we\\'ve established who\\'s\\nstaying here with Monica...\\nRachel: Well, maybe that\\'s my decision. Well, maybe\\nI don\\'t need your money. Wait!! Wait, I said maybe!!\\n Time Lapse, Rachel is breating into a paper bag.]\\nMonica: Just breathe, breathe.. that\\'s it. Just try\\nto think of nice calm things...\\nPhoebe: (sings) Raindrops on roses and rabbits and\\nkittens, (Rachel and Monica turn to look at her.) bluebells and sleighbells and- something\\nwith mittens... La la la la...something and noodles with\\nstring.\\xa0 These are a few...\\nRachel: I\\'m all better now.\\nPhoebe: (grins and walks to the kitchen and says to\\nChandler and Joey.) I helped!\\nMonica: Okay, look, this is probably for the best,\\ny\\'know? Independence. Taking control of your life.\\xa0 The whole,\\n\\'hat\\' thing.\\nJoey: (comforting her) And hey, you need anything,\\nyou can always come to Joey. Me and Chandler live across the hall. And he\\'s away a lot.\\nMonica: Joey, stop hitting on her! It\\'s her wedding\\nday!\\nJoey: What, like there\\'s a rule or something?\\n(The door buzzer sounds and Chandler gets it.)\\nChandler: Please don\\'t do that again, it\\'s a\\nhorrible sound.\\nPaul: (over the intercom) It\\'s, uh,\\nit\\'s Paul.\\nMonica: Oh God, is it\\n6:30?\\xa0 Buzz him in!\\nJoey: Who\\'s Paul?\\nRoss: Paul the Wine Guy, Paul?\\nMonica: Maybe. Joey: Wait. Your \\'not a real\\ndate\\' tonight is with Paul the Wine Guy?\\nRoss: He finally asked you out?\\nMonica: Yes!\\nChandler: Ooh, this is a Dear Diary moment.\\nMonica: Rach, wait, I can cancel...\\nRachel: Please, no, go, that\\'d be fine!\\nMonica: (to Ross) Are, are you okay? I mean, do you\\nwant me to stay?\\nRoss: (choked voice) That\\'d be good...\\nMonica: (horrified) Really?\\nRoss: (normal voice) No, go on! It\\'s Paul the Wine\\nGuy!\\nPhoebe: What does that mean? \\xa0\\nDoes he sell it, drink it, or just complain a lot? (Chandler doesn\\'t know.)\\n(There\\'s a knock on the door and it\\'s Paul.)\\nMonica: Hi, come in! Paul, this is.. (They are all\\nlined up next to the door.)... everybody, everybody, this is Paul.\\nAll: Hey! Paul! Hi! The Wine Guy! Hey!\\nChandler: I\\'m sorry, I didn\\'t catch your name. Paul,\\nwas it?\\nMonica: Okay, umm-umm, I\\'ll\\njust--I\\'ll be right back, I just gotta go ah, go ah...\\nRoss: A wandering?\\nMonica: Change!\\xa0 Okay,\\nsit down. (Shows Paul in) Two seconds.\\nPhoebe: Ooh, I just pulled out four eyelashes. That\\ncan\\'t be good.\\n(Monica goes to change.)\\nJoey:\\xa0 Hey, Paul!\\nPaul: Yeah?\\nJoey: Here\\'s a little tip, she\\nreally likes it when you rub her neck in the same spot over and over and over again until\\nit starts to get a little red.\\nMonica: (yelling from the bedroom)\\nShut up, Joey!\\nRoss: So Rachel, what\\'re you, uh... what\\'re you up\\nto tonight?\\nRachel: Well, I was kinda supposed to be headed for\\nAruba on my honeymoon, so nothing!\\nRoss: Right, you\\'re not even getting your honeymoon,\\nGod.. No, no, although, Aruba, this time of year... talk about your- (thinks) -big\\nlizards... Anyway, if you don\\'t feel like being alone tonight, Joey and Chandler are\\ncoming over to help me put together my new furniture.\\nChandler: (deadpan) Yes, and we\\'re very excited\\nabout it. \\nRachel: Well actually thanks, but I think I\\'m just\\ngonna hang out here tonight.\\xa0 It\\'s been kinda a long day.\\nRoss: Okay, sure.\\nJoey: Hey Pheebs, you wanna help?\\nPhoebe: Oh, I wish I could, but I don\\'t want to.\\nCommercial Break\\n Scene: The Subway, Phoebe is singing for\\nchange.]\\nPhoebe: (singing) Love is sweet as\\nsummer showers, love is a wondrous work of art, but your love oh your love, your love...is\\nlike a giant pigeon...crapping on my heart.\\xa0 La-la-la-la-la- (some guy gives her some\\nchange and to that guy) Thank you. (sings) La-la-la-la...ohhh!\\n Scene: Ross\\'s Apartment, the guys are there assembling\\nfurniture.]\\nRoss: (squatting and reading the instructions) I\\'m\\nsupposed to attach a brackety thing to the side things, using a bunch of these little worm\\nguys. I have no brackety thing, I see no whim guys whatsoever and- I cannot feel my legs.\\n(Joey and Chandler are finishing assembling\\nthe bookcase.)\\nJoey: I\\'m thinking we\\'ve got a\\nbookcase here.\\nChandler: It\\'s a beautiful thing.\\nJoey: (picking up a leftover part) What\\'s this?\\nChandler: I would have to\\nsay that is an \\'L\\'-shaped bracket.\\nJoey: Which goes where?\\nChandler: I have no\\nidea.\\n(Joey checks that Ross is not looking and dumps it in a\\nplant.)\\nJoey: Done with the bookcase!\\nChandler: All finished!\\nRoss: (clutching a beer can and sniffing) This was\\nCarol\\'s favorite beer. She always drank it out of the can, I should have known.\\nJoey: Hey-hey-hey-hey, if you\\'re\\ngonna start with that stuff we\\'re outta here.\\nChandler: Yes, please don\\'t spoil\\nall this fun.\\nJoey: Ross, let me ask you a question. She got the\\nfurniture, the stereo, the good TV- what did you get?\\nRoss: You guys.\\nChandler: Oh, God.\\nJoey: You got screwed.\\nChandler: Oh my God!\\n Scene: A Restaurant, Monica and Paul are eating.]\\nMonica: Oh my God!\\nPaul: I know, I know, I\\'m such an idiot. I guess I\\nshould have caught on when she started going to the dentist four and five times a week. I\\nmean, how clean can teeth get?\\nMonica: My brother\\'s going through that right now,\\nhe\\'s such a mess. How did you get through it?\\nPaul: Well, you might try accidentally breaking\\nsomething valuable of hers, say her-\\nMonica: -leg?\\nPaul: (laughing) That\\'s one way! Me, I- I went for\\nthe watch.\\nMonica: You actually broke her watch?\\xa0 Wow!\\xa0 The worst thing I ever did was, I-I shredded by\\nboyfriend\\'s favorite bath towel.\\nPaul: Ooh, steer clear of you.\\nMonica: That\\'s right.\\n Scene: Monica\\'s Apartment, Rachel is talking on the phone and pacing.]\\nRachel: Barry, I\\'m sorry... I am so sorry... I know\\nyou probably think that this is all about what I said the other day about you making love\\nwith your socks on, but it isn\\'t... it isn\\'t, it\\'s about me, and I ju- (She stops talking\\nand dials the phone.) Hi, machine cut me off again... anyway...look,\\nlook, I know that some girl is going to be incredibly lucky to become Mrs. Barry Finkel,\\nbut it isn\\'t me, it\\'s not me.\\xa0 And not that I have any idea who me is right now, but\\nyou just have to give me a chance too... (The maching cuts her off again and she redials.)\\n Scene: Ross\\'s Apartment; Ross is pacing while Joey and\\nChandler are working on some more furniture.]\\nRoss: I\\'m divorced!\\xa0 I\\'m only\\n26 and I\\'m divorced!\\nJoey: Shut up!\\nChandler: You must stop! (Chandler\\nhits what he is working on with a hammer and it collapses.)\\nRoss: That only took me an hour.\\nChandler: Look, Ross, you gotta\\nunderstand, between us we haven\\'t had a relationship that has lasted longer than a Mento.\\n\\xa0 You, however have had the love of a woman for four years. \\xa0\\nFour years of closeness and sharing at the end of which she ripped your heart out, and\\nthat is why we don\\'t do it!\\xa0 I don\\'t think that was my point!\\nRoss: You know what the scariest part is? What if\\nthere\\'s only one woman for everybody, y\\'know? I mean what if you get one woman- and that\\'s\\nit? Unfortunately in my case, there was only one woman- for her...\\nJoey: What are you talking about? \\'One woman\\'?\\nThat\\'s like saying there\\'s only one flavor of ice cream for you. Lemme tell you something,\\nRoss. There\\'s lots of flavors out there. There\\'s Rocky Road, and Cookie Dough, and Bing!\\nCherry Vanilla. You could get \\'em with Jimmies, or nuts, or whipped cream! This is the\\nbest thing that ever happened to you! You got married, you were, like, what, eight?\\nWelcome back to the world! Grab a spoon!\\nRoss: I honestly don\\'t know if I\\'m hungry or horny.\\nChandler: Stay out of my freezer!  Scene: A\\nRestaurant, Monica and Paul are still eating.]\\nPaul: Ever since she walked out on me, I, uh...\\nMonica: What?..... What, you wanna spell it out with\\nnoodles?\\nPaul: No, it\\'s, it\\'s more of a fifth date kinda\\nrevelation.\\nMonica: Oh, so there is gonna be a fifth date?\\nPaul: Isn\\'t there?\\nMonica: Yeah... yeah, I think there is. -What were\\nyou gonna say?\\nPaul: Well, ever-ev-... ever since she left me, um,\\nI haven\\'t been able to, uh, perform. (Monica takes a sip of her drink.) ...Sexually. \\nMonica: (spitting out her drink in shock) Oh God, oh\\nGod, I am sorry... I am so sorry...\\nPaul: It\\'s okay...\\nMonica: I know being spit on is probably not what\\nyou need right now. Um... how long?\\nPaul: Two years.\\nMonica: Wow! I\\'m-I\\'m-I\\'m glad you smashed her watch!\\n\\nPaul: So you still think you, um... might want that\\nfifth date?\\nMonica: (pause)...Yeah. Yeah, I do.\\n Scene: Monica\\'s Apartment, Rachel is watching Joanne\\nLoves Chaci.]\\nPriest on TV:\\nWe are gathered here today to join Joanne Louise Cunningham and\\nCharles, Chachi-Chachi-Chachi, Arcola in the bound of holy matrimony.\\nRachel: Oh...see... but Joanne loved Chachi! That\\'s\\nthe difference!\\n Scene: Ross\\'s Apartment, they\\'re all sitting around and\\ntalking.]\\nRoss: (scornful) Grab a spoon. Do you know how long\\nit\\'s been since I\\'ve grabbed a spoon? Do the words \\'Billy, don\\'t be a hero\\' mean anything\\nto you? \\nJoey: Great story!\\xa0 But, I uh,\\nI gotta go, I got a date with Andrea--Angela--Andrea...\\xa0 Oh man, (looks to Chandler)\\nChandler: Angela\\'s the screamer,\\nAndrea has cats.\\nJoey: Right.\\xa0 Thanks.\\xa0\\nIt\\'s June.\\xa0 I\\'m outta here. (Exits.)\\nRoss: Y\\'know, here\\'s the thing. Even if I could get\\nit together enough to- to ask a woman out,... who am I gonna ask? (He gazes out of the\\nwindow.)\\n Cut to Rachel staring out of her window.]\\nCommercial Break\\n Scene: Monica\\'s Apartment, Rachel is making coffee for\\nJoey and Chandler.]\\nRachel: Isn\\'t this amazing? I mean, I have never\\nmade coffee before in my entire life.\\nChandler: That is amazing.\\nJoey: Congratulations. \\nRachel: Y\\'know, I figure if I can\\nmake coffee, there isn\\'t anything I can\\'t do.\\nChandler: If can invade Poland,\\nthere isn\\'t anything I can\\'t do.\\nJoey: Listen, while you\\'re on a roll, if you feel\\nlike you gotta make like a Western omelet or something... (Joey and Chandler taste the\\ncoffee, grimace, and pour it into a plant pot.) Although actually I\\'m really not that\\nhungry...\\nMonica: (entering, to herself) Oh\\ngood, Lenny and Squigy are here.\\nAll: Morning. Good morning.\\nPaul: (entering from Monica\\'s room)\\nMorning.\\nJoey: Morning, Paul.\\nRachel: Hello, Paul.\\nChandler: Hi, Paul, is it?\\n(Monica and Paul walk to the door and talk in a low voice\\nso the others can\\'t hear.\\xa0 The others move Monica\\'s table closer to the door so that\\nthey can.)\\nPaul: Thank you!\\xa0 Thank you so\\nmuch!\\nMonica: Stop!\\nPaul: No, I\\'m telling you last night\\nwas like umm, all my birthdays, both graduations, plus the barn raising scene in Witness.\\nMonica: We\\'ll talk later.\\nPaul: Yeah. (They kiss) Thank you. (Exits)\\nJoey: That wasn\\'t a real date?! What the hell do you\\ndo on a real date?\\nMonica: Shut up, and put my table back.\\nAll: Okayyy! (They do so.)\\nChandler: All right, kids, I gotta get to work. If I\\ndon\\'t input those numbers,... it doesn\\'t make much of a difference... \\nRachel: So, like, you guys all have jobs?\\nMonica: Yeah, we all have jobs. See, that\\'s how we\\nbuy stuff.\\nJoey: Yeah, I\\'m an actor.\\nRachel: Wow! Would I have seen you in anything?\\nJoey: I doubt it. Mostly regional work.\\nMonica: Oh wait, wait, unless you happened to catch\\nthe Reruns\\' production of Pinocchio, at the little theater in the\\npark.\\nJoey: Look, it was a job all right?\\nChandler: \\'Look, Gippetto, I\\'m a real live boy.\\'\\nJoey: I will not take this abuse. (Walks to the door\\nand opens it to leave.)\\nChandler: You\\'re right, I\\'m sorry. (Burst into song\\nand dances out of the door.) \"Once I was a wooden boy, a little wooden boy...\"\\nJoey: You should both know,\\nthat he\\'s a dead man.\\xa0 Oh, Chandler? (Starts after Chandler.) \\nMonica: So how you doing today? Did you sleep okay?\\nTalk to Barry? I can\\'t stop smiling.\\nRachel: I can see that. You look like you slept with\\na hanger in your mouth.\\nMonica: I know, he\\'s just so, so... Do you remember\\nyou and Tony DeMarco?\\nRachel: Oh, yeah.\\nMonica: Well, it\\'s like that. With feelings.\\nRachel: Oh wow. Are you in trouble.\\nMonica: Big time!\\nRachel: Want a wedding dress? \\xa0\\nHardly used.\\nMonica: I think we are getting\\na little ahead of selves here. Okay. Okay. I am just going to get up, go to work\\nand not think about him all day. Or else I\\'m just gonna get up and go to work.\\nRachel: Oh, look, wish me luck!\\nMonica: What for?\\nRachel: I\\'m gonna go get one of those (Thinks) job\\nthings.\\n(Monica exits.)\\n Scene: Iridium, Monica is working as Frannie enters.] \\nFrannie: Hey, Monica! \\nMonica: Hey Frannie, welcome back! How was Florida? \\nFrannie: You had sex, didn\\'t you? \\nMonica: How do you do that?\\nFrannie: Oh, I hate you, I\\'m pushing my Aunt Roz through\\nParrot Jungle and you\\'re having sex!\\xa0 So? Who? \\nMonica: You know Paul? \\nFrannie: Paul the Wine Guy? Oh yeah, I know Paul. \\nMonica: You mean you know Paul like I know Paul? \\nFrannie: Are you kidding? I take credit for Paul. Y\\'know before me, there was no\\nsnap in his turtle for two years. \\n Scene: Central Perk, everyone but Rachel is there.]\\nJoey: (sitting on the arm of the couch)Of course it was a line! \\nMonica: Why?! Why? Why, why would anybody do something like that? \\nRoss: I assume we\\'re looking for an answer more sophisticated than \\'to get you\\ninto bed\\'. \\nMonica: I hate men!\\xa0 I hate men!\\nPhoebe: Oh no, don\\'t hate, you don\\'t\\nwant to put that out into the universe.\\nMonica: Is it me? Is it like I have some sort of\\nbeacon that only dogs and men with severe emotional problems can hear? \\nPhoebe: All right, c\\'mere, gimme your feet. (She starts massaging them.) \\nMonica: I just thought he was nice, y\\'know? \\nJoey: (bursts out laughing again) I can\\'t believe you didn\\'t know it was a line!\\n\\n(Monica pushes him off of the sofa as Rachel enters with a shopping bag.) \\nRachel: Guess what? \\nRoss: You got a job? \\nRachel: Are you kidding? I\\'m trained for nothing! I was laughed out of twelve\\ninterviews today. \\nChandler: And yet you\\'re surprisingly upbeat. \\nRachel: You would be too if you found John and David boots on sale, fifty\\npercent off! \\nChandler: Oh, how well you know me... \\nRachel: They\\'re my new \\'I don\\'t need a job, I don\\'t need my parents, I\\'ve got\\ngreat boots\\' boots! \\nMonica: How\\'d you pay for them? \\nRachel: Uh, credit card. \\nMonica: And who pays for that? \\nRachel: Um... my... father. \\n Scene: Monica and Rachel\\'s, everyone is sitting around the kitchen table. \\xa0\\nRachel\\'s credit cards are spread out on the table along with a pair of scissors.]\\nRachel: Oh God, come on you\\nguys, is this really necessary?\\xa0 I mean, I can stop charging anytime I want. \\nMonica: C\\'mon, you can\\'t live off your parents your whole life. \\nRachel: I know that. That\\'s why I was getting married. \\nPhoebe: Give her a break, it\\'s hard being on your own for the first time. \\nRachel: Thank you. \\nPhoebe: You\\'re welcome. I remember when I first came to this city. I was\\nfourteen. My mom had just killed herself and my step-dad was back in prison, and I got\\nhere, and I didn\\'t know anybody. And I ended up living with this albino guy who was, like,\\ncleaning windshields outside port authority, and then he killed himself, and then I found\\naromatherapy. So believe me, I know exactly how you feel. \\n(Pause) \\nRoss: The word you\\'re looking for is \\'Anyway\\'... \\nMonica: All right, you ready?\\nRachel: No.\\xa0 No, no, I\\'m not\\nready!\\xa0 How can I be ready?\\xa0 \"Hey, Rach!\\xa0 You ready to jump out the\\nairplane without your parachute?\"\\xa0 Come on, I can\\'t do this!\\nMonica: You can, I know you\\ncan! \\nRachel: I don\\'t think so.\\nRoss: Come on, you made\\ncoffee! \\xa0 You can do anything! (Chandler slowly tries to hide the now dead plant from\\nthat morning when he and Joey poured their coffee into it.)\\nRoss: C\\'mon, cut. Cut, cut, cut,... \\nAll: Cut, cut, cut, cut, cut, cut, cut... (She cuts one of them and they cheer.)\\nRachel: Y\\'know what?\\xa0 I think\\nwe can just leave it at that.\\xa0 It\\'s kinda like a symbolic gesture...\\nMonica:\\xa0 Rachel!\\xa0\\nThat was a library card! \\nAll: Cut, cut, cut, cut, cut, cut, cut..\\nChandler: (as Rachel is cutting up\\nher cards) Y\\'know, if you listen closely, you can hear a thousand retailers scream. \\n(She finishes cutting them up and they all\\ncheer.)\\nMonica: Welcome to the real world! It sucks. You\\'re\\ngonna love it! \\n Time Lapse, Rachel and Ross are watching a TV channel finishes it\\'s broadcast day by\\nplaying the national anthem.] \\nMonica: Well, that\\'s it (To Ross) You gonna crash on the couch? \\nRoss: No. No, I gotta go home sometime. \\nMonica: You be okay? \\nRoss: Yeah. \\nRachel: Hey Mon, look what I just found on the floor. (Monica smiles.) What? \\nMonica: That\\'s Paul\\'s watch. You just put it back where you found it. Oh boy.\\nAlright. Goodnight, everybody. \\nRoss and Rachel: Goodnight.\\n(Monica stomps on Paul\\'s watch and goes into her room.)\\nRoss: Mmm. (They both reach for the last cookie) Oh, no- \\nRachel: Sorry- \\nRoss: No no no, go- \\nRachel: No, you have it, really, I don\\'t want it- \\nRoss: Split it? \\nRachel: Okay. \\nRoss: Okay. (They split it.) You know you probably didn\\'t know this, but back in\\nhigh school, I had a, um, major crush on you. \\nRachel: I knew. \\nRoss: You did! Oh.... I always figured you just thought I was Monica\\'s geeky\\nolder brother. \\nRachel: I did. \\nRoss: Oh. Listen, do you think- and try not to let my intense vulnerability\\nbecome any kind of a factor here- but do you think it would be okay if I asked you out?\\nSometime? Maybe? \\nRachel: Yeah, maybe... \\nRoss: Okay... okay, maybe I will... \\nRachel: Goodnight. \\nRoss: Goodnight. \\n(Rachel goes into her room and Monica enters the living room as Ross is leaving.) \\nMonica: See ya.... Waitwait, what\\'s with you? \\nRoss: I just grabbed a spoon. (Ross exits and Monica has no idea what that\\nmeans.) \\nClosing Credits\\n Scene: Central Perk, everyone is there.] \\nJoey: I can\\'t believe what I\\'m hearing here. \\nPhoebe: (sings) I can\\'t believe what I\\'m hearing here... \\nMonica: What? I-I said you had a- \\nPhoebe: (sings) What I said you had... \\nMonica: (to Phoebe) Would you stop? \\nPhoebe: Oh, was I doing it again?\\nAll: Yes!\\nMonica: I said that you had a nice\\nbutt, it\\'s just not a great butt.\\nJoey: Oh, you wouldn\\'t know a great\\nbutt if it came up and bit ya.\\nRoss: There\\'s an image.\\n\\nRachel: (walks up with a pot of coffee) Would anybody like more coffee? \\nChandler: Did you make it, or are you just serving it? \\nRachel: I\\'m just serving it. \\nAll: Yeah. Yeah, I\\'ll have a cup of coffee. \\nChandler: Kids, new dream... I\\'m in Las Vegas. (Rachel\\nsits down to hear Chandler\\'s dream.)\\nCustomer: (To\\nRachel) Ahh, miss? \\xa0 More coffee? \\nRachel: Ugh. (To another customer that\\'s leaving.) Excuse me, could you give\\nthis to that guy over there? (Hands him the coffee pot.) Go ahead. (He does so.) Thank\\nyou. (To the gang.) Sorry.\\xa0 Okay, Las Vegas.\\nChandler: Okay, so, I\\'m in Las\\nVegas... I\\'m Liza Minelli- \\nEnd'"
      ]
     },
     "execution_count": 57,
     "metadata": {},
     "output_type": "execute_result"
    }
   ],
   "source": [
    "\" \".join(text).strip()"
   ]
  },
  {
   "cell_type": "markdown",
   "id": "b7ef4dbd-1167-4ca7-8782-60ffee819737",
   "metadata": {},
   "source": [
    "### Getting all the transcripts"
   ]
  },
  {
   "cell_type": "code",
   "execution_count": 9,
   "id": "cf11b61b-2b1b-454e-90b5-51cbd00a4e62",
   "metadata": {},
   "outputs": [],
   "source": [
    "browser = webdriver.Edge()\n",
    "browser.get(\"https://fangj.github.io/friends/\")"
   ]
  },
  {
   "cell_type": "code",
   "execution_count": 10,
   "id": "4cfe5a7d-ce5b-4df9-825f-80a6e195efdb",
   "metadata": {},
   "outputs": [
    {
     "data": {
      "text/plain": [
       "Index([], dtype='object')"
      ]
     },
     "execution_count": 10,
     "metadata": {},
     "output_type": "execute_result"
    }
   ],
   "source": [
    "transcript = pd.DataFrame(columns=['Season','Episode','Transcript'])\n",
    "transcript.index"
   ]
  },
  {
   "cell_type": "code",
   "execution_count": 11,
   "id": "3c4eb738-27f1-43b9-9bea-bda5c6a2d5a7",
   "metadata": {},
   "outputs": [],
   "source": [
    "for i in range(1,11):\n",
    "    for j in range(1,26):\n",
    "        try:\n",
    "            link = browser.find_element(by='xpath', value=f\"/html/body/ul[{i}]/li[{j}]/a\")\n",
    "        except:\n",
    "            continue\n",
    "        browser2 = webdriver.Edge()\n",
    "        browser2.get(link.get_attribute('href'))\n",
    "        html = BeautifulSoup(browser2.page_source)\n",
    "        text = html.text.split(\"[\")[1:]\n",
    "        final_text = \" \".join(text).strip()\n",
    "        transcript.loc[len(transcript.index)] = [i,j,final_text]\n",
    "        browser2.close()"
   ]
  },
  {
   "cell_type": "code",
   "execution_count": 52,
   "id": "a904e24f-ee9b-486a-832f-827558a895c1",
   "metadata": {
    "tags": []
   },
   "outputs": [],
   "source": [
    "#Season 2 episode 3 doesnt have a '[' in the transcript, so it had to be scraped manually.\n",
    "browser.get('https://fangj.github.io/friends/season/0203.html')\n",
    "html = BeautifulSoup(browser.page_source)"
   ]
  },
  {
   "cell_type": "code",
   "execution_count": 38,
   "id": "2cfddb03-0b07-47ca-9c32-ede2e8cbbfa5",
   "metadata": {},
   "outputs": [],
   "source": [
    "transcript.iloc[26] = pd.Series({'Season': 2,'Episode':3,'Transcript': html.text[199:]})"
   ]
  },
  {
   "cell_type": "code",
   "execution_count": 39,
   "id": "83224ab0-19a6-4ec9-ba21-5745cb905efb",
   "metadata": {},
   "outputs": [
    {
     "data": {
      "text/plain": [
       "Season                                                        2\n",
       "Episode                                                       3\n",
       "Transcript    CHANDLER: Hey.\\nMONICA: So how was Joan?\\nCHAN...\n",
       "Name: 26, dtype: object"
      ]
     },
     "execution_count": 39,
     "metadata": {},
     "output_type": "execute_result"
    }
   ],
   "source": [
    "transcript.iloc[26]"
   ]
  },
  {
   "cell_type": "code",
   "execution_count": 41,
   "id": "802027be-e909-4ba8-af4f-533d791735a3",
   "metadata": {},
   "outputs": [],
   "source": [
    "#s07e24 is a special/extra episode with no rating.\n",
    "transcript.drop(164,axis=0,inplace=True)\n",
    "transcript = transcript.reset_index().drop('index',axis=1)"
   ]
  },
  {
   "cell_type": "code",
   "execution_count": 40,
   "id": "7e41ed6b-ec31-4a8c-9d04-ecf0e33d071b",
   "metadata": {},
   "outputs": [],
   "source": [
    "transcript.to_csv(\"transcripts.csv\",index=False)"
   ]
  },
  {
   "cell_type": "markdown",
   "id": "c789c60b-7c1c-49c9-bf00-f9c8bccda133",
   "metadata": {},
   "source": [
    "### Getting the IMDb ratings"
   ]
  },
  {
   "cell_type": "code",
   "execution_count": 4,
   "id": "96d4d052-1953-4ed9-90f1-218b01c02081",
   "metadata": {},
   "outputs": [],
   "source": [
    "browser = webdriver.Edge()"
   ]
  },
  {
   "cell_type": "code",
   "execution_count": 5,
   "id": "a4bc3ad6-fed6-4a25-9f4f-5add7be6b141",
   "metadata": {},
   "outputs": [],
   "source": [
    "import fnmatch\n",
    "ratings = pd.DataFrame(columns=['Season','Episode','Rating'])\n",
    "for i in range(1,11):\n",
    "    url = f'https://www.imdb.com/title/tt0108778/episodes?season={i}'\n",
    "    browser.get(url)\n",
    "    parsed_html = BeautifulSoup(browser.page_source)\n",
    "    info = browser.find_element(by='class name',value=\"list.detail.eplist\").text.split(\"\\n\")\n",
    "    season = pd.DataFrame(columns = ['Episode', 'Rating'])\n",
    "    season['Episode'] = fnmatch.filter(info, f\"*S{i},*\")\n",
    "    season['Rating'] = fnmatch.filter(info, \"*(*)\")\n",
    "    splitter = lambda x : x.split(\",\")[0]\n",
    "    season['Season'] = season['Episode'].apply(splitter)\n",
    "    splitter = lambda x : x.split(\",\")[1]\n",
    "    season['Episode'] = season['Episode'].apply(splitter)\n",
    "    season = pd.DataFrame({'Season': season.Season, 'Episode':season.Episode,'Rating':season.Rating})\n",
    "    ratings = ratings.append(season)\n",
    "browser.close()"
   ]
  },
  {
   "cell_type": "code",
   "execution_count": 181,
   "id": "e8e5b171-3ce9-4189-96d8-2b81f8f23487",
   "metadata": {},
   "outputs": [],
   "source": [
    "ratings.to_csv('ratings.csv',index=False)"
   ]
  },
  {
   "cell_type": "code",
   "execution_count": 40,
   "id": "f4f85a1d-fbd8-486a-82aa-a56a6c11fb48",
   "metadata": {},
   "outputs": [],
   "source": [
    "transcripts = pd.read_csv('transcripts.csv')"
   ]
  },
  {
   "cell_type": "code",
   "execution_count": 16,
   "id": "2ac1fb97-1e7f-4607-abef-4975e825712f",
   "metadata": {},
   "outputs": [],
   "source": [
    "ratings = pd.read_csv('ratings.csv')"
   ]
  },
  {
   "cell_type": "code",
   "execution_count": 17,
   "id": "876af666-02e3-42d1-873f-edbbe4b7a728",
   "metadata": {},
   "outputs": [
    {
     "data": {
      "text/plain": [
       "(     Season  Episode                                         Transcript\n",
       " 0         1        1  Scene: Central Perk, Chandler, Joey, Phoebe, a...\n",
       " 1         1        2  Scene Central Perk, everyone's there.]\\nMonica...\n",
       " 2         1        3  Scene: Central Perk, everyone but Phoebe is th...\n",
       " 3         1        4  Scene: Central Perk, everyone is there except ...\n",
       " 4         1        5  Scene: Central Perk, all six are there.]\\nMoni...\n",
       " ..      ...      ...                                                ...\n",
       " 223      10       13  Scene: Central Perk. Everyone's sitting on the...\n",
       " 224      10       14  Scene: Chandler and Monica's apartment. They a...\n",
       " 225      10       15  Flashback scene from last week, Monica and Cha...\n",
       " 226      10       16  Scene: Joey's place. Rachel and Joey are talki...\n",
       " 227      10       17  Scene: Monica and Chandler's apartment. It's a...\n",
       " \n",
       " [228 rows x 3 columns],\n",
       "     Season Episode        Rating\n",
       " 0       S1     Ep1   8.2 (8,746)\n",
       " 1       S1     Ep2   7.9 (6,745)\n",
       " 2       S1     Ep3   8.0 (6,346)\n",
       " 3       S1     Ep4   8.0 (6,162)\n",
       " 4       S1     Ep5   8.4 (6,153)\n",
       " ..     ...     ...           ...\n",
       " 230    S10    Ep13   8.4 (4,225)\n",
       " 231    S10    Ep14   8.5 (4,103)\n",
       " 232    S10    Ep15   8.4 (3,857)\n",
       " 233    S10    Ep16   8.8 (4,466)\n",
       " 234    S10    Ep17  9.6 (14,711)\n",
       " \n",
       " [235 rows x 3 columns])"
      ]
     },
     "execution_count": 17,
     "metadata": {},
     "output_type": "execute_result"
    }
   ],
   "source": [
    "transcripts, ratings"
   ]
  },
  {
   "cell_type": "code",
   "execution_count": 18,
   "id": "a0065d92-bc1c-4d89-b4a1-2a33ada6e392",
   "metadata": {},
   "outputs": [],
   "source": [
    "#Dealing with merging ratings of episodes with two parts\n",
    "ratings.iloc[35] = {'Season': 'S2', 'Episode': 'Ep12_13', 'Rating': '8.6 (5,192)'}\n",
    "ratings.iloc[95] = {'Season': 'S4', 'Episode': 'Ep23_24', 'Rating': '8.9 (5,169)'}\n",
    "ratings.iloc[119] = {'Season': 'S5', 'Episode': 'Ep23_24', 'Rating': '8.9 (4,805)'}\n",
    "ratings.iloc[135] = {'Season': 'S6', 'Episode': 'Ep15_16', 'Rating': '8.4 (4,221)'}\n",
    "ratings.iloc[144] = {'Season': 'S6', 'Episode': 'Ep24_25', 'Rating': '8.9 (5,001)'}\n",
    "ratings.iloc[168] = {'Season': 'S7', 'Episode': 'Ep23_24', 'Rating': '9.0 (4,700)'}\n",
    "ratings.iloc[192] = {'Season': 'S8', 'Episode': 'Ep23_24', 'Rating': '8.8 (4,207)'}\n",
    "ratings.iloc[216] = {'Season': 'S9', 'Episode': 'Ep23_24', 'Rating': '8.5 (3,924)'}"
   ]
  },
  {
   "cell_type": "code",
   "execution_count": 19,
   "id": "05b9f76c-117f-4c8c-8150-06e0d97c6d44",
   "metadata": {},
   "outputs": [],
   "source": [
    "splitter = lambda x: x.split(\"S\")[1]\n",
    "ratings.Season = ratings.Season.apply(splitter)"
   ]
  },
  {
   "cell_type": "code",
   "execution_count": 20,
   "id": "f7ac8873-b19b-40be-8058-b2cc3811de32",
   "metadata": {},
   "outputs": [],
   "source": [
    "splitter = lambda x: x.split(\"Ep\")[1]\n",
    "ratings.Episode = ratings.Episode.apply(splitter)"
   ]
  },
  {
   "cell_type": "code",
   "execution_count": 21,
   "id": "4ffb5051-5cf6-465d-ac0a-330a0ff376d7",
   "metadata": {},
   "outputs": [],
   "source": [
    "ratings.drop([36,96,120,136,145,169,193,217],axis=0,inplace=True) #remove duplicate ratings after merging"
   ]
  },
  {
   "cell_type": "code",
   "execution_count": 22,
   "id": "3597550e-f52a-4784-af81-cf7a15f59a43",
   "metadata": {},
   "outputs": [
    {
     "data": {
      "text/html": [
       "<div>\n",
       "<style scoped>\n",
       "    .dataframe tbody tr th:only-of-type {\n",
       "        vertical-align: middle;\n",
       "    }\n",
       "\n",
       "    .dataframe tbody tr th {\n",
       "        vertical-align: top;\n",
       "    }\n",
       "\n",
       "    .dataframe thead th {\n",
       "        text-align: right;\n",
       "    }\n",
       "</style>\n",
       "<table border=\"1\" class=\"dataframe\">\n",
       "  <thead>\n",
       "    <tr style=\"text-align: right;\">\n",
       "      <th></th>\n",
       "      <th>Season</th>\n",
       "      <th>Episode</th>\n",
       "      <th>Rating</th>\n",
       "    </tr>\n",
       "  </thead>\n",
       "  <tbody>\n",
       "    <tr>\n",
       "      <th>0</th>\n",
       "      <td>1</td>\n",
       "      <td>1</td>\n",
       "      <td>8.2 (8,746)</td>\n",
       "    </tr>\n",
       "    <tr>\n",
       "      <th>1</th>\n",
       "      <td>1</td>\n",
       "      <td>2</td>\n",
       "      <td>7.9 (6,745)</td>\n",
       "    </tr>\n",
       "    <tr>\n",
       "      <th>2</th>\n",
       "      <td>1</td>\n",
       "      <td>3</td>\n",
       "      <td>8.0 (6,346)</td>\n",
       "    </tr>\n",
       "    <tr>\n",
       "      <th>3</th>\n",
       "      <td>1</td>\n",
       "      <td>4</td>\n",
       "      <td>8.0 (6,162)</td>\n",
       "    </tr>\n",
       "    <tr>\n",
       "      <th>4</th>\n",
       "      <td>1</td>\n",
       "      <td>5</td>\n",
       "      <td>8.4 (6,153)</td>\n",
       "    </tr>\n",
       "    <tr>\n",
       "      <th>...</th>\n",
       "      <td>...</td>\n",
       "      <td>...</td>\n",
       "      <td>...</td>\n",
       "    </tr>\n",
       "    <tr>\n",
       "      <th>230</th>\n",
       "      <td>10</td>\n",
       "      <td>13</td>\n",
       "      <td>8.4 (4,225)</td>\n",
       "    </tr>\n",
       "    <tr>\n",
       "      <th>231</th>\n",
       "      <td>10</td>\n",
       "      <td>14</td>\n",
       "      <td>8.5 (4,103)</td>\n",
       "    </tr>\n",
       "    <tr>\n",
       "      <th>232</th>\n",
       "      <td>10</td>\n",
       "      <td>15</td>\n",
       "      <td>8.4 (3,857)</td>\n",
       "    </tr>\n",
       "    <tr>\n",
       "      <th>233</th>\n",
       "      <td>10</td>\n",
       "      <td>16</td>\n",
       "      <td>8.8 (4,466)</td>\n",
       "    </tr>\n",
       "    <tr>\n",
       "      <th>234</th>\n",
       "      <td>10</td>\n",
       "      <td>17</td>\n",
       "      <td>9.6 (14,711)</td>\n",
       "    </tr>\n",
       "  </tbody>\n",
       "</table>\n",
       "<p>227 rows × 3 columns</p>\n",
       "</div>"
      ],
      "text/plain": [
       "    Season Episode        Rating\n",
       "0        1       1   8.2 (8,746)\n",
       "1        1       2   7.9 (6,745)\n",
       "2        1       3   8.0 (6,346)\n",
       "3        1       4   8.0 (6,162)\n",
       "4        1       5   8.4 (6,153)\n",
       "..     ...     ...           ...\n",
       "230     10      13   8.4 (4,225)\n",
       "231     10      14   8.5 (4,103)\n",
       "232     10      15   8.4 (3,857)\n",
       "233     10      16   8.8 (4,466)\n",
       "234     10      17  9.6 (14,711)\n",
       "\n",
       "[227 rows x 3 columns]"
      ]
     },
     "execution_count": 22,
     "metadata": {},
     "output_type": "execute_result"
    }
   ],
   "source": [
    "ratings #ratings now has same rows as transcripts"
   ]
  },
  {
   "cell_type": "code",
   "execution_count": 23,
   "id": "7c507aa0-5f9a-419b-bbbe-3c3d7620c453",
   "metadata": {},
   "outputs": [],
   "source": [
    "ratings = ratings.reset_index().drop('index',axis=1)"
   ]
  },
  {
   "cell_type": "code",
   "execution_count": 25,
   "id": "d0ae7fc5-f742-4711-b6bf-0a2e1af3e0fa",
   "metadata": {},
   "outputs": [],
   "source": [
    "ratings.to_csv('final_ratings.csv',index=False)"
   ]
  },
  {
   "cell_type": "code",
   "execution_count": 43,
   "id": "e4d27034-4997-42d5-9b5c-8bdc74a7b707",
   "metadata": {},
   "outputs": [],
   "source": [
    "final_data = transcripts.join(ratings,rsuffix='a').drop(['Seasona','Episodea'],axis=1)"
   ]
  },
  {
   "cell_type": "code",
   "execution_count": 44,
   "id": "3074382e-c1a3-433c-bc6a-e243d86c2151",
   "metadata": {},
   "outputs": [
    {
     "data": {
      "text/html": [
       "<div>\n",
       "<style scoped>\n",
       "    .dataframe tbody tr th:only-of-type {\n",
       "        vertical-align: middle;\n",
       "    }\n",
       "\n",
       "    .dataframe tbody tr th {\n",
       "        vertical-align: top;\n",
       "    }\n",
       "\n",
       "    .dataframe thead th {\n",
       "        text-align: right;\n",
       "    }\n",
       "</style>\n",
       "<table border=\"1\" class=\"dataframe\">\n",
       "  <thead>\n",
       "    <tr style=\"text-align: right;\">\n",
       "      <th></th>\n",
       "      <th>Season</th>\n",
       "      <th>Episode</th>\n",
       "      <th>Transcript</th>\n",
       "      <th>Rating</th>\n",
       "    </tr>\n",
       "  </thead>\n",
       "  <tbody>\n",
       "    <tr>\n",
       "      <th>0</th>\n",
       "      <td>1</td>\n",
       "      <td>1</td>\n",
       "      <td>Scene: Central Perk, Chandler, Joey, Phoebe, a...</td>\n",
       "      <td>8.2 (8,746)</td>\n",
       "    </tr>\n",
       "    <tr>\n",
       "      <th>1</th>\n",
       "      <td>1</td>\n",
       "      <td>2</td>\n",
       "      <td>Scene Central Perk, everyone's there.]\\nMonica...</td>\n",
       "      <td>7.9 (6,745)</td>\n",
       "    </tr>\n",
       "    <tr>\n",
       "      <th>2</th>\n",
       "      <td>1</td>\n",
       "      <td>3</td>\n",
       "      <td>Scene: Central Perk, everyone but Phoebe is th...</td>\n",
       "      <td>8.0 (6,346)</td>\n",
       "    </tr>\n",
       "    <tr>\n",
       "      <th>3</th>\n",
       "      <td>1</td>\n",
       "      <td>4</td>\n",
       "      <td>Scene: Central Perk, everyone is there except ...</td>\n",
       "      <td>8.0 (6,162)</td>\n",
       "    </tr>\n",
       "    <tr>\n",
       "      <th>4</th>\n",
       "      <td>1</td>\n",
       "      <td>5</td>\n",
       "      <td>Scene: Central Perk, all six are there.]\\nMoni...</td>\n",
       "      <td>8.4 (6,153)</td>\n",
       "    </tr>\n",
       "    <tr>\n",
       "      <th>...</th>\n",
       "      <td>...</td>\n",
       "      <td>...</td>\n",
       "      <td>...</td>\n",
       "      <td>...</td>\n",
       "    </tr>\n",
       "    <tr>\n",
       "      <th>222</th>\n",
       "      <td>10</td>\n",
       "      <td>13</td>\n",
       "      <td>Scene: Central Perk. Everyone's sitting on the...</td>\n",
       "      <td>8.4 (4,225)</td>\n",
       "    </tr>\n",
       "    <tr>\n",
       "      <th>223</th>\n",
       "      <td>10</td>\n",
       "      <td>14</td>\n",
       "      <td>Scene: Chandler and Monica's apartment. They a...</td>\n",
       "      <td>8.5 (4,103)</td>\n",
       "    </tr>\n",
       "    <tr>\n",
       "      <th>224</th>\n",
       "      <td>10</td>\n",
       "      <td>15</td>\n",
       "      <td>Flashback scene from last week, Monica and Cha...</td>\n",
       "      <td>8.4 (3,857)</td>\n",
       "    </tr>\n",
       "    <tr>\n",
       "      <th>225</th>\n",
       "      <td>10</td>\n",
       "      <td>16</td>\n",
       "      <td>Scene: Joey's place. Rachel and Joey are talki...</td>\n",
       "      <td>8.8 (4,466)</td>\n",
       "    </tr>\n",
       "    <tr>\n",
       "      <th>226</th>\n",
       "      <td>10</td>\n",
       "      <td>17</td>\n",
       "      <td>Scene: Monica and Chandler's apartment. It's a...</td>\n",
       "      <td>9.6 (14,711)</td>\n",
       "    </tr>\n",
       "  </tbody>\n",
       "</table>\n",
       "<p>227 rows × 4 columns</p>\n",
       "</div>"
      ],
      "text/plain": [
       "     Season  Episode                                         Transcript  \\\n",
       "0         1        1  Scene: Central Perk, Chandler, Joey, Phoebe, a...   \n",
       "1         1        2  Scene Central Perk, everyone's there.]\\nMonica...   \n",
       "2         1        3  Scene: Central Perk, everyone but Phoebe is th...   \n",
       "3         1        4  Scene: Central Perk, everyone is there except ...   \n",
       "4         1        5  Scene: Central Perk, all six are there.]\\nMoni...   \n",
       "..      ...      ...                                                ...   \n",
       "222      10       13  Scene: Central Perk. Everyone's sitting on the...   \n",
       "223      10       14  Scene: Chandler and Monica's apartment. They a...   \n",
       "224      10       15  Flashback scene from last week, Monica and Cha...   \n",
       "225      10       16  Scene: Joey's place. Rachel and Joey are talki...   \n",
       "226      10       17  Scene: Monica and Chandler's apartment. It's a...   \n",
       "\n",
       "           Rating  \n",
       "0     8.2 (8,746)  \n",
       "1     7.9 (6,745)  \n",
       "2     8.0 (6,346)  \n",
       "3     8.0 (6,162)  \n",
       "4     8.4 (6,153)  \n",
       "..            ...  \n",
       "222   8.4 (4,225)  \n",
       "223   8.5 (4,103)  \n",
       "224   8.4 (3,857)  \n",
       "225   8.8 (4,466)  \n",
       "226  9.6 (14,711)  \n",
       "\n",
       "[227 rows x 4 columns]"
      ]
     },
     "execution_count": 44,
     "metadata": {},
     "output_type": "execute_result"
    }
   ],
   "source": [
    "final_data"
   ]
  },
  {
   "cell_type": "code",
   "execution_count": 46,
   "id": "b6df7b04-d490-4e01-803b-87df7df6e733",
   "metadata": {},
   "outputs": [],
   "source": [
    "final_data.to_csv('final_data.csv',index=False)"
   ]
  }
 ],
 "metadata": {
  "kernelspec": {
   "display_name": "Python 3",
   "language": "python",
   "name": "python3"
  },
  "language_info": {
   "codemirror_mode": {
    "name": "ipython",
    "version": 3
   },
   "file_extension": ".py",
   "mimetype": "text/x-python",
   "name": "python",
   "nbconvert_exporter": "python",
   "pygments_lexer": "ipython3",
   "version": "3.8.8"
  }
 },
 "nbformat": 4,
 "nbformat_minor": 5
}
