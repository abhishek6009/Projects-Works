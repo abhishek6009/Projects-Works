{
 "cells": [
  {
   "cell_type": "markdown",
   "id": "217d71a4-17f6-4e44-8eec-87903fd9ee75",
   "metadata": {},
   "source": [
    "# Retention Analysis\n",
    "\n",
    "- The data, given in json format, has been imported and we can see that all columns mentioned in the writeup are part of the resulting dataframe.\n",
    "- Immediately after the dataframe is created, it has been saved as  a csv file titled \"Retention.csv\".\n",
    "- The \"Data Quality Report\" will be available as a document in the github repository.\n",
    "- Further analysis on the each column has been performed - this includes cleaning the data in columns \"age\" and \"gross_income\" to make them numeric. Categorical columns have been dummy-encoded.\n",
    "- Missing values were treated.\n",
    "- Outliers were removed.\n",
    "- This data, after applying above steps, is saved as a separate csv file, \"Processesed_data.csv\""
   ]
  },
  {
   "cell_type": "code",
   "execution_count": 1,
   "id": "1c907779-8eb6-4f96-9a51-fd8c8992f434",
   "metadata": {},
   "outputs": [],
   "source": [
    "#imports\n",
    "import pandas as pd\n",
    "import numpy as np\n",
    "import seaborn as sns"
   ]
  },
  {
   "cell_type": "code",
   "execution_count": 2,
   "id": "d649ea12-f3b5-4408-8f1a-3909e42e118e",
   "metadata": {},
   "outputs": [],
   "source": [
    "raw_data=pd.read_json(\"retention.json\",orient='index') #read json file for raw data, orient is used so that the dataframe is created correctly."
   ]
  },
  {
   "cell_type": "code",
   "execution_count": 3,
   "id": "f7f8508d-53dd-4fe3-9a5d-7fd733cae233",
   "metadata": {},
   "outputs": [
    {
     "data": {
      "text/html": [
       "<div>\n",
       "<style scoped>\n",
       "    .dataframe tbody tr th:only-of-type {\n",
       "        vertical-align: middle;\n",
       "    }\n",
       "\n",
       "    .dataframe tbody tr th {\n",
       "        vertical-align: top;\n",
       "    }\n",
       "\n",
       "    .dataframe thead th {\n",
       "        text-align: right;\n",
       "    }\n",
       "</style>\n",
       "<table border=\"1\" class=\"dataframe\">\n",
       "  <thead>\n",
       "    <tr style=\"text-align: right;\">\n",
       "      <th></th>\n",
       "      <th>gender</th>\n",
       "      <th>age</th>\n",
       "      <th>gross_income</th>\n",
       "      <th>segment</th>\n",
       "      <th>num_credit_cards</th>\n",
       "      <th>tiprel_1mes</th>\n",
       "      <th>ind_actividad_cliente</th>\n",
       "      <th>num_Products</th>\n",
       "      <th>num_loans</th>\n",
       "      <th>duration</th>\n",
       "    </tr>\n",
       "  </thead>\n",
       "  <tbody>\n",
       "    <tr>\n",
       "      <th>0</th>\n",
       "      <td>M</td>\n",
       "      <td>21 years</td>\n",
       "      <td>$ 79070.91</td>\n",
       "      <td>Individuals</td>\n",
       "      <td>0</td>\n",
       "      <td>I</td>\n",
       "      <td>0</td>\n",
       "      <td>1</td>\n",
       "      <td>0</td>\n",
       "      <td>1035</td>\n",
       "    </tr>\n",
       "    <tr>\n",
       "      <th>1</th>\n",
       "      <td>M</td>\n",
       "      <td>23 years</td>\n",
       "      <td>$ 178270.68</td>\n",
       "      <td>College_Graduated</td>\n",
       "      <td>0</td>\n",
       "      <td>I</td>\n",
       "      <td>0</td>\n",
       "      <td>1</td>\n",
       "      <td>0</td>\n",
       "      <td>1097</td>\n",
       "    </tr>\n",
       "    <tr>\n",
       "      <th>2</th>\n",
       "      <td>M</td>\n",
       "      <td>24 years</td>\n",
       "      <td>$ 31243.56</td>\n",
       "      <td>College_Graduated</td>\n",
       "      <td>0</td>\n",
       "      <td>I</td>\n",
       "      <td>1</td>\n",
       "      <td>1</td>\n",
       "      <td>0</td>\n",
       "      <td>1866</td>\n",
       "    </tr>\n",
       "    <tr>\n",
       "      <th>3</th>\n",
       "      <td>M</td>\n",
       "      <td>24 years</td>\n",
       "      <td>$ 130740.54</td>\n",
       "      <td>College_Graduated</td>\n",
       "      <td>0</td>\n",
       "      <td>I</td>\n",
       "      <td>0</td>\n",
       "      <td>1</td>\n",
       "      <td>0</td>\n",
       "      <td>1440</td>\n",
       "    </tr>\n",
       "    <tr>\n",
       "      <th>4</th>\n",
       "      <td>M</td>\n",
       "      <td>31 years</td>\n",
       "      <td>$ 112975.17</td>\n",
       "      <td>Individuals</td>\n",
       "      <td>0</td>\n",
       "      <td>I</td>\n",
       "      <td>0</td>\n",
       "      <td>0</td>\n",
       "      <td>0</td>\n",
       "      <td>376</td>\n",
       "    </tr>\n",
       "  </tbody>\n",
       "</table>\n",
       "</div>"
      ],
      "text/plain": [
       "  gender       age gross_income            segment  num_credit_cards  \\\n",
       "0      M  21 years   $ 79070.91        Individuals                 0   \n",
       "1      M  23 years  $ 178270.68  College_Graduated                 0   \n",
       "2      M  24 years   $ 31243.56  College_Graduated                 0   \n",
       "3      M  24 years  $ 130740.54  College_Graduated                 0   \n",
       "4      M  31 years  $ 112975.17        Individuals                 0   \n",
       "\n",
       "  tiprel_1mes  ind_actividad_cliente  num_Products  num_loans  duration  \n",
       "0           I                      0             1          0      1035  \n",
       "1           I                      0             1          0      1097  \n",
       "2           I                      1             1          0      1866  \n",
       "3           I                      0             1          0      1440  \n",
       "4           I                      0             0          0       376  "
      ]
     },
     "execution_count": 3,
     "metadata": {},
     "output_type": "execute_result"
    }
   ],
   "source": [
    "raw_data.head() #raw data in dataframe format"
   ]
  },
  {
   "cell_type": "code",
   "execution_count": 4,
   "id": "3600f684-8836-4c47-be9b-abc9c76af173",
   "metadata": {},
   "outputs": [],
   "source": [
    "raw_data.to_csv(\"Retention.csv\",index=False)"
   ]
  },
  {
   "cell_type": "code",
   "execution_count": 5,
   "id": "eb7368e3-a8f2-4d49-a6d2-e932ed8c39d2",
   "metadata": {},
   "outputs": [
    {
     "name": "stdout",
     "output_type": "stream",
     "text": [
      "<class 'pandas.core.frame.DataFrame'>\n",
      "Int64Index: 54030 entries, 0 to 54029\n",
      "Data columns (total 10 columns):\n",
      " #   Column                 Non-Null Count  Dtype \n",
      "---  ------                 --------------  ----- \n",
      " 0   gender                 54030 non-null  object\n",
      " 1   age                    54030 non-null  object\n",
      " 2   gross_income           54030 non-null  object\n",
      " 3   segment                54030 non-null  object\n",
      " 4   num_credit_cards       54030 non-null  int64 \n",
      " 5   tiprel_1mes            54030 non-null  object\n",
      " 6   ind_actividad_cliente  54030 non-null  int64 \n",
      " 7   num_Products           54030 non-null  int64 \n",
      " 8   num_loans              54030 non-null  int64 \n",
      " 9   duration               54030 non-null  int64 \n",
      "dtypes: int64(5), object(5)\n",
      "memory usage: 4.5+ MB\n"
     ]
    }
   ],
   "source": [
    "raw_data.info()"
   ]
  },
  {
   "cell_type": "code",
   "execution_count": 6,
   "id": "d14331f4-9a4d-4f27-95d6-9a433e026219",
   "metadata": {},
   "outputs": [
    {
     "data": {
      "text/plain": [
       "F    29681\n",
       "M    24349\n",
       "Name: gender, dtype: int64"
      ]
     },
     "execution_count": 6,
     "metadata": {},
     "output_type": "execute_result"
    }
   ],
   "source": [
    "raw_data.gender.value_counts() #check for any anomalies in the column"
   ]
  },
  {
   "cell_type": "code",
   "execution_count": 7,
   "id": "149ac6e5-4ccc-46cf-ac67-c8d7ba6057aa",
   "metadata": {},
   "outputs": [
    {
     "data": {
      "text/plain": [
       "count        54030\n",
       "unique         110\n",
       "top       23 years\n",
       "freq          3080\n",
       "Name: age, dtype: object"
      ]
     },
     "execution_count": 7,
     "metadata": {},
     "output_type": "execute_result"
    }
   ],
   "source": [
    "raw_data.age.describe() #this column needs to be processed to make it numeric, and so that missing values can be detected."
   ]
  },
  {
   "cell_type": "code",
   "execution_count": 8,
   "id": "da05073f-44f5-4fbf-bcfc-84997f3c1200",
   "metadata": {},
   "outputs": [
    {
     "data": {
      "text/plain": [
       "Individuals          32607\n",
       "College_Graduated    18963\n",
       "VIP                   2460\n",
       "Name: segment, dtype: int64"
      ]
     },
     "execution_count": 8,
     "metadata": {},
     "output_type": "execute_result"
    }
   ],
   "source": [
    "raw_data.segment.value_counts() #categorical column that needs to be encoded. No missing values/anomalies"
   ]
  },
  {
   "cell_type": "code",
   "execution_count": 9,
   "id": "f8a22124-aa34-45b6-ac9b-2a5a6039e789",
   "metadata": {},
   "outputs": [
    {
     "data": {
      "text/plain": [
       "0    51335\n",
       "1     2695\n",
       "Name: num_credit_cards, dtype: int64"
      ]
     },
     "execution_count": 9,
     "metadata": {},
     "output_type": "execute_result"
    }
   ],
   "source": [
    "raw_data.num_credit_cards.value_counts() #numeric column, no missing values"
   ]
  },
  {
   "cell_type": "code",
   "execution_count": 10,
   "id": "f361ce62-322f-4d84-b35f-3d7b9387982e",
   "metadata": {},
   "outputs": [
    {
     "data": {
      "text/plain": [
       "I    29026\n",
       "A    25004\n",
       "Name: tiprel_1mes, dtype: int64"
      ]
     },
     "execution_count": 10,
     "metadata": {},
     "output_type": "execute_result"
    }
   ],
   "source": [
    "raw_data.tiprel_1mes.value_counts() #categorical column, needs to be encoded. no missing values"
   ]
  },
  {
   "cell_type": "code",
   "execution_count": 11,
   "id": "5f6962fc-435f-4293-a3cf-5bfb932a8a99",
   "metadata": {},
   "outputs": [],
   "source": [
    "data_1 = raw_data.copy()"
   ]
  },
  {
   "cell_type": "code",
   "execution_count": 12,
   "id": "356bdffe-1fa5-469e-8ead-01f4e787c1c7",
   "metadata": {},
   "outputs": [
    {
     "name": "stderr",
     "output_type": "stream",
     "text": [
      "0it [00:00, ?it/s]<ipython-input-12-b80955b84444>:5: SettingWithCopyWarning: \n",
      "A value is trying to be set on a copy of a slice from a DataFrame\n",
      "\n",
      "See the caveats in the documentation: https://pandas.pydata.org/pandas-docs/stable/user_guide/indexing.html#returning-a-view-versus-a-copy\n",
      "  data_1.age[row[0]] = row[1].age\n",
      "<ipython-input-12-b80955b84444>:7: SettingWithCopyWarning: \n",
      "A value is trying to be set on a copy of a slice from a DataFrame\n",
      "\n",
      "See the caveats in the documentation: https://pandas.pydata.org/pandas-docs/stable/user_guide/indexing.html#returning-a-view-versus-a-copy\n",
      "  data_1.gross_income[row[0]] = row[1].gross_income\n",
      "54030it [02:18, 390.59it/s]\n"
     ]
    }
   ],
   "source": [
    "#process the age and gross_income columns to make them numeric in nature, removing \"years\" from age and \"$\" from gross_income\n",
    "from tqdm import tqdm\n",
    "for row in tqdm(data_1.iterrows()):\n",
    "    row[1].age = row[1].age.split(\" \")[0]\n",
    "    data_1.age[row[0]] = row[1].age\n",
    "    row[1].gross_income = row[1].gross_income.split(\" \")[1]\n",
    "    data_1.gross_income[row[0]] = row[1].gross_income"
   ]
  },
  {
   "cell_type": "code",
   "execution_count": 13,
   "id": "58cb1634-2fd0-4666-a1e4-f2e8fbd2f9d5",
   "metadata": {},
   "outputs": [],
   "source": [
    "data2 = data_1.copy()"
   ]
  },
  {
   "cell_type": "code",
   "execution_count": 14,
   "id": "b158060b-05ae-4f0d-a021-457ceed44136",
   "metadata": {},
   "outputs": [],
   "source": [
    "#changing data type of the two columns to int and float - since there are no errors here, this means there are no abnormal values in the columns\n",
    "data2.age = data2.age.astype('int')\n",
    "data2.gross_income = data2.gross_income.astype('float')"
   ]
  },
  {
   "cell_type": "code",
   "execution_count": 15,
   "id": "95d72bf5-ede7-4f81-a6a1-6ffca31cbf40",
   "metadata": {},
   "outputs": [
    {
     "name": "stdout",
     "output_type": "stream",
     "text": [
      "<class 'pandas.core.frame.DataFrame'>\n",
      "Int64Index: 54030 entries, 0 to 54029\n",
      "Data columns (total 10 columns):\n",
      " #   Column                 Non-Null Count  Dtype  \n",
      "---  ------                 --------------  -----  \n",
      " 0   gender                 54030 non-null  object \n",
      " 1   age                    54030 non-null  int32  \n",
      " 2   gross_income           54030 non-null  float64\n",
      " 3   segment                54030 non-null  object \n",
      " 4   num_credit_cards       54030 non-null  int64  \n",
      " 5   tiprel_1mes            54030 non-null  object \n",
      " 6   ind_actividad_cliente  54030 non-null  int64  \n",
      " 7   num_Products           54030 non-null  int64  \n",
      " 8   num_loans              54030 non-null  int64  \n",
      " 9   duration               54030 non-null  int64  \n",
      "dtypes: float64(1), int32(1), int64(5), object(3)\n",
      "memory usage: 6.3+ MB\n"
     ]
    }
   ],
   "source": [
    "data2.info()"
   ]
  },
  {
   "cell_type": "code",
   "execution_count": 16,
   "id": "1bc50bae-f281-453d-814f-abd3323525c0",
   "metadata": {},
   "outputs": [],
   "source": [
    "data3=pd.get_dummies(data2, columns = ['gender','segment','tiprel_1mes'],drop_first=True) #dummy encode categorical columns"
   ]
  },
  {
   "cell_type": "code",
   "execution_count": 17,
   "id": "799ce193-b9f2-42b7-b763-78f1662cc2ad",
   "metadata": {},
   "outputs": [
    {
     "name": "stdout",
     "output_type": "stream",
     "text": [
      "<class 'pandas.core.frame.DataFrame'>\n",
      "Int64Index: 54030 entries, 0 to 54029\n",
      "Data columns (total 11 columns):\n",
      " #   Column                 Non-Null Count  Dtype  \n",
      "---  ------                 --------------  -----  \n",
      " 0   age                    54030 non-null  int32  \n",
      " 1   gross_income           54030 non-null  float64\n",
      " 2   num_credit_cards       54030 non-null  int64  \n",
      " 3   ind_actividad_cliente  54030 non-null  int64  \n",
      " 4   num_Products           54030 non-null  int64  \n",
      " 5   num_loans              54030 non-null  int64  \n",
      " 6   duration               54030 non-null  int64  \n",
      " 7   gender_M               54030 non-null  uint8  \n",
      " 8   segment_Individuals    54030 non-null  uint8  \n",
      " 9   segment_VIP            54030 non-null  uint8  \n",
      " 10  tiprel_1mes_I          54030 non-null  uint8  \n",
      "dtypes: float64(1), int32(1), int64(5), uint8(4)\n",
      "memory usage: 5.3 MB\n"
     ]
    }
   ],
   "source": [
    "data3.info()"
   ]
  },
  {
   "cell_type": "code",
   "execution_count": 18,
   "id": "7c0bd427-57ea-445a-b805-369a9777b690",
   "metadata": {},
   "outputs": [
    {
     "data": {
      "text/plain": [
       "<AxesSubplot:xlabel='age'>"
      ]
     },
     "execution_count": 18,
     "metadata": {},
     "output_type": "execute_result"
    },
    {
     "data": {
      "image/png": "[encoded data removed]",
      "text/plain": [
       "<Figure size 432x288 with 1 Axes>"
      ]
     },
     "metadata": {
      "needs_background": "light"
     },
     "output_type": "display_data"
    }
   ],
   "source": [
    "#checking for and removing outliers in various columns\n",
    "import seaborn as sns\n",
    "sns.boxplot(x=data3.age) #age more than ~90 is outlier."
   ]
  },
  {
   "cell_type": "code",
   "execution_count": 19,
   "id": "f09ff4cc-717b-4fdb-9a60-a50c9183c094",
   "metadata": {},
   "outputs": [
    {
     "data": {
      "text/plain": [
       "<AxesSubplot:xlabel='age', ylabel='Count'>"
      ]
     },
     "execution_count": 19,
     "metadata": {},
     "output_type": "execute_result"
    },
    {
     "data": {
      "image/png": "[encoded data removed]",
      "text/plain": [
       "<Figure size 432x288 with 1 Axes>"
      ]
     },
     "metadata": {
      "needs_background": "light"
     },
     "output_type": "display_data"
    }
   ],
   "source": [
    "sns.histplot(x=data3.age)"
   ]
  },
  {
   "cell_type": "code",
   "execution_count": 20,
   "id": "ede93f44-62da-4a5c-b6de-f45595ddf8a0",
   "metadata": {},
   "outputs": [],
   "source": [
    "data4 = data3[~(data3.age<20) & ~(data3.age>90)] #removing age outliers from both lower and higher side"
   ]
  },
  {
   "cell_type": "code",
   "execution_count": 21,
   "id": "5ef10759-9811-4bab-9a9e-d2e3a51ddad0",
   "metadata": {},
   "outputs": [
    {
     "name": "stderr",
     "output_type": "stream",
     "text": [
      "C:\\Users\\Abhishek\\anaconda3\\lib\\site-packages\\seaborn\\_decorators.py:36: FutureWarning: Pass the following variable as a keyword arg: x. From version 0.12, the only valid positional argument will be `data`, and passing other arguments without an explicit keyword will result in an error or misinterpretation.\n",
      "  warnings.warn(\n"
     ]
    },
    {
     "data": {
      "text/plain": [
       "<AxesSubplot:xlabel='age'>"
      ]
     },
     "execution_count": 21,
     "metadata": {},
     "output_type": "execute_result"
    },
    {
     "data": {
      "image/png": "[encoded data removed]",
      "text/plain": [
       "<Figure size 432x288 with 1 Axes>"
      ]
     },
     "metadata": {
      "needs_background": "light"
     },
     "output_type": "display_data"
    }
   ],
   "source": [
    "sns.boxplot(data4.age)"
   ]
  },
  {
   "cell_type": "code",
   "execution_count": 22,
   "id": "2265c44a-737b-47e5-8eec-91fef01ff9a3",
   "metadata": {},
   "outputs": [
    {
     "data": {
      "text/plain": [
       "<AxesSubplot:xlabel='gross_income'>"
      ]
     },
     "execution_count": 22,
     "metadata": {},
     "output_type": "execute_result"
    },
    {
     "data": {
      "image/png": "[encoded data removed]",
      "text/plain": [
       "<Figure size 432x288 with 1 Axes>"
      ]
     },
     "metadata": {
      "needs_background": "light"
     },
     "output_type": "display_data"
    }
   ],
   "source": [
    "sns.boxplot(x=data4.gross_income) #gross_income has many outliers - while the boxplot suggests limiting the values to around 225,000, \n",
    "#we will take values up to 500,000 to remove only very extreme outliers."
   ]
  },
  {
   "cell_type": "code",
   "execution_count": 23,
   "id": "0bdea8af-ebef-4841-8608-b629e5be6441",
   "metadata": {},
   "outputs": [
    {
     "data": {
      "text/plain": [
       "<AxesSubplot:xlabel='gross_income'>"
      ]
     },
     "execution_count": 23,
     "metadata": {},
     "output_type": "execute_result"
    },
    {
     "data": {
      "image/png": "[encoded data removed]",
      "text/plain": [
       "<Figure size 432x288 with 1 Axes>"
      ]
     },
     "metadata": {
      "needs_background": "light"
     },
     "output_type": "display_data"
    }
   ],
   "source": [
    "sns.boxplot(x=data4[data4.gross_income<500000].gross_income)"
   ]
  },
  {
   "cell_type": "code",
   "execution_count": 24,
   "id": "8962b47a-a58d-4370-99c5-01cff59763ef",
   "metadata": {},
   "outputs": [
    {
     "data": {
      "text/html": [
       "<div>\n",
       "<style scoped>\n",
       "    .dataframe tbody tr th:only-of-type {\n",
       "        vertical-align: middle;\n",
       "    }\n",
       "\n",
       "    .dataframe tbody tr th {\n",
       "        vertical-align: top;\n",
       "    }\n",
       "\n",
       "    .dataframe thead th {\n",
       "        text-align: right;\n",
       "    }\n",
       "</style>\n",
       "<table border=\"1\" class=\"dataframe\">\n",
       "  <thead>\n",
       "    <tr style=\"text-align: right;\">\n",
       "      <th></th>\n",
       "      <th>age</th>\n",
       "      <th>gross_income</th>\n",
       "      <th>num_credit_cards</th>\n",
       "      <th>ind_actividad_cliente</th>\n",
       "      <th>num_Products</th>\n",
       "      <th>num_loans</th>\n",
       "      <th>duration</th>\n",
       "      <th>gender_M</th>\n",
       "      <th>segment_Individuals</th>\n",
       "      <th>segment_VIP</th>\n",
       "      <th>tiprel_1mes_I</th>\n",
       "    </tr>\n",
       "  </thead>\n",
       "  <tbody>\n",
       "    <tr>\n",
       "      <th>41</th>\n",
       "      <td>53</td>\n",
       "      <td>1415413.26</td>\n",
       "      <td>0</td>\n",
       "      <td>1</td>\n",
       "      <td>3</td>\n",
       "      <td>0</td>\n",
       "      <td>1497</td>\n",
       "      <td>0</td>\n",
       "      <td>1</td>\n",
       "      <td>0</td>\n",
       "      <td>0</td>\n",
       "    </tr>\n",
       "    <tr>\n",
       "      <th>76</th>\n",
       "      <td>26</td>\n",
       "      <td>823727.49</td>\n",
       "      <td>0</td>\n",
       "      <td>0</td>\n",
       "      <td>1</td>\n",
       "      <td>0</td>\n",
       "      <td>1763</td>\n",
       "      <td>1</td>\n",
       "      <td>0</td>\n",
       "      <td>0</td>\n",
       "      <td>1</td>\n",
       "    </tr>\n",
       "    <tr>\n",
       "      <th>142</th>\n",
       "      <td>61</td>\n",
       "      <td>698086.14</td>\n",
       "      <td>0</td>\n",
       "      <td>0</td>\n",
       "      <td>1</td>\n",
       "      <td>0</td>\n",
       "      <td>3133</td>\n",
       "      <td>0</td>\n",
       "      <td>1</td>\n",
       "      <td>0</td>\n",
       "      <td>1</td>\n",
       "    </tr>\n",
       "    <tr>\n",
       "      <th>160</th>\n",
       "      <td>42</td>\n",
       "      <td>664041.21</td>\n",
       "      <td>0</td>\n",
       "      <td>1</td>\n",
       "      <td>6</td>\n",
       "      <td>0</td>\n",
       "      <td>4269</td>\n",
       "      <td>0</td>\n",
       "      <td>1</td>\n",
       "      <td>0</td>\n",
       "      <td>0</td>\n",
       "    </tr>\n",
       "    <tr>\n",
       "      <th>247</th>\n",
       "      <td>31</td>\n",
       "      <td>880562.85</td>\n",
       "      <td>0</td>\n",
       "      <td>0</td>\n",
       "      <td>1</td>\n",
       "      <td>0</td>\n",
       "      <td>1438</td>\n",
       "      <td>1</td>\n",
       "      <td>0</td>\n",
       "      <td>0</td>\n",
       "      <td>1</td>\n",
       "    </tr>\n",
       "    <tr>\n",
       "      <th>...</th>\n",
       "      <td>...</td>\n",
       "      <td>...</td>\n",
       "      <td>...</td>\n",
       "      <td>...</td>\n",
       "      <td>...</td>\n",
       "      <td>...</td>\n",
       "      <td>...</td>\n",
       "      <td>...</td>\n",
       "      <td>...</td>\n",
       "      <td>...</td>\n",
       "      <td>...</td>\n",
       "    </tr>\n",
       "    <tr>\n",
       "      <th>53596</th>\n",
       "      <td>51</td>\n",
       "      <td>1496980.35</td>\n",
       "      <td>0</td>\n",
       "      <td>1</td>\n",
       "      <td>1</td>\n",
       "      <td>0</td>\n",
       "      <td>5571</td>\n",
       "      <td>1</td>\n",
       "      <td>1</td>\n",
       "      <td>0</td>\n",
       "      <td>0</td>\n",
       "    </tr>\n",
       "    <tr>\n",
       "      <th>53794</th>\n",
       "      <td>51</td>\n",
       "      <td>596744.58</td>\n",
       "      <td>0</td>\n",
       "      <td>1</td>\n",
       "      <td>3</td>\n",
       "      <td>0</td>\n",
       "      <td>6460</td>\n",
       "      <td>0</td>\n",
       "      <td>1</td>\n",
       "      <td>0</td>\n",
       "      <td>0</td>\n",
       "    </tr>\n",
       "    <tr>\n",
       "      <th>53867</th>\n",
       "      <td>66</td>\n",
       "      <td>555605.55</td>\n",
       "      <td>1</td>\n",
       "      <td>1</td>\n",
       "      <td>8</td>\n",
       "      <td>0</td>\n",
       "      <td>7509</td>\n",
       "      <td>1</td>\n",
       "      <td>0</td>\n",
       "      <td>1</td>\n",
       "      <td>0</td>\n",
       "    </tr>\n",
       "    <tr>\n",
       "      <th>53997</th>\n",
       "      <td>35</td>\n",
       "      <td>713530.20</td>\n",
       "      <td>0</td>\n",
       "      <td>0</td>\n",
       "      <td>1</td>\n",
       "      <td>0</td>\n",
       "      <td>4632</td>\n",
       "      <td>1</td>\n",
       "      <td>1</td>\n",
       "      <td>0</td>\n",
       "      <td>1</td>\n",
       "    </tr>\n",
       "    <tr>\n",
       "      <th>54014</th>\n",
       "      <td>46</td>\n",
       "      <td>555357.33</td>\n",
       "      <td>1</td>\n",
       "      <td>1</td>\n",
       "      <td>4</td>\n",
       "      <td>1</td>\n",
       "      <td>4514</td>\n",
       "      <td>0</td>\n",
       "      <td>1</td>\n",
       "      <td>0</td>\n",
       "      <td>0</td>\n",
       "    </tr>\n",
       "  </tbody>\n",
       "</table>\n",
       "<p>681 rows × 11 columns</p>\n",
       "</div>"
      ],
      "text/plain": [
       "       age  gross_income  num_credit_cards  ind_actividad_cliente  \\\n",
       "41      53    1415413.26                 0                      1   \n",
       "76      26     823727.49                 0                      0   \n",
       "142     61     698086.14                 0                      0   \n",
       "160     42     664041.21                 0                      1   \n",
       "247     31     880562.85                 0                      0   \n",
       "...    ...           ...               ...                    ...   \n",
       "53596   51    1496980.35                 0                      1   \n",
       "53794   51     596744.58                 0                      1   \n",
       "53867   66     555605.55                 1                      1   \n",
       "53997   35     713530.20                 0                      0   \n",
       "54014   46     555357.33                 1                      1   \n",
       "\n",
       "       num_Products  num_loans  duration  gender_M  segment_Individuals  \\\n",
       "41                3          0      1497         0                    1   \n",
       "76                1          0      1763         1                    0   \n",
       "142               1          0      3133         0                    1   \n",
       "160               6          0      4269         0                    1   \n",
       "247               1          0      1438         1                    0   \n",
       "...             ...        ...       ...       ...                  ...   \n",
       "53596             1          0      5571         1                    1   \n",
       "53794             3          0      6460         0                    1   \n",
       "53867             8          0      7509         1                    0   \n",
       "53997             1          0      4632         1                    1   \n",
       "54014             4          1      4514         0                    1   \n",
       "\n",
       "       segment_VIP  tiprel_1mes_I  \n",
       "41               0              0  \n",
       "76               0              1  \n",
       "142              0              1  \n",
       "160              0              0  \n",
       "247              0              1  \n",
       "...            ...            ...  \n",
       "53596            0              0  \n",
       "53794            0              0  \n",
       "53867            1              0  \n",
       "53997            0              1  \n",
       "54014            0              0  \n",
       "\n",
       "[681 rows x 11 columns]"
      ]
     },
     "execution_count": 24,
     "metadata": {},
     "output_type": "execute_result"
    }
   ],
   "source": [
    "data4[data4.gross_income>500000]"
   ]
  },
  {
   "cell_type": "code",
   "execution_count": 25,
   "id": "7b79b349-e15e-48f0-86ce-d5f0859f0bda",
   "metadata": {},
   "outputs": [],
   "source": [
    "data5=data4[data4.gross_income<500000]"
   ]
  },
  {
   "cell_type": "code",
   "execution_count": 26,
   "id": "147fcb7e-88fe-421e-a982-e9a9924dbeef",
   "metadata": {},
   "outputs": [
    {
     "data": {
      "text/plain": [
       "(52284, 11)"
      ]
     },
     "execution_count": 26,
     "metadata": {},
     "output_type": "execute_result"
    }
   ],
   "source": [
    "data5.shape #so far we have dropped only 1746 rows."
   ]
  },
  {
   "cell_type": "code",
   "execution_count": 27,
   "id": "24165278-9e6c-43d4-af30-9e0ae25aad3a",
   "metadata": {},
   "outputs": [
    {
     "data": {
      "text/plain": [
       "<AxesSubplot:>"
      ]
     },
     "execution_count": 27,
     "metadata": {},
     "output_type": "execute_result"
    },
    {
     "data": {
      "image/png": "[encoded data removed]",
      "text/plain": [
       "<Figure size 432x288 with 1 Axes>"
      ]
     },
     "metadata": {
      "needs_background": "light"
     },
     "output_type": "display_data"
    }
   ],
   "source": [
    "data5.gross_income.plot(kind='box')"
   ]
  },
  {
   "cell_type": "code",
   "execution_count": 28,
   "id": "afeafa0b-9e18-44cd-86d8-e3d8e36d49dd",
   "metadata": {},
   "outputs": [
    {
     "name": "stderr",
     "output_type": "stream",
     "text": [
      "C:\\Users\\Abhishek\\anaconda3\\lib\\site-packages\\seaborn\\_decorators.py:36: FutureWarning: Pass the following variable as a keyword arg: x. From version 0.12, the only valid positional argument will be `data`, and passing other arguments without an explicit keyword will result in an error or misinterpretation.\n",
      "  warnings.warn(\n"
     ]
    },
    {
     "data": {
      "text/plain": [
       "<AxesSubplot:xlabel='num_Products'>"
      ]
     },
     "execution_count": 28,
     "metadata": {},
     "output_type": "execute_result"
    },
    {
     "data": {
      "image/png": "[encoded data removed]",
      "text/plain": [
       "<Figure size 432x288 with 1 Axes>"
      ]
     },
     "metadata": {
      "needs_background": "light"
     },
     "output_type": "display_data"
    }
   ],
   "source": [
    "sns.boxplot(data5.num_Products) #num_Products also has outliers - we keep only those rows where the value is less than 6"
   ]
  },
  {
   "cell_type": "code",
   "execution_count": 29,
   "id": "55addfa0-8df8-4878-90b9-968f30bce39e",
   "metadata": {},
   "outputs": [],
   "source": [
    "data6 = data5[data5.num_Products<6]"
   ]
  },
  {
   "cell_type": "code",
   "execution_count": 30,
   "id": "9abeb84e-bae9-4a7b-b3f4-f0c969b79d69",
   "metadata": {},
   "outputs": [
    {
     "name": "stderr",
     "output_type": "stream",
     "text": [
      "C:\\Users\\Abhishek\\anaconda3\\lib\\site-packages\\seaborn\\_decorators.py:36: FutureWarning: Pass the following variable as a keyword arg: x. From version 0.12, the only valid positional argument will be `data`, and passing other arguments without an explicit keyword will result in an error or misinterpretation.\n",
      "  warnings.warn(\n"
     ]
    },
    {
     "data": {
      "text/plain": [
       "<AxesSubplot:xlabel='num_Products'>"
      ]
     },
     "execution_count": 30,
     "metadata": {},
     "output_type": "execute_result"
    },
    {
     "data": {
      "image/png": "[encoded data removed]",
      "text/plain": [
       "<Figure size 432x288 with 1 Axes>"
      ]
     },
     "metadata": {
      "needs_background": "light"
     },
     "output_type": "display_data"
    }
   ],
   "source": [
    "sns.boxplot(data6.num_Products)"
   ]
  },
  {
   "cell_type": "code",
   "execution_count": 31,
   "id": "32165d53-9035-4f74-b953-54f92cfe509c",
   "metadata": {},
   "outputs": [
    {
     "name": "stderr",
     "output_type": "stream",
     "text": [
      "C:\\Users\\Abhishek\\anaconda3\\lib\\site-packages\\seaborn\\_decorators.py:36: FutureWarning: Pass the following variable as a keyword arg: x. From version 0.12, the only valid positional argument will be `data`, and passing other arguments without an explicit keyword will result in an error or misinterpretation.\n",
      "  warnings.warn(\n"
     ]
    },
    {
     "data": {
      "text/plain": [
       "<AxesSubplot:xlabel='duration'>"
      ]
     },
     "execution_count": 31,
     "metadata": {},
     "output_type": "execute_result"
    },
    {
     "data": {
      "image/png": "[encoded data removed]",
      "text/plain": [
       "<Figure size 432x288 with 1 Axes>"
      ]
     },
     "metadata": {
      "needs_background": "light"
     },
     "output_type": "display_data"
    }
   ],
   "source": [
    "sns.boxplot(data6.duration) #duration does not have any outliers"
   ]
  },
  {
   "cell_type": "code",
   "execution_count": 32,
   "id": "ca319b01-6075-4b9e-8fc9-a664570cef7e",
   "metadata": {},
   "outputs": [
    {
     "name": "stdout",
     "output_type": "stream",
     "text": [
      "<class 'pandas.core.frame.DataFrame'>\n",
      "Int64Index: 50142 entries, 0 to 54029\n",
      "Data columns (total 11 columns):\n",
      " #   Column                 Non-Null Count  Dtype  \n",
      "---  ------                 --------------  -----  \n",
      " 0   age                    50142 non-null  int32  \n",
      " 1   gross_income           50142 non-null  float64\n",
      " 2   num_credit_cards       50142 non-null  int64  \n",
      " 3   ind_actividad_cliente  50142 non-null  int64  \n",
      " 4   num_Products           50142 non-null  int64  \n",
      " 5   num_loans              50142 non-null  int64  \n",
      " 6   duration               50142 non-null  int64  \n",
      " 7   gender_M               50142 non-null  uint8  \n",
      " 8   segment_Individuals    50142 non-null  uint8  \n",
      " 9   segment_VIP            50142 non-null  uint8  \n",
      " 10  tiprel_1mes_I          50142 non-null  uint8  \n",
      "dtypes: float64(1), int32(1), int64(5), uint8(4)\n",
      "memory usage: 3.1 MB\n"
     ]
    }
   ],
   "source": [
    "data6.info() #we have groped 3888 entries to get a total of 50142 entries finally."
   ]
  },
  {
   "cell_type": "code",
   "execution_count": 33,
   "id": "7637c85b-177f-4d98-8fe6-8b7c91d19693",
   "metadata": {},
   "outputs": [
    {
     "data": {
      "text/plain": [
       "<AxesSubplot:>"
      ]
     },
     "execution_count": 33,
     "metadata": {},
     "output_type": "execute_result"
    },
    {
     "data": {
      "image/png": "[encoded data removed]",
      "text/plain": [
       "<Figure size 432x288 with 2 Axes>"
      ]
     },
     "metadata": {
      "needs_background": "light"
     },
     "output_type": "display_data"
    }
   ],
   "source": [
    "sns.heatmap(data6.corr(),annot=True, cmap='PRGn_r')"
   ]
  },
  {
   "cell_type": "code",
   "execution_count": 2,
   "id": "f1770374-57be-4427-92a0-331aada8eb11",
   "metadata": {},
   "outputs": [
    {
     "ename": "NameError",
     "evalue": "name 'data6' is not defined",
     "output_type": "error",
     "traceback": [
      "\u001b[1;31m---------------------------------------------------------------------------\u001b[0m",
      "\u001b[1;31mNameError\u001b[0m                                 Traceback (most recent call last)",
      "\u001b[1;32m<ipython-input-2-539e3a317c3c>\u001b[0m in \u001b[0;36m<module>\u001b[1;34m\u001b[0m\n\u001b[1;32m----> 1\u001b[1;33m \u001b[0mdata6\u001b[0m\u001b[1;33m.\u001b[0m\u001b[0mto_csv\u001b[0m\u001b[1;33m(\u001b[0m\u001b[1;34m\"Processed_data.csv\"\u001b[0m\u001b[1;33m,\u001b[0m\u001b[0mindex\u001b[0m\u001b[1;33m=\u001b[0m\u001b[1;32mFalse\u001b[0m\u001b[1;33m)\u001b[0m \u001b[1;31m#save pre-processed data separately\u001b[0m\u001b[1;33m\u001b[0m\u001b[1;33m\u001b[0m\u001b[0m\n\u001b[0m",
      "\u001b[1;31mNameError\u001b[0m: name 'data6' is not defined"
     ]
    }
   ],
   "source": [
    "data6.to_csv(\"Processed_data.csv\",index=False) #save pre-processed data separately"
   ]
  },
  {
   "cell_type": "code",
   "execution_count": 3,
   "id": "f32125be-b813-4b72-8add-6abc494e1794",
   "metadata": {},
   "outputs": [],
   "source": [
    "df = pd.read_csv(\"Processed_data.csv\")"
   ]
  },
  {
   "cell_type": "code",
   "execution_count": 36,
   "id": "8f7583a3-3764-4b54-808d-ff15644d8acd",
   "metadata": {},
   "outputs": [
    {
     "data": {
      "text/html": [
       "<div>\n",
       "<style scoped>\n",
       "    .dataframe tbody tr th:only-of-type {\n",
       "        vertical-align: middle;\n",
       "    }\n",
       "\n",
       "    .dataframe tbody tr th {\n",
       "        vertical-align: top;\n",
       "    }\n",
       "\n",
       "    .dataframe thead th {\n",
       "        text-align: right;\n",
       "    }\n",
       "</style>\n",
       "<table border=\"1\" class=\"dataframe\">\n",
       "  <thead>\n",
       "    <tr style=\"text-align: right;\">\n",
       "      <th></th>\n",
       "      <th>age</th>\n",
       "      <th>gross_income</th>\n",
       "      <th>num_credit_cards</th>\n",
       "      <th>ind_actividad_cliente</th>\n",
       "      <th>num_Products</th>\n",
       "      <th>num_loans</th>\n",
       "      <th>duration</th>\n",
       "      <th>gender_M</th>\n",
       "      <th>segment_Individuals</th>\n",
       "      <th>segment_VIP</th>\n",
       "      <th>tiprel_1mes_I</th>\n",
       "    </tr>\n",
       "  </thead>\n",
       "  <tbody>\n",
       "    <tr>\n",
       "      <th>0</th>\n",
       "      <td>21</td>\n",
       "      <td>79070.91</td>\n",
       "      <td>0</td>\n",
       "      <td>0</td>\n",
       "      <td>1</td>\n",
       "      <td>0</td>\n",
       "      <td>1035</td>\n",
       "      <td>1</td>\n",
       "      <td>1</td>\n",
       "      <td>0</td>\n",
       "      <td>1</td>\n",
       "    </tr>\n",
       "    <tr>\n",
       "      <th>1</th>\n",
       "      <td>23</td>\n",
       "      <td>178270.68</td>\n",
       "      <td>0</td>\n",
       "      <td>0</td>\n",
       "      <td>1</td>\n",
       "      <td>0</td>\n",
       "      <td>1097</td>\n",
       "      <td>1</td>\n",
       "      <td>0</td>\n",
       "      <td>0</td>\n",
       "      <td>1</td>\n",
       "    </tr>\n",
       "    <tr>\n",
       "      <th>2</th>\n",
       "      <td>24</td>\n",
       "      <td>31243.56</td>\n",
       "      <td>0</td>\n",
       "      <td>1</td>\n",
       "      <td>1</td>\n",
       "      <td>0</td>\n",
       "      <td>1866</td>\n",
       "      <td>1</td>\n",
       "      <td>0</td>\n",
       "      <td>0</td>\n",
       "      <td>1</td>\n",
       "    </tr>\n",
       "    <tr>\n",
       "      <th>3</th>\n",
       "      <td>24</td>\n",
       "      <td>130740.54</td>\n",
       "      <td>0</td>\n",
       "      <td>0</td>\n",
       "      <td>1</td>\n",
       "      <td>0</td>\n",
       "      <td>1440</td>\n",
       "      <td>1</td>\n",
       "      <td>0</td>\n",
       "      <td>0</td>\n",
       "      <td>1</td>\n",
       "    </tr>\n",
       "    <tr>\n",
       "      <th>4</th>\n",
       "      <td>31</td>\n",
       "      <td>112975.17</td>\n",
       "      <td>0</td>\n",
       "      <td>0</td>\n",
       "      <td>0</td>\n",
       "      <td>0</td>\n",
       "      <td>376</td>\n",
       "      <td>1</td>\n",
       "      <td>1</td>\n",
       "      <td>0</td>\n",
       "      <td>1</td>\n",
       "    </tr>\n",
       "    <tr>\n",
       "      <th>...</th>\n",
       "      <td>...</td>\n",
       "      <td>...</td>\n",
       "      <td>...</td>\n",
       "      <td>...</td>\n",
       "      <td>...</td>\n",
       "      <td>...</td>\n",
       "      <td>...</td>\n",
       "      <td>...</td>\n",
       "      <td>...</td>\n",
       "      <td>...</td>\n",
       "      <td>...</td>\n",
       "    </tr>\n",
       "    <tr>\n",
       "      <th>50137</th>\n",
       "      <td>24</td>\n",
       "      <td>75405.60</td>\n",
       "      <td>0</td>\n",
       "      <td>0</td>\n",
       "      <td>1</td>\n",
       "      <td>0</td>\n",
       "      <td>1073</td>\n",
       "      <td>1</td>\n",
       "      <td>0</td>\n",
       "      <td>0</td>\n",
       "      <td>1</td>\n",
       "    </tr>\n",
       "    <tr>\n",
       "      <th>50138</th>\n",
       "      <td>24</td>\n",
       "      <td>47237.01</td>\n",
       "      <td>0</td>\n",
       "      <td>1</td>\n",
       "      <td>1</td>\n",
       "      <td>0</td>\n",
       "      <td>1147</td>\n",
       "      <td>1</td>\n",
       "      <td>0</td>\n",
       "      <td>0</td>\n",
       "      <td>1</td>\n",
       "    </tr>\n",
       "    <tr>\n",
       "      <th>50139</th>\n",
       "      <td>24</td>\n",
       "      <td>185323.05</td>\n",
       "      <td>0</td>\n",
       "      <td>0</td>\n",
       "      <td>0</td>\n",
       "      <td>0</td>\n",
       "      <td>1817</td>\n",
       "      <td>1</td>\n",
       "      <td>0</td>\n",
       "      <td>0</td>\n",
       "      <td>1</td>\n",
       "    </tr>\n",
       "    <tr>\n",
       "      <th>50140</th>\n",
       "      <td>27</td>\n",
       "      <td>65246.79</td>\n",
       "      <td>0</td>\n",
       "      <td>0</td>\n",
       "      <td>1</td>\n",
       "      <td>0</td>\n",
       "      <td>1447</td>\n",
       "      <td>0</td>\n",
       "      <td>0</td>\n",
       "      <td>0</td>\n",
       "      <td>1</td>\n",
       "    </tr>\n",
       "    <tr>\n",
       "      <th>50141</th>\n",
       "      <td>20</td>\n",
       "      <td>180678.48</td>\n",
       "      <td>0</td>\n",
       "      <td>0</td>\n",
       "      <td>1</td>\n",
       "      <td>0</td>\n",
       "      <td>366</td>\n",
       "      <td>1</td>\n",
       "      <td>0</td>\n",
       "      <td>0</td>\n",
       "      <td>0</td>\n",
       "    </tr>\n",
       "  </tbody>\n",
       "</table>\n",
       "<p>50142 rows × 11 columns</p>\n",
       "</div>"
      ],
      "text/plain": [
       "       age  gross_income  num_credit_cards  ind_actividad_cliente  \\\n",
       "0       21      79070.91                 0                      0   \n",
       "1       23     178270.68                 0                      0   \n",
       "2       24      31243.56                 0                      1   \n",
       "3       24     130740.54                 0                      0   \n",
       "4       31     112975.17                 0                      0   \n",
       "...    ...           ...               ...                    ...   \n",
       "50137   24      75405.60                 0                      0   \n",
       "50138   24      47237.01                 0                      1   \n",
       "50139   24     185323.05                 0                      0   \n",
       "50140   27      65246.79                 0                      0   \n",
       "50141   20     180678.48                 0                      0   \n",
       "\n",
       "       num_Products  num_loans  duration  gender_M  segment_Individuals  \\\n",
       "0                 1          0      1035         1                    1   \n",
       "1                 1          0      1097         1                    0   \n",
       "2                 1          0      1866         1                    0   \n",
       "3                 1          0      1440         1                    0   \n",
       "4                 0          0       376         1                    1   \n",
       "...             ...        ...       ...       ...                  ...   \n",
       "50137             1          0      1073         1                    0   \n",
       "50138             1          0      1147         1                    0   \n",
       "50139             0          0      1817         1                    0   \n",
       "50140             1          0      1447         0                    0   \n",
       "50141             1          0       366         1                    0   \n",
       "\n",
       "       segment_VIP  tiprel_1mes_I  \n",
       "0                0              1  \n",
       "1                0              1  \n",
       "2                0              1  \n",
       "3                0              1  \n",
       "4                0              1  \n",
       "...            ...            ...  \n",
       "50137            0              1  \n",
       "50138            0              1  \n",
       "50139            0              1  \n",
       "50140            0              1  \n",
       "50141            0              0  \n",
       "\n",
       "[50142 rows x 11 columns]"
      ]
     },
     "execution_count": 36,
     "metadata": {},
     "output_type": "execute_result"
    }
   ],
   "source": [
    "df"
   ]
  },
  {
   "cell_type": "code",
   "execution_count": 4,
   "id": "039424b8-39a2-4381-bb75-8cbe2ddf0525",
   "metadata": {},
   "outputs": [],
   "source": [
    "inactive_to_active = df[(df.tiprel_1mes_I==1) & (df.ind_actividad_cliente==1)] #people who went from inactive to active in the 6 month period"
   ]
  },
  {
   "cell_type": "code",
   "execution_count": 5,
   "id": "43d97cbc-c4e6-4f33-abc6-5af2cc97abfa",
   "metadata": {},
   "outputs": [
    {
     "data": {
      "text/plain": [
       "42.091197462331486"
      ]
     },
     "execution_count": 5,
     "metadata": {},
     "output_type": "execute_result"
    }
   ],
   "source": [
    "inactive_to_active[inactive_to_active.gender_M==0].age.mean() #mean age of male inactive-to-active customers"
   ]
  },
  {
   "cell_type": "code",
   "execution_count": 6,
   "id": "453af94b-6105-428c-bd25-6fd03a30e9ac",
   "metadata": {},
   "outputs": [
    {
     "data": {
      "text/plain": [
       "36.495076096687555"
      ]
     },
     "execution_count": 6,
     "metadata": {},
     "output_type": "execute_result"
    }
   ],
   "source": [
    "inactive_to_active[inactive_to_active.gender_M==1].age.mean() #mean age of femaly inactive-to-active customers"
   ]
  },
  {
   "cell_type": "markdown",
   "id": "38f829d6-50ff-4e4b-8375-2c79aa2d6ae6",
   "metadata": {},
   "source": [
    "We can see that Females who went from inactive to active had higher mean age compared to Males."
   ]
  },
  {
   "cell_type": "code",
   "execution_count": 7,
   "id": "056c76f3-196d-427c-a775-20d555802999",
   "metadata": {},
   "outputs": [
    {
     "data": {
      "text/plain": [
       "<AxesSubplot:xlabel='age', ylabel='gender_M'>"
      ]
     },
     "execution_count": 7,
     "metadata": {},
     "output_type": "execute_result"
    },
    {
     "data": {
      "image/png": "[encoded data removed]",
      "text/plain": [
       "<Figure size 432x288 with 1 Axes>"
      ]
     },
     "metadata": {
      "needs_background": "light"
     },
     "output_type": "display_data"
    }
   ],
   "source": [
    "sns.regplot(x=inactive_to_active.age, y = inactive_to_active.gender_M)\n",
    "#this regression plot also shows this relation - as age increases, the number of males reduces, hence number of females increases."
   ]
  },
  {
   "cell_type": "code",
   "execution_count": 8,
   "id": "b0605ced-b232-4e97-8b35-619ead61cee7",
   "metadata": {},
   "outputs": [
    {
     "data": {
      "text/plain": [
       "120915.23369630295"
      ]
     },
     "execution_count": 8,
     "metadata": {},
     "output_type": "execute_result"
    }
   ],
   "source": [
    "df.gross_income.mean() #mean income of all customers except outliers."
   ]
  },
  {
   "cell_type": "code",
   "execution_count": 9,
   "id": "4cf140c3-4d56-4afa-8b77-44d6f0b24eb9",
   "metadata": {},
   "outputs": [],
   "source": [
    "income_over_avg=df[df.gross_income>df.gross_income.mean()] #customers with higher than avg income"
   ]
  },
  {
   "cell_type": "code",
   "execution_count": 10,
   "id": "13b1f6b6-013c-4ce6-a91d-c1bd85796628",
   "metadata": {},
   "outputs": [],
   "source": [
    "income_under_avg = df[df.gross_income<=df.gross_income.mean()] #customers with lower than avg income"
   ]
  },
  {
   "cell_type": "code",
   "execution_count": 11,
   "id": "3c64b656-a829-48f8-bc2d-3af2fe869611",
   "metadata": {},
   "outputs": [
    {
     "name": "stderr",
     "output_type": "stream",
     "text": [
      "<ipython-input-11-2b6e544a9b9e>:2: SettingWithCopyWarning: \n",
      "A value is trying to be set on a copy of a slice from a DataFrame.\n",
      "Try using .loc[row_indexer,col_indexer] = value instead\n",
      "\n",
      "See the caveats in the documentation: https://pandas.pydata.org/pandas-docs/stable/user_guide/indexing.html#returning-a-view-versus-a-copy\n",
      "  income_over_avg['activity'] = income_over_avg.num_credit_cards + income_over_avg.num_loans + income_over_avg.num_Products\n",
      "<ipython-input-11-2b6e544a9b9e>:3: SettingWithCopyWarning: \n",
      "A value is trying to be set on a copy of a slice from a DataFrame.\n",
      "Try using .loc[row_indexer,col_indexer] = value instead\n",
      "\n",
      "See the caveats in the documentation: https://pandas.pydata.org/pandas-docs/stable/user_guide/indexing.html#returning-a-view-versus-a-copy\n",
      "  income_under_avg['activity'] = income_under_avg.num_credit_cards + income_under_avg.num_loans + income_under_avg.num_Products\n"
     ]
    }
   ],
   "source": [
    "#now, we define activity as the sum of number of credit cards, number of loans and number of products.\n",
    "income_over_avg['activity'] = income_over_avg.num_credit_cards + income_over_avg.num_loans + income_over_avg.num_Products\n",
    "income_under_avg['activity'] = income_under_avg.num_credit_cards + income_under_avg.num_loans + income_under_avg.num_Products"
   ]
  },
  {
   "cell_type": "code",
   "execution_count": 12,
   "id": "74ff2b5d-6c12-48ba-b5f6-5b98ba39b88e",
   "metadata": {},
   "outputs": [
    {
     "data": {
      "text/plain": [
       "count    18779.000000\n",
       "mean         1.478460\n",
       "std          1.310998\n",
       "min          0.000000\n",
       "25%          1.000000\n",
       "50%          1.000000\n",
       "75%          2.000000\n",
       "max          7.000000\n",
       "Name: activity, dtype: float64"
      ]
     },
     "execution_count": 12,
     "metadata": {},
     "output_type": "execute_result"
    }
   ],
   "source": [
    "income_over_avg.activity.describe()\n",
    "#we see an average activity of 1.478 for people with more than avg income"
   ]
  },
  {
   "cell_type": "code",
   "execution_count": 13,
   "id": "c8e0809c-9ed7-43d1-a6cb-31d69dbdaa10",
   "metadata": {},
   "outputs": [
    {
     "data": {
      "text/plain": [
       "count    31363.000000\n",
       "mean         1.265313\n",
       "std          1.104878\n",
       "min          0.000000\n",
       "25%          1.000000\n",
       "50%          1.000000\n",
       "75%          1.000000\n",
       "max          7.000000\n",
       "Name: activity, dtype: float64"
      ]
     },
     "execution_count": 13,
     "metadata": {},
     "output_type": "execute_result"
    }
   ],
   "source": [
    "income_under_avg.activity.describe()\n",
    "#we see an average activity of 1.265 for people with less than avg income"
   ]
  },
  {
   "cell_type": "code",
   "execution_count": 14,
   "id": "a162a901-b7eb-4680-bf2e-6ffa35a90488",
   "metadata": {},
   "outputs": [
    {
     "data": {
      "text/plain": [
       "18.661557422982547"
      ]
     },
     "execution_count": 14,
     "metadata": {},
     "output_type": "execute_result"
    }
   ],
   "source": [
    "#a two sample Z-test to see if there is significant difference between the two activity means - the test statistic suggests indisputable evidence of this.\n",
    "#hence, there is a significant activity difference between people with lower than or higher than average incomes.\n",
    "(1.47846 - 1.265313)/np.sqrt((1.311**2/18779) + (1.105**2/31363))"
   ]
  },
  {
   "cell_type": "code",
   "execution_count": 15,
   "id": "4b05037f-c1fa-45f1-ba40-cc74b3c01213",
   "metadata": {},
   "outputs": [],
   "source": [
    "active=df[(df.tiprel_1mes_I==0)&(df.ind_actividad_cliente==1)] #customers who were active throughout"
   ]
  },
  {
   "cell_type": "code",
   "execution_count": 16,
   "id": "43d5090e-0a0f-4e3c-a611-5d528a5d3d07",
   "metadata": {},
   "outputs": [],
   "source": [
    "active_to_inactive = df[(df.tiprel_1mes_I==0)&(df.ind_actividad_cliente==0)] #customers who became inactive during the 6 month period"
   ]
  },
  {
   "cell_type": "code",
   "execution_count": 17,
   "id": "d3c9048f-7a85-4fa6-8647-200749c07e49",
   "metadata": {},
   "outputs": [
    {
     "data": {
      "text/plain": [
       "count    19893.000000\n",
       "mean         2.137988\n",
       "std          1.220720\n",
       "min          0.000000\n",
       "25%          1.000000\n",
       "50%          2.000000\n",
       "75%          3.000000\n",
       "max          5.000000\n",
       "Name: num_Products, dtype: float64"
      ]
     },
     "execution_count": 17,
     "metadata": {},
     "output_type": "execute_result"
    }
   ],
   "source": [
    "active.num_Products.describe() #description of number of products of active customers."
   ]
  },
  {
   "cell_type": "code",
   "execution_count": 18,
   "id": "a5ebb00e-70b3-4a25-879c-b05e03bed46e",
   "metadata": {},
   "outputs": [
    {
     "data": {
      "text/plain": [
       "count    2034.000000\n",
       "mean        0.779253\n",
       "std         0.688563\n",
       "min         0.000000\n",
       "25%         0.000000\n",
       "50%         1.000000\n",
       "75%         1.000000\n",
       "max         4.000000\n",
       "Name: num_Products, dtype: float64"
      ]
     },
     "execution_count": 18,
     "metadata": {},
     "output_type": "execute_result"
    }
   ],
   "source": [
    "active_to_inactive.num_Products.describe() #description of number of products of active-to-inactive customers."
   ]
  },
  {
   "cell_type": "code",
   "execution_count": 31,
   "id": "48103c79-e583-44fb-a337-c4661ea7a283",
   "metadata": {},
   "outputs": [
    {
     "data": {
      "text/plain": [
       "77.4204228127718"
      ]
     },
     "execution_count": 31,
     "metadata": {},
     "output_type": "execute_result"
    }
   ],
   "source": [
    "#two sample z-test for num_products between active vs active_to_inactive consumers. Z-statistic suggest indisputable evidence that the means are different.\n",
    "(2.137988 - 0.779253)/np.sqrt((1.220720**2/19893) + (0.688563**2/2034))"
   ]
  },
  {
   "cell_type": "code",
   "execution_count": 35,
   "id": "373349a9-1c64-4417-94ec-7fce5ee5d982",
   "metadata": {},
   "outputs": [],
   "source": [
    "#df containing all consistent consumers\n",
    "consistent = pd.merge(active,inactive,how='outer')"
   ]
  },
  {
   "cell_type": "code",
   "execution_count": 40,
   "id": "667d9beb-28bf-43bf-bd6f-e6224731955d",
   "metadata": {},
   "outputs": [],
   "source": [
    "#df containing all inconsistent consumers\n",
    "inconsistent = pd.merge(active_to_inactive,inactive_to_active,how='outer')"
   ]
  },
  {
   "cell_type": "code",
   "execution_count": 58,
   "id": "bbba70a7-c002-47e3-b288-4dd835a5acd5",
   "metadata": {},
   "outputs": [
    {
     "name": "stderr",
     "output_type": "stream",
     "text": [
      "C:\\Users\\Abhishek\\anaconda3\\lib\\site-packages\\seaborn\\_decorators.py:36: FutureWarning: Pass the following variable as a keyword arg: x. From version 0.12, the only valid positional argument will be `data`, and passing other arguments without an explicit keyword will result in an error or misinterpretation.\n",
      "  warnings.warn(\n"
     ]
    },
    {
     "data": {
      "text/plain": [
       "<AxesSubplot:ylabel='count'>"
      ]
     },
     "execution_count": 58,
     "metadata": {},
     "output_type": "execute_result"
    },
    {
     "data": {
      "image/png": "[encoded data removed]",
      "text/plain": [
       "<Figure size 432x288 with 1 Axes>"
      ]
     },
     "metadata": {
      "needs_background": "light"
     },
     "output_type": "display_data"
    }
   ],
   "source": [
    "#activity of consistent consumers\n",
    "sns.countplot(consistent.num_credit_cards+consistent.num_loans+consistent.num_Products)"
   ]
  },
  {
   "cell_type": "code",
   "execution_count": 48,
   "id": "2097b215-c7ef-4bd7-ab4b-6f902d096c1e",
   "metadata": {},
   "outputs": [
    {
     "name": "stderr",
     "output_type": "stream",
     "text": [
      "C:\\Users\\Abhishek\\anaconda3\\lib\\site-packages\\seaborn\\_decorators.py:36: FutureWarning: Pass the following variable as a keyword arg: x. From version 0.12, the only valid positional argument will be `data`, and passing other arguments without an explicit keyword will result in an error or misinterpretation.\n",
      "  warnings.warn(\n"
     ]
    },
    {
     "data": {
      "text/plain": [
       "<AxesSubplot:ylabel='count'>"
      ]
     },
     "execution_count": 48,
     "metadata": {},
     "output_type": "execute_result"
    },
    {
     "data": {
      "image/png": "[encoded data removed]",
      "text/plain": [
       "<Figure size 432x288 with 1 Axes>"
      ]
     },
     "metadata": {
      "needs_background": "light"
     },
     "output_type": "display_data"
    }
   ],
   "source": [
    "#activity of inconsistent consumers\n",
    "sns.countplot(inconsistent.num_credit_cards+inconsistent.num_loans+inconsistent.num_Products)"
   ]
  },
  {
   "cell_type": "code",
   "execution_count": 53,
   "id": "77239211-3df1-4f3d-b4c9-2abe875e1027",
   "metadata": {},
   "outputs": [
    {
     "data": {
      "text/html": [
       "<div>\n",
       "<style scoped>\n",
       "    .dataframe tbody tr th:only-of-type {\n",
       "        vertical-align: middle;\n",
       "    }\n",
       "\n",
       "    .dataframe tbody tr th {\n",
       "        vertical-align: top;\n",
       "    }\n",
       "\n",
       "    .dataframe thead th {\n",
       "        text-align: right;\n",
       "    }\n",
       "</style>\n",
       "<table border=\"1\" class=\"dataframe\">\n",
       "  <thead>\n",
       "    <tr style=\"text-align: right;\">\n",
       "      <th></th>\n",
       "      <th>count</th>\n",
       "      <th>mean</th>\n",
       "      <th>std</th>\n",
       "      <th>min</th>\n",
       "      <th>25%</th>\n",
       "      <th>50%</th>\n",
       "      <th>75%</th>\n",
       "      <th>max</th>\n",
       "    </tr>\n",
       "  </thead>\n",
       "  <tbody>\n",
       "    <tr>\n",
       "      <th>age</th>\n",
       "      <td>45730.0</td>\n",
       "      <td>40.189154</td>\n",
       "      <td>16.442749</td>\n",
       "      <td>20.00</td>\n",
       "      <td>25.0000</td>\n",
       "      <td>39.000</td>\n",
       "      <td>50.00</td>\n",
       "      <td>90.00</td>\n",
       "    </tr>\n",
       "    <tr>\n",
       "      <th>gross_income</th>\n",
       "      <td>45730.0</td>\n",
       "      <td>120928.010713</td>\n",
       "      <td>77815.247450</td>\n",
       "      <td>2336.01</td>\n",
       "      <td>67403.3025</td>\n",
       "      <td>99088.305</td>\n",
       "      <td>151459.05</td>\n",
       "      <td>499959.33</td>\n",
       "    </tr>\n",
       "    <tr>\n",
       "      <th>num_credit_cards</th>\n",
       "      <td>45730.0</td>\n",
       "      <td>0.029893</td>\n",
       "      <td>0.170294</td>\n",
       "      <td>0.00</td>\n",
       "      <td>0.0000</td>\n",
       "      <td>0.000</td>\n",
       "      <td>0.00</td>\n",
       "      <td>1.00</td>\n",
       "    </tr>\n",
       "    <tr>\n",
       "      <th>ind_actividad_cliente</th>\n",
       "      <td>45730.0</td>\n",
       "      <td>0.435010</td>\n",
       "      <td>0.495764</td>\n",
       "      <td>0.00</td>\n",
       "      <td>0.0000</td>\n",
       "      <td>0.000</td>\n",
       "      <td>1.00</td>\n",
       "      <td>1.00</td>\n",
       "    </tr>\n",
       "    <tr>\n",
       "      <th>num_Products</th>\n",
       "      <td>45730.0</td>\n",
       "      <td>1.337503</td>\n",
       "      <td>1.145030</td>\n",
       "      <td>0.00</td>\n",
       "      <td>1.0000</td>\n",
       "      <td>1.000</td>\n",
       "      <td>2.00</td>\n",
       "      <td>5.00</td>\n",
       "    </tr>\n",
       "    <tr>\n",
       "      <th>num_loans</th>\n",
       "      <td>45730.0</td>\n",
       "      <td>0.005532</td>\n",
       "      <td>0.074175</td>\n",
       "      <td>0.00</td>\n",
       "      <td>0.0000</td>\n",
       "      <td>0.000</td>\n",
       "      <td>0.00</td>\n",
       "      <td>1.00</td>\n",
       "    </tr>\n",
       "    <tr>\n",
       "      <th>duration</th>\n",
       "      <td>45730.0</td>\n",
       "      <td>2778.123836</td>\n",
       "      <td>1974.020791</td>\n",
       "      <td>366.00</td>\n",
       "      <td>1090.0000</td>\n",
       "      <td>1840.000</td>\n",
       "      <td>4444.00</td>\n",
       "      <td>7884.00</td>\n",
       "    </tr>\n",
       "    <tr>\n",
       "      <th>gender_M</th>\n",
       "      <td>45730.0</td>\n",
       "      <td>0.454887</td>\n",
       "      <td>0.497966</td>\n",
       "      <td>0.00</td>\n",
       "      <td>0.0000</td>\n",
       "      <td>0.000</td>\n",
       "      <td>1.00</td>\n",
       "      <td>1.00</td>\n",
       "    </tr>\n",
       "    <tr>\n",
       "      <th>segment_Individuals</th>\n",
       "      <td>45730.0</td>\n",
       "      <td>0.587710</td>\n",
       "      <td>0.492252</td>\n",
       "      <td>0.00</td>\n",
       "      <td>0.0000</td>\n",
       "      <td>1.000</td>\n",
       "      <td>1.00</td>\n",
       "      <td>1.00</td>\n",
       "    </tr>\n",
       "    <tr>\n",
       "      <th>segment_VIP</th>\n",
       "      <td>45730.0</td>\n",
       "      <td>0.036694</td>\n",
       "      <td>0.188011</td>\n",
       "      <td>0.00</td>\n",
       "      <td>0.0000</td>\n",
       "      <td>0.000</td>\n",
       "      <td>0.00</td>\n",
       "      <td>1.00</td>\n",
       "    </tr>\n",
       "    <tr>\n",
       "      <th>tiprel_1mes_I</th>\n",
       "      <td>45730.0</td>\n",
       "      <td>0.564990</td>\n",
       "      <td>0.495764</td>\n",
       "      <td>0.00</td>\n",
       "      <td>0.0000</td>\n",
       "      <td>1.000</td>\n",
       "      <td>1.00</td>\n",
       "      <td>1.00</td>\n",
       "    </tr>\n",
       "  </tbody>\n",
       "</table>\n",
       "</div>"
      ],
      "text/plain": [
       "                         count           mean           std      min  \\\n",
       "age                    45730.0      40.189154     16.442749    20.00   \n",
       "gross_income           45730.0  120928.010713  77815.247450  2336.01   \n",
       "num_credit_cards       45730.0       0.029893      0.170294     0.00   \n",
       "ind_actividad_cliente  45730.0       0.435010      0.495764     0.00   \n",
       "num_Products           45730.0       1.337503      1.145030     0.00   \n",
       "num_loans              45730.0       0.005532      0.074175     0.00   \n",
       "duration               45730.0    2778.123836   1974.020791   366.00   \n",
       "gender_M               45730.0       0.454887      0.497966     0.00   \n",
       "segment_Individuals    45730.0       0.587710      0.492252     0.00   \n",
       "segment_VIP            45730.0       0.036694      0.188011     0.00   \n",
       "tiprel_1mes_I          45730.0       0.564990      0.495764     0.00   \n",
       "\n",
       "                              25%        50%        75%        max  \n",
       "age                       25.0000     39.000      50.00      90.00  \n",
       "gross_income           67403.3025  99088.305  151459.05  499959.33  \n",
       "num_credit_cards           0.0000      0.000       0.00       1.00  \n",
       "ind_actividad_cliente      0.0000      0.000       1.00       1.00  \n",
       "num_Products               1.0000      1.000       2.00       5.00  \n",
       "num_loans                  0.0000      0.000       0.00       1.00  \n",
       "duration                1090.0000   1840.000    4444.00    7884.00  \n",
       "gender_M                   0.0000      0.000       1.00       1.00  \n",
       "segment_Individuals        0.0000      1.000       1.00       1.00  \n",
       "segment_VIP                0.0000      0.000       0.00       1.00  \n",
       "tiprel_1mes_I              0.0000      1.000       1.00       1.00  "
      ]
     },
     "execution_count": 53,
     "metadata": {},
     "output_type": "execute_result"
    }
   ],
   "source": [
    "consistent.describe().T"
   ]
  },
  {
   "cell_type": "code",
   "execution_count": 95,
   "id": "6f367d11-f1da-468c-8aef-07e3b226bcbc",
   "metadata": {},
   "outputs": [
    {
     "data": {
      "text/html": [
       "<div>\n",
       "<style scoped>\n",
       "    .dataframe tbody tr th:only-of-type {\n",
       "        vertical-align: middle;\n",
       "    }\n",
       "\n",
       "    .dataframe tbody tr th {\n",
       "        vertical-align: top;\n",
       "    }\n",
       "\n",
       "    .dataframe thead th {\n",
       "        text-align: right;\n",
       "    }\n",
       "</style>\n",
       "<table border=\"1\" class=\"dataframe\">\n",
       "  <thead>\n",
       "    <tr style=\"text-align: right;\">\n",
       "      <th></th>\n",
       "      <th>count</th>\n",
       "      <th>mean</th>\n",
       "      <th>std</th>\n",
       "      <th>min</th>\n",
       "      <th>25%</th>\n",
       "      <th>50%</th>\n",
       "      <th>75%</th>\n",
       "      <th>max</th>\n",
       "    </tr>\n",
       "  </thead>\n",
       "  <tbody>\n",
       "    <tr>\n",
       "      <th>age</th>\n",
       "      <td>4412.0</td>\n",
       "      <td>41.590888</td>\n",
       "      <td>17.393707</td>\n",
       "      <td>20.00</td>\n",
       "      <td>25.00</td>\n",
       "      <td>40.000</td>\n",
       "      <td>53.00</td>\n",
       "      <td>90.00</td>\n",
       "    </tr>\n",
       "    <tr>\n",
       "      <th>gross_income</th>\n",
       "      <td>4412.0</td>\n",
       "      <td>120782.801015</td>\n",
       "      <td>78499.956558</td>\n",
       "      <td>9049.62</td>\n",
       "      <td>67083.66</td>\n",
       "      <td>99092.565</td>\n",
       "      <td>149823.93</td>\n",
       "      <td>498777.63</td>\n",
       "    </tr>\n",
       "    <tr>\n",
       "      <th>num_credit_cards</th>\n",
       "      <td>4412.0</td>\n",
       "      <td>0.004080</td>\n",
       "      <td>0.063750</td>\n",
       "      <td>0.00</td>\n",
       "      <td>0.00</td>\n",
       "      <td>0.000</td>\n",
       "      <td>0.00</td>\n",
       "      <td>1.00</td>\n",
       "    </tr>\n",
       "    <tr>\n",
       "      <th>ind_actividad_cliente</th>\n",
       "      <td>4412.0</td>\n",
       "      <td>0.538985</td>\n",
       "      <td>0.498534</td>\n",
       "      <td>0.00</td>\n",
       "      <td>0.00</td>\n",
       "      <td>1.000</td>\n",
       "      <td>1.00</td>\n",
       "      <td>1.00</td>\n",
       "    </tr>\n",
       "    <tr>\n",
       "      <th>num_Products</th>\n",
       "      <td>4412.0</td>\n",
       "      <td>1.047371</td>\n",
       "      <td>0.656844</td>\n",
       "      <td>0.00</td>\n",
       "      <td>1.00</td>\n",
       "      <td>1.000</td>\n",
       "      <td>1.00</td>\n",
       "      <td>4.00</td>\n",
       "    </tr>\n",
       "    <tr>\n",
       "      <th>num_loans</th>\n",
       "      <td>4412.0</td>\n",
       "      <td>0.005666</td>\n",
       "      <td>0.075070</td>\n",
       "      <td>0.00</td>\n",
       "      <td>0.00</td>\n",
       "      <td>0.000</td>\n",
       "      <td>0.00</td>\n",
       "      <td>1.00</td>\n",
       "    </tr>\n",
       "    <tr>\n",
       "      <th>duration</th>\n",
       "      <td>4412.0</td>\n",
       "      <td>2991.237987</td>\n",
       "      <td>2129.632990</td>\n",
       "      <td>366.00</td>\n",
       "      <td>1070.00</td>\n",
       "      <td>2199.000</td>\n",
       "      <td>5017.25</td>\n",
       "      <td>7879.00</td>\n",
       "    </tr>\n",
       "    <tr>\n",
       "      <th>gender_M</th>\n",
       "      <td>4412.0</td>\n",
       "      <td>0.433590</td>\n",
       "      <td>0.495626</td>\n",
       "      <td>0.00</td>\n",
       "      <td>0.00</td>\n",
       "      <td>0.000</td>\n",
       "      <td>1.00</td>\n",
       "      <td>1.00</td>\n",
       "    </tr>\n",
       "    <tr>\n",
       "      <th>segment_Individuals</th>\n",
       "      <td>4412.0</td>\n",
       "      <td>0.654125</td>\n",
       "      <td>0.475707</td>\n",
       "      <td>0.00</td>\n",
       "      <td>0.00</td>\n",
       "      <td>1.000</td>\n",
       "      <td>1.00</td>\n",
       "      <td>1.00</td>\n",
       "    </tr>\n",
       "    <tr>\n",
       "      <th>segment_VIP</th>\n",
       "      <td>4412.0</td>\n",
       "      <td>0.007253</td>\n",
       "      <td>0.084864</td>\n",
       "      <td>0.00</td>\n",
       "      <td>0.00</td>\n",
       "      <td>0.000</td>\n",
       "      <td>0.00</td>\n",
       "      <td>1.00</td>\n",
       "    </tr>\n",
       "    <tr>\n",
       "      <th>tiprel_1mes_I</th>\n",
       "      <td>4412.0</td>\n",
       "      <td>0.538985</td>\n",
       "      <td>0.498534</td>\n",
       "      <td>0.00</td>\n",
       "      <td>0.00</td>\n",
       "      <td>1.000</td>\n",
       "      <td>1.00</td>\n",
       "      <td>1.00</td>\n",
       "    </tr>\n",
       "  </tbody>\n",
       "</table>\n",
       "</div>"
      ],
      "text/plain": [
       "                        count           mean           std      min       25%  \\\n",
       "age                    4412.0      41.590888     17.393707    20.00     25.00   \n",
       "gross_income           4412.0  120782.801015  78499.956558  9049.62  67083.66   \n",
       "num_credit_cards       4412.0       0.004080      0.063750     0.00      0.00   \n",
       "ind_actividad_cliente  4412.0       0.538985      0.498534     0.00      0.00   \n",
       "num_Products           4412.0       1.047371      0.656844     0.00      1.00   \n",
       "num_loans              4412.0       0.005666      0.075070     0.00      0.00   \n",
       "duration               4412.0    2991.237987   2129.632990   366.00   1070.00   \n",
       "gender_M               4412.0       0.433590      0.495626     0.00      0.00   \n",
       "segment_Individuals    4412.0       0.654125      0.475707     0.00      0.00   \n",
       "segment_VIP            4412.0       0.007253      0.084864     0.00      0.00   \n",
       "tiprel_1mes_I          4412.0       0.538985      0.498534     0.00      0.00   \n",
       "\n",
       "                             50%        75%        max  \n",
       "age                       40.000      53.00      90.00  \n",
       "gross_income           99092.565  149823.93  498777.63  \n",
       "num_credit_cards           0.000       0.00       1.00  \n",
       "ind_actividad_cliente      1.000       1.00       1.00  \n",
       "num_Products               1.000       1.00       4.00  \n",
       "num_loans                  0.000       0.00       1.00  \n",
       "duration                2199.000    5017.25    7879.00  \n",
       "gender_M                   0.000       1.00       1.00  \n",
       "segment_Individuals        1.000       1.00       1.00  \n",
       "segment_VIP                0.000       0.00       1.00  \n",
       "tiprel_1mes_I              1.000       1.00       1.00  "
      ]
     },
     "execution_count": 95,
     "metadata": {},
     "output_type": "execute_result"
    }
   ],
   "source": [
    "inconsistent.describe().T"
   ]
  },
  {
   "cell_type": "code",
   "execution_count": 19,
   "id": "4d3165b4-41d9-4a93-86c3-d3412bd9036d",
   "metadata": {},
   "outputs": [],
   "source": [
    "inactive = df[(df.tiprel_1mes_I==1)&(df.ind_actividad_cliente==0)]"
   ]
  },
  {
   "cell_type": "markdown",
   "id": "6592d7da-7429-4c67-9348-69ffb3df8b1e",
   "metadata": {},
   "source": [
    "### We now have all 4 segments of customers - active throughout, inactive throughout, active to inactive, and inactive to active\n",
    "Let's use these dataframes to find more about these 4 segments"
   ]
  },
  {
   "cell_type": "code",
   "execution_count": 20,
   "id": "c0be5641-8b65-4bfc-bd8a-b85ba2646cd1",
   "metadata": {},
   "outputs": [
    {
     "data": {
      "text/plain": [
       "<AxesSubplot:ylabel='count'>"
      ]
     },
     "execution_count": 20,
     "metadata": {},
     "output_type": "execute_result"
    },
    {
     "data": {
      "image/png": "[encoded data removed]",
      "text/plain": [
       "<Figure size 432x288 with 1 Axes>"
      ]
     },
     "metadata": {
      "needs_background": "light"
     },
     "output_type": "display_data"
    }
   ],
   "source": [
    "#'activity' of active customers\n",
    "sns.countplot(x=active.num_Products+active.num_loans+active.num_credit_cards)"
   ]
  },
  {
   "cell_type": "code",
   "execution_count": 21,
   "id": "10494405-3ec4-4505-a6ea-445016dd89ba",
   "metadata": {},
   "outputs": [
    {
     "data": {
      "text/plain": [
       "<AxesSubplot:ylabel='count'>"
      ]
     },
     "execution_count": 21,
     "metadata": {},
     "output_type": "execute_result"
    },
    {
     "data": {
      "image/png": "[encoded data removed]",
      "text/plain": [
       "<Figure size 432x288 with 1 Axes>"
      ]
     },
     "metadata": {
      "needs_background": "light"
     },
     "output_type": "display_data"
    }
   ],
   "source": [
    "#'activity' of inactive customers\n",
    "sns.countplot(x=inactive.num_Products+inactive.num_loans+inactive.num_credit_cards)"
   ]
  },
  {
   "cell_type": "code",
   "execution_count": 22,
   "id": "865c8cf6-e97b-4eea-b0f8-d8fbd557057a",
   "metadata": {},
   "outputs": [
    {
     "data": {
      "text/plain": [
       "<AxesSubplot:ylabel='count'>"
      ]
     },
     "execution_count": 22,
     "metadata": {},
     "output_type": "execute_result"
    },
    {
     "data": {
      "image/png": "[encoded data removed]",
      "text/plain": [
       "<Figure size 432x288 with 1 Axes>"
      ]
     },
     "metadata": {
      "needs_background": "light"
     },
     "output_type": "display_data"
    }
   ],
   "source": [
    "#'activity' of active-to-inactive customers\n",
    "sns.countplot(x=active_to_inactive.num_Products+active_to_inactive.num_loans+active_to_inactive.num_credit_cards)"
   ]
  },
  {
   "cell_type": "code",
   "execution_count": 23,
   "id": "b4670a3a-32d5-4db6-bd08-83cbf81edc0f",
   "metadata": {},
   "outputs": [
    {
     "data": {
      "text/plain": [
       "<AxesSubplot:ylabel='count'>"
      ]
     },
     "execution_count": 23,
     "metadata": {},
     "output_type": "execute_result"
    },
    {
     "data": {
      "image/png": "[encoded data removed]",
      "text/plain": [
       "<Figure size 432x288 with 1 Axes>"
      ]
     },
     "metadata": {
      "needs_background": "light"
     },
     "output_type": "display_data"
    }
   ],
   "source": [
    "#'activity' of inactive-to-active customers\n",
    "sns.countplot(x=inactive_to_active.num_Products+inactive_to_active.num_loans+inactive_to_active.num_credit_cards)"
   ]
  },
  {
   "cell_type": "code",
   "execution_count": 93,
   "id": "ad78ed9f-ebb1-4ea0-b4c1-43afd7dc2ff2",
   "metadata": {},
   "outputs": [
    {
     "data": {
      "image/png": "[encoded data removed]",
      "text/plain": [
       "<Figure size 864x504 with 4 Axes>"
      ]
     },
     "metadata": {
      "needs_background": "light"
     },
     "output_type": "display_data"
    }
   ],
   "source": [
    "#income comparison\n",
    "import matplotlib.pyplot as plt\n",
    "plt.subplots(2,2)\n",
    "plt.subplot(221)\n",
    "active.gross_income.plot(kind='hist',figsize=(12,7))\n",
    "plt.subplot(222)\n",
    "inactive.gross_income.plot(kind='hist')\n",
    "plt.subplot(223)\n",
    "active_to_inactive.gross_income.plot(kind='hist')\n",
    "plt.subplot(224)\n",
    "inactive_to_active.gross_income.plot(kind='hist');"
   ]
  },
  {
   "cell_type": "code",
   "execution_count": null,
   "id": "b0123e08-1c6f-4546-978a-021c9a7f7e35",
   "metadata": {},
   "outputs": [],
   "source": []
  }
 ],
 "metadata": {
  "kernelspec": {
   "display_name": "Python 3",
   "language": "python",
   "name": "python3"
  },
  "language_info": {
   "codemirror_mode": {
    "name": "ipython",
    "version": 3
   },
   "file_extension": ".py",
   "mimetype": "text/x-python",
   "name": "python",
   "nbconvert_exporter": "python",
   "pygments_lexer": "ipython3",
   "version": "3.8.8"
  }
 },
 "nbformat": 4,
 "nbformat_minor": 5
}
